{
 "cells": [
  {
   "cell_type": "markdown",
   "metadata": {},
   "source": [
    "# Clustering Crypto"
   ]
  },
  {
   "cell_type": "code",
   "execution_count": 79,
   "metadata": {},
   "outputs": [],
   "source": [
    "# Initial imports\n",
    "import pandas as pd\n",
    "import hvplot.pandas\n",
    "from path import Path\n",
    "import plotly.express as px\n",
    "from sklearn.preprocessing import StandardScaler, MinMaxScaler\n",
    "from sklearn.decomposition import PCA\n",
    "from sklearn.cluster import KMeans\n"
   ]
  },
  {
   "cell_type": "markdown",
   "metadata": {},
   "source": [
    "### Deliverable 1: Preprocessing the Data for PCA"
   ]
  },
  {
   "cell_type": "code",
   "execution_count": 80,
   "metadata": {},
   "outputs": [
    {
     "data": {
      "text/html": [
       "<div>\n",
       "<style scoped>\n",
       "    .dataframe tbody tr th:only-of-type {\n",
       "        vertical-align: middle;\n",
       "    }\n",
       "\n",
       "    .dataframe tbody tr th {\n",
       "        vertical-align: top;\n",
       "    }\n",
       "\n",
       "    .dataframe thead th {\n",
       "        text-align: right;\n",
       "    }\n",
       "</style>\n",
       "<table border=\"1\" class=\"dataframe\">\n",
       "  <thead>\n",
       "    <tr style=\"text-align: right;\">\n",
       "      <th></th>\n",
       "      <th>CoinName</th>\n",
       "      <th>Algorithm</th>\n",
       "      <th>IsTrading</th>\n",
       "      <th>ProofType</th>\n",
       "      <th>TotalCoinsMined</th>\n",
       "      <th>TotalCoinSupply</th>\n",
       "    </tr>\n",
       "  </thead>\n",
       "  <tbody>\n",
       "    <tr>\n",
       "      <th>42</th>\n",
       "      <td>42 Coin</td>\n",
       "      <td>Scrypt</td>\n",
       "      <td>True</td>\n",
       "      <td>PoW/PoS</td>\n",
       "      <td>4.199995e+01</td>\n",
       "      <td>42</td>\n",
       "    </tr>\n",
       "    <tr>\n",
       "      <th>365</th>\n",
       "      <td>365Coin</td>\n",
       "      <td>X11</td>\n",
       "      <td>True</td>\n",
       "      <td>PoW/PoS</td>\n",
       "      <td>NaN</td>\n",
       "      <td>2300000000</td>\n",
       "    </tr>\n",
       "    <tr>\n",
       "      <th>404</th>\n",
       "      <td>404Coin</td>\n",
       "      <td>Scrypt</td>\n",
       "      <td>True</td>\n",
       "      <td>PoW/PoS</td>\n",
       "      <td>1.055185e+09</td>\n",
       "      <td>532000000</td>\n",
       "    </tr>\n",
       "    <tr>\n",
       "      <th>611</th>\n",
       "      <td>SixEleven</td>\n",
       "      <td>SHA-256</td>\n",
       "      <td>True</td>\n",
       "      <td>PoW</td>\n",
       "      <td>NaN</td>\n",
       "      <td>611000</td>\n",
       "    </tr>\n",
       "    <tr>\n",
       "      <th>808</th>\n",
       "      <td>808</td>\n",
       "      <td>SHA-256</td>\n",
       "      <td>True</td>\n",
       "      <td>PoW/PoS</td>\n",
       "      <td>0.000000e+00</td>\n",
       "      <td>0</td>\n",
       "    </tr>\n",
       "    <tr>\n",
       "      <th>1337</th>\n",
       "      <td>EliteCoin</td>\n",
       "      <td>X13</td>\n",
       "      <td>True</td>\n",
       "      <td>PoW/PoS</td>\n",
       "      <td>2.927942e+10</td>\n",
       "      <td>314159265359</td>\n",
       "    </tr>\n",
       "    <tr>\n",
       "      <th>2015</th>\n",
       "      <td>2015 coin</td>\n",
       "      <td>X11</td>\n",
       "      <td>True</td>\n",
       "      <td>PoW/PoS</td>\n",
       "      <td>NaN</td>\n",
       "      <td>0</td>\n",
       "    </tr>\n",
       "    <tr>\n",
       "      <th>BTC</th>\n",
       "      <td>Bitcoin</td>\n",
       "      <td>SHA-256</td>\n",
       "      <td>True</td>\n",
       "      <td>PoW</td>\n",
       "      <td>1.792718e+07</td>\n",
       "      <td>21000000</td>\n",
       "    </tr>\n",
       "    <tr>\n",
       "      <th>ETH</th>\n",
       "      <td>Ethereum</td>\n",
       "      <td>Ethash</td>\n",
       "      <td>True</td>\n",
       "      <td>PoW</td>\n",
       "      <td>1.076842e+08</td>\n",
       "      <td>0</td>\n",
       "    </tr>\n",
       "    <tr>\n",
       "      <th>LTC</th>\n",
       "      <td>Litecoin</td>\n",
       "      <td>Scrypt</td>\n",
       "      <td>True</td>\n",
       "      <td>PoW</td>\n",
       "      <td>6.303924e+07</td>\n",
       "      <td>84000000</td>\n",
       "    </tr>\n",
       "  </tbody>\n",
       "</table>\n",
       "</div>"
      ],
      "text/plain": [
       "       CoinName Algorithm  IsTrading ProofType  TotalCoinsMined  \\\n",
       "42      42 Coin    Scrypt       True   PoW/PoS     4.199995e+01   \n",
       "365     365Coin       X11       True   PoW/PoS              NaN   \n",
       "404     404Coin    Scrypt       True   PoW/PoS     1.055185e+09   \n",
       "611   SixEleven   SHA-256       True       PoW              NaN   \n",
       "808         808   SHA-256       True   PoW/PoS     0.000000e+00   \n",
       "1337  EliteCoin       X13       True   PoW/PoS     2.927942e+10   \n",
       "2015  2015 coin       X11       True   PoW/PoS              NaN   \n",
       "BTC     Bitcoin   SHA-256       True       PoW     1.792718e+07   \n",
       "ETH    Ethereum    Ethash       True       PoW     1.076842e+08   \n",
       "LTC    Litecoin    Scrypt       True       PoW     6.303924e+07   \n",
       "\n",
       "     TotalCoinSupply  \n",
       "42                42  \n",
       "365       2300000000  \n",
       "404        532000000  \n",
       "611           611000  \n",
       "808                0  \n",
       "1337    314159265359  \n",
       "2015               0  \n",
       "BTC         21000000  \n",
       "ETH                0  \n",
       "LTC         84000000  "
      ]
     },
     "execution_count": 80,
     "metadata": {},
     "output_type": "execute_result"
    }
   ],
   "source": [
    "# Load the crypto_data.csv dataset.\n",
    "# YOUR CODE HERE\n",
    "file_path = (\"./Resources/crypto_data.csv\")\n",
    "# crypto_df = pd.read_csv(file_path)\n",
    "crypto_df = pd.read_csv(file_path, index_col=\"Unnamed: 0\")\n",
    "crypto_df.head(10)"
   ]
  },
  {
   "cell_type": "code",
   "execution_count": 81,
   "metadata": {},
   "outputs": [
    {
     "name": "stdout",
     "output_type": "stream",
     "text": [
      "         CoinName    Algorithm  IsTrading ProofType  TotalCoinsMined  \\\n",
      "42        42 Coin       Scrypt       True   PoW/PoS     4.199995e+01   \n",
      "365       365Coin          X11       True   PoW/PoS              NaN   \n",
      "404       404Coin       Scrypt       True   PoW/PoS     1.055185e+09   \n",
      "611     SixEleven      SHA-256       True       PoW              NaN   \n",
      "808           808      SHA-256       True   PoW/PoS     0.000000e+00   \n",
      "...           ...          ...        ...       ...              ...   \n",
      "SERO   Super Zero       Ethash       True       PoW              NaN   \n",
      "UOS           UOS      SHA-256       True      DPoI              NaN   \n",
      "BDX        Beldex  CryptoNight       True       PoW     9.802226e+08   \n",
      "ZEN       Horizen     Equihash       True       PoW     7.296538e+06   \n",
      "XBC   BitcoinPlus       Scrypt       True       PoS     1.283270e+05   \n",
      "\n",
      "     TotalCoinSupply  \n",
      "42                42  \n",
      "365       2300000000  \n",
      "404        532000000  \n",
      "611           611000  \n",
      "808                0  \n",
      "...              ...  \n",
      "SERO      1000000000  \n",
      "UOS       1000000000  \n",
      "BDX       1400222610  \n",
      "ZEN         21000000  \n",
      "XBC          1000000  \n",
      "\n",
      "[1144 rows x 6 columns]\n"
     ]
    },
    {
     "data": {
      "text/html": [
       "<div>\n",
       "<style scoped>\n",
       "    .dataframe tbody tr th:only-of-type {\n",
       "        vertical-align: middle;\n",
       "    }\n",
       "\n",
       "    .dataframe tbody tr th {\n",
       "        vertical-align: top;\n",
       "    }\n",
       "\n",
       "    .dataframe thead th {\n",
       "        text-align: right;\n",
       "    }\n",
       "</style>\n",
       "<table border=\"1\" class=\"dataframe\">\n",
       "  <thead>\n",
       "    <tr style=\"text-align: right;\">\n",
       "      <th></th>\n",
       "      <th>CoinName</th>\n",
       "      <th>Algorithm</th>\n",
       "      <th>IsTrading</th>\n",
       "      <th>ProofType</th>\n",
       "      <th>TotalCoinsMined</th>\n",
       "      <th>TotalCoinSupply</th>\n",
       "    </tr>\n",
       "  </thead>\n",
       "  <tbody>\n",
       "    <tr>\n",
       "      <th>42</th>\n",
       "      <td>42 Coin</td>\n",
       "      <td>Scrypt</td>\n",
       "      <td>True</td>\n",
       "      <td>PoW/PoS</td>\n",
       "      <td>4.199995e+01</td>\n",
       "      <td>42</td>\n",
       "    </tr>\n",
       "    <tr>\n",
       "      <th>365</th>\n",
       "      <td>365Coin</td>\n",
       "      <td>X11</td>\n",
       "      <td>True</td>\n",
       "      <td>PoW/PoS</td>\n",
       "      <td>NaN</td>\n",
       "      <td>2300000000</td>\n",
       "    </tr>\n",
       "    <tr>\n",
       "      <th>404</th>\n",
       "      <td>404Coin</td>\n",
       "      <td>Scrypt</td>\n",
       "      <td>True</td>\n",
       "      <td>PoW/PoS</td>\n",
       "      <td>1.055185e+09</td>\n",
       "      <td>532000000</td>\n",
       "    </tr>\n",
       "    <tr>\n",
       "      <th>611</th>\n",
       "      <td>SixEleven</td>\n",
       "      <td>SHA-256</td>\n",
       "      <td>True</td>\n",
       "      <td>PoW</td>\n",
       "      <td>NaN</td>\n",
       "      <td>611000</td>\n",
       "    </tr>\n",
       "    <tr>\n",
       "      <th>808</th>\n",
       "      <td>808</td>\n",
       "      <td>SHA-256</td>\n",
       "      <td>True</td>\n",
       "      <td>PoW/PoS</td>\n",
       "      <td>0.000000e+00</td>\n",
       "      <td>0</td>\n",
       "    </tr>\n",
       "    <tr>\n",
       "      <th>1337</th>\n",
       "      <td>EliteCoin</td>\n",
       "      <td>X13</td>\n",
       "      <td>True</td>\n",
       "      <td>PoW/PoS</td>\n",
       "      <td>2.927942e+10</td>\n",
       "      <td>314159265359</td>\n",
       "    </tr>\n",
       "    <tr>\n",
       "      <th>2015</th>\n",
       "      <td>2015 coin</td>\n",
       "      <td>X11</td>\n",
       "      <td>True</td>\n",
       "      <td>PoW/PoS</td>\n",
       "      <td>NaN</td>\n",
       "      <td>0</td>\n",
       "    </tr>\n",
       "    <tr>\n",
       "      <th>BTC</th>\n",
       "      <td>Bitcoin</td>\n",
       "      <td>SHA-256</td>\n",
       "      <td>True</td>\n",
       "      <td>PoW</td>\n",
       "      <td>1.792718e+07</td>\n",
       "      <td>21000000</td>\n",
       "    </tr>\n",
       "    <tr>\n",
       "      <th>ETH</th>\n",
       "      <td>Ethereum</td>\n",
       "      <td>Ethash</td>\n",
       "      <td>True</td>\n",
       "      <td>PoW</td>\n",
       "      <td>1.076842e+08</td>\n",
       "      <td>0</td>\n",
       "    </tr>\n",
       "    <tr>\n",
       "      <th>LTC</th>\n",
       "      <td>Litecoin</td>\n",
       "      <td>Scrypt</td>\n",
       "      <td>True</td>\n",
       "      <td>PoW</td>\n",
       "      <td>6.303924e+07</td>\n",
       "      <td>84000000</td>\n",
       "    </tr>\n",
       "  </tbody>\n",
       "</table>\n",
       "</div>"
      ],
      "text/plain": [
       "       CoinName Algorithm  IsTrading ProofType  TotalCoinsMined  \\\n",
       "42      42 Coin    Scrypt       True   PoW/PoS     4.199995e+01   \n",
       "365     365Coin       X11       True   PoW/PoS              NaN   \n",
       "404     404Coin    Scrypt       True   PoW/PoS     1.055185e+09   \n",
       "611   SixEleven   SHA-256       True       PoW              NaN   \n",
       "808         808   SHA-256       True   PoW/PoS     0.000000e+00   \n",
       "1337  EliteCoin       X13       True   PoW/PoS     2.927942e+10   \n",
       "2015  2015 coin       X11       True   PoW/PoS              NaN   \n",
       "BTC     Bitcoin   SHA-256       True       PoW     1.792718e+07   \n",
       "ETH    Ethereum    Ethash       True       PoW     1.076842e+08   \n",
       "LTC    Litecoin    Scrypt       True       PoW     6.303924e+07   \n",
       "\n",
       "     TotalCoinSupply  \n",
       "42                42  \n",
       "365       2300000000  \n",
       "404        532000000  \n",
       "611           611000  \n",
       "808                0  \n",
       "1337    314159265359  \n",
       "2015               0  \n",
       "BTC         21000000  \n",
       "ETH                0  \n",
       "LTC         84000000  "
      ]
     },
     "execution_count": 81,
     "metadata": {},
     "output_type": "execute_result"
    }
   ],
   "source": [
    "# Keep all the cryptocurrencies that are being traded.\n",
    "# YOUR CODE HERE\n",
    "crypto_df_traded = crypto_df.loc[crypto_df[\"IsTrading\"] == True]\n",
    "print(crypto_df_traded)\n",
    "crypto_df_traded.head(10)\n",
    "# crypto_df.loc[crypto_df[\"IsTrading\"] == True]"
   ]
  },
  {
   "cell_type": "code",
   "execution_count": null,
   "metadata": {},
   "outputs": [],
   "source": [
    "# Keep all the cryptocurrencies that have a working algorithm.\n",
    "# YOUR CODE HERE\n",
    "# Per Jon Richards, we are to comment that there are no invalid or null Algorithm values, and move on."
   ]
  },
  {
   "cell_type": "code",
   "execution_count": 82,
   "metadata": {},
   "outputs": [
    {
     "name": "stdout",
     "output_type": "stream",
     "text": [
      "         CoinName    Algorithm ProofType  TotalCoinsMined TotalCoinSupply\n",
      "42        42 Coin       Scrypt   PoW/PoS     4.199995e+01              42\n",
      "365       365Coin          X11   PoW/PoS              NaN      2300000000\n",
      "404       404Coin       Scrypt   PoW/PoS     1.055185e+09       532000000\n",
      "611     SixEleven      SHA-256       PoW              NaN          611000\n",
      "808           808      SHA-256   PoW/PoS     0.000000e+00               0\n",
      "...           ...          ...       ...              ...             ...\n",
      "SERO   Super Zero       Ethash       PoW              NaN      1000000000\n",
      "UOS           UOS      SHA-256      DPoI              NaN      1000000000\n",
      "BDX        Beldex  CryptoNight       PoW     9.802226e+08      1400222610\n",
      "ZEN       Horizen     Equihash       PoW     7.296538e+06        21000000\n",
      "XBC   BitcoinPlus       Scrypt       PoS     1.283270e+05         1000000\n",
      "\n",
      "[1144 rows x 5 columns]\n"
     ]
    },
    {
     "data": {
      "text/html": [
       "<div>\n",
       "<style scoped>\n",
       "    .dataframe tbody tr th:only-of-type {\n",
       "        vertical-align: middle;\n",
       "    }\n",
       "\n",
       "    .dataframe tbody tr th {\n",
       "        vertical-align: top;\n",
       "    }\n",
       "\n",
       "    .dataframe thead th {\n",
       "        text-align: right;\n",
       "    }\n",
       "</style>\n",
       "<table border=\"1\" class=\"dataframe\">\n",
       "  <thead>\n",
       "    <tr style=\"text-align: right;\">\n",
       "      <th></th>\n",
       "      <th>CoinName</th>\n",
       "      <th>Algorithm</th>\n",
       "      <th>ProofType</th>\n",
       "      <th>TotalCoinsMined</th>\n",
       "      <th>TotalCoinSupply</th>\n",
       "    </tr>\n",
       "  </thead>\n",
       "  <tbody>\n",
       "    <tr>\n",
       "      <th>42</th>\n",
       "      <td>42 Coin</td>\n",
       "      <td>Scrypt</td>\n",
       "      <td>PoW/PoS</td>\n",
       "      <td>4.199995e+01</td>\n",
       "      <td>42</td>\n",
       "    </tr>\n",
       "    <tr>\n",
       "      <th>365</th>\n",
       "      <td>365Coin</td>\n",
       "      <td>X11</td>\n",
       "      <td>PoW/PoS</td>\n",
       "      <td>NaN</td>\n",
       "      <td>2300000000</td>\n",
       "    </tr>\n",
       "    <tr>\n",
       "      <th>404</th>\n",
       "      <td>404Coin</td>\n",
       "      <td>Scrypt</td>\n",
       "      <td>PoW/PoS</td>\n",
       "      <td>1.055185e+09</td>\n",
       "      <td>532000000</td>\n",
       "    </tr>\n",
       "    <tr>\n",
       "      <th>611</th>\n",
       "      <td>SixEleven</td>\n",
       "      <td>SHA-256</td>\n",
       "      <td>PoW</td>\n",
       "      <td>NaN</td>\n",
       "      <td>611000</td>\n",
       "    </tr>\n",
       "    <tr>\n",
       "      <th>808</th>\n",
       "      <td>808</td>\n",
       "      <td>SHA-256</td>\n",
       "      <td>PoW/PoS</td>\n",
       "      <td>0.000000e+00</td>\n",
       "      <td>0</td>\n",
       "    </tr>\n",
       "  </tbody>\n",
       "</table>\n",
       "</div>"
      ],
      "text/plain": [
       "      CoinName Algorithm ProofType  TotalCoinsMined TotalCoinSupply\n",
       "42     42 Coin    Scrypt   PoW/PoS     4.199995e+01              42\n",
       "365    365Coin       X11   PoW/PoS              NaN      2300000000\n",
       "404    404Coin    Scrypt   PoW/PoS     1.055185e+09       532000000\n",
       "611  SixEleven   SHA-256       PoW              NaN          611000\n",
       "808        808   SHA-256   PoW/PoS     0.000000e+00               0"
      ]
     },
     "execution_count": 82,
     "metadata": {},
     "output_type": "execute_result"
    }
   ],
   "source": [
    "# Remove the \"IsTrading\" column. \n",
    "# YOUR CODE HERE\n",
    "crypto_df_drop = crypto_df_traded.drop(['IsTrading'], axis=1)\n",
    "print(crypto_df_drop)\n",
    "# crypto_df_drop.head(10)\n",
    "# crypto_df_traded.drop(['IsTrading'], axis=1, inplace = True)\n",
    "crypto_df_drop.head()"
   ]
  },
  {
   "cell_type": "code",
   "execution_count": 83,
   "metadata": {},
   "outputs": [],
   "source": [
    "# Remove rows that have at least 1 null value.\n",
    "# YOUR CODE HERE\n",
    "crypto_df_drop = crypto_df_drop.dropna()"
   ]
  },
  {
   "cell_type": "code",
   "execution_count": 84,
   "metadata": {},
   "outputs": [
    {
     "name": "stdout",
     "output_type": "stream",
     "text": [
      "         CoinName    Algorithm ProofType  TotalCoinsMined TotalCoinSupply\n",
      "42        42 Coin       Scrypt   PoW/PoS     4.199995e+01              42\n",
      "404       404Coin       Scrypt   PoW/PoS     1.055185e+09       532000000\n",
      "808           808      SHA-256   PoW/PoS     0.000000e+00               0\n",
      "1337    EliteCoin          X13   PoW/PoS     2.927942e+10    314159265359\n",
      "BTC       Bitcoin      SHA-256       PoW     1.792718e+07        21000000\n",
      "...           ...          ...       ...              ...             ...\n",
      "ZEPH       ZEPHYR      SHA-256      DPoS     2.000000e+09      2000000000\n",
      "GAP       Gapcoin       Scrypt   PoW/PoS     1.493105e+07       250000000\n",
      "BDX        Beldex  CryptoNight       PoW     9.802226e+08      1400222610\n",
      "ZEN       Horizen     Equihash       PoW     7.296538e+06        21000000\n",
      "XBC   BitcoinPlus       Scrypt       PoS     1.283270e+05         1000000\n",
      "\n",
      "[685 rows x 5 columns]\n"
     ]
    }
   ],
   "source": [
    "print(crypto_df_drop)"
   ]
  },
  {
   "cell_type": "code",
   "execution_count": 85,
   "metadata": {},
   "outputs": [],
   "source": [
    "# Keep the rows where coins are mined.\n",
    "# YOUR CODE HERE\n",
    "# crypto_df_mined = crypto_df_drop.loc[crypto_df[\"TotalCoinsMined\"] > 0]\n",
    "# crypto_df_mined.head()\n",
    "\n",
    "# crypto_df_drop.loc[crypto_df[\"TotalCoinsMined\"] > 0]\n",
    "crypto_df_drop = crypto_df_drop.loc[crypto_df[\"TotalCoinsMined\"] > 0]"
   ]
  },
  {
   "cell_type": "code",
   "execution_count": 86,
   "metadata": {},
   "outputs": [
    {
     "name": "stdout",
     "output_type": "stream",
     "text": [
      "         CoinName    Algorithm ProofType  TotalCoinsMined TotalCoinSupply\n",
      "42        42 Coin       Scrypt   PoW/PoS     4.199995e+01              42\n",
      "404       404Coin       Scrypt   PoW/PoS     1.055185e+09       532000000\n",
      "1337    EliteCoin          X13   PoW/PoS     2.927942e+10    314159265359\n",
      "BTC       Bitcoin      SHA-256       PoW     1.792718e+07        21000000\n",
      "ETH      Ethereum       Ethash       PoW     1.076842e+08               0\n",
      "...           ...          ...       ...              ...             ...\n",
      "ZEPH       ZEPHYR      SHA-256      DPoS     2.000000e+09      2000000000\n",
      "GAP       Gapcoin       Scrypt   PoW/PoS     1.493105e+07       250000000\n",
      "BDX        Beldex  CryptoNight       PoW     9.802226e+08      1400222610\n",
      "ZEN       Horizen     Equihash       PoW     7.296538e+06        21000000\n",
      "XBC   BitcoinPlus       Scrypt       PoS     1.283270e+05         1000000\n",
      "\n",
      "[532 rows x 5 columns]\n"
     ]
    }
   ],
   "source": [
    "print(crypto_df_drop)"
   ]
  },
  {
   "cell_type": "code",
   "execution_count": 87,
   "metadata": {},
   "outputs": [
    {
     "data": {
      "text/html": [
       "<div>\n",
       "<style scoped>\n",
       "    .dataframe tbody tr th:only-of-type {\n",
       "        vertical-align: middle;\n",
       "    }\n",
       "\n",
       "    .dataframe tbody tr th {\n",
       "        vertical-align: top;\n",
       "    }\n",
       "\n",
       "    .dataframe thead th {\n",
       "        text-align: right;\n",
       "    }\n",
       "</style>\n",
       "<table border=\"1\" class=\"dataframe\">\n",
       "  <thead>\n",
       "    <tr style=\"text-align: right;\">\n",
       "      <th></th>\n",
       "      <th>CoinName</th>\n",
       "    </tr>\n",
       "  </thead>\n",
       "  <tbody>\n",
       "    <tr>\n",
       "      <th>42</th>\n",
       "      <td>42 Coin</td>\n",
       "    </tr>\n",
       "    <tr>\n",
       "      <th>404</th>\n",
       "      <td>404Coin</td>\n",
       "    </tr>\n",
       "    <tr>\n",
       "      <th>1337</th>\n",
       "      <td>EliteCoin</td>\n",
       "    </tr>\n",
       "    <tr>\n",
       "      <th>BTC</th>\n",
       "      <td>Bitcoin</td>\n",
       "    </tr>\n",
       "    <tr>\n",
       "      <th>ETH</th>\n",
       "      <td>Ethereum</td>\n",
       "    </tr>\n",
       "  </tbody>\n",
       "</table>\n",
       "</div>"
      ],
      "text/plain": [
       "       CoinName\n",
       "42      42 Coin\n",
       "404     404Coin\n",
       "1337  EliteCoin\n",
       "BTC     Bitcoin\n",
       "ETH    Ethereum"
      ]
     },
     "execution_count": 87,
     "metadata": {},
     "output_type": "execute_result"
    }
   ],
   "source": [
    "# Create a new DataFrame that holds only the cryptocurrencies names.\n",
    "# YOUR CODE HERE\n",
    "crypto_names = crypto_df_drop[{\"CoinName\": \"CoinName\"}]\n",
    "crypto_names.head()\n"
   ]
  },
  {
   "cell_type": "code",
   "execution_count": 88,
   "metadata": {},
   "outputs": [
    {
     "name": "stdout",
     "output_type": "stream",
     "text": [
      "         CoinName\n",
      "42        42 Coin\n",
      "404       404Coin\n",
      "1337    EliteCoin\n",
      "BTC       Bitcoin\n",
      "ETH      Ethereum\n",
      "...           ...\n",
      "ZEPH       ZEPHYR\n",
      "GAP       Gapcoin\n",
      "BDX        Beldex\n",
      "ZEN       Horizen\n",
      "XBC   BitcoinPlus\n",
      "\n",
      "[532 rows x 1 columns]\n"
     ]
    }
   ],
   "source": [
    "print(crypto_names)"
   ]
  },
  {
   "cell_type": "code",
   "execution_count": 89,
   "metadata": {},
   "outputs": [
    {
     "name": "stdout",
     "output_type": "stream",
     "text": [
      "        Algorithm ProofType  TotalCoinsMined TotalCoinSupply\n",
      "42         Scrypt   PoW/PoS     4.199995e+01              42\n",
      "404        Scrypt   PoW/PoS     1.055185e+09       532000000\n",
      "1337          X13   PoW/PoS     2.927942e+10    314159265359\n",
      "BTC       SHA-256       PoW     1.792718e+07        21000000\n",
      "ETH        Ethash       PoW     1.076842e+08               0\n",
      "...           ...       ...              ...             ...\n",
      "ZEPH      SHA-256      DPoS     2.000000e+09      2000000000\n",
      "GAP        Scrypt   PoW/PoS     1.493105e+07       250000000\n",
      "BDX   CryptoNight       PoW     9.802226e+08      1400222610\n",
      "ZEN      Equihash       PoW     7.296538e+06        21000000\n",
      "XBC        Scrypt       PoS     1.283270e+05         1000000\n",
      "\n",
      "[532 rows x 4 columns]\n"
     ]
    },
    {
     "data": {
      "text/html": [
       "<div>\n",
       "<style scoped>\n",
       "    .dataframe tbody tr th:only-of-type {\n",
       "        vertical-align: middle;\n",
       "    }\n",
       "\n",
       "    .dataframe tbody tr th {\n",
       "        vertical-align: top;\n",
       "    }\n",
       "\n",
       "    .dataframe thead th {\n",
       "        text-align: right;\n",
       "    }\n",
       "</style>\n",
       "<table border=\"1\" class=\"dataframe\">\n",
       "  <thead>\n",
       "    <tr style=\"text-align: right;\">\n",
       "      <th></th>\n",
       "      <th>Algorithm</th>\n",
       "      <th>ProofType</th>\n",
       "      <th>TotalCoinsMined</th>\n",
       "      <th>TotalCoinSupply</th>\n",
       "    </tr>\n",
       "  </thead>\n",
       "  <tbody>\n",
       "    <tr>\n",
       "      <th>42</th>\n",
       "      <td>Scrypt</td>\n",
       "      <td>PoW/PoS</td>\n",
       "      <td>4.199995e+01</td>\n",
       "      <td>42</td>\n",
       "    </tr>\n",
       "    <tr>\n",
       "      <th>404</th>\n",
       "      <td>Scrypt</td>\n",
       "      <td>PoW/PoS</td>\n",
       "      <td>1.055185e+09</td>\n",
       "      <td>532000000</td>\n",
       "    </tr>\n",
       "    <tr>\n",
       "      <th>1337</th>\n",
       "      <td>X13</td>\n",
       "      <td>PoW/PoS</td>\n",
       "      <td>2.927942e+10</td>\n",
       "      <td>314159265359</td>\n",
       "    </tr>\n",
       "    <tr>\n",
       "      <th>BTC</th>\n",
       "      <td>SHA-256</td>\n",
       "      <td>PoW</td>\n",
       "      <td>1.792718e+07</td>\n",
       "      <td>21000000</td>\n",
       "    </tr>\n",
       "    <tr>\n",
       "      <th>ETH</th>\n",
       "      <td>Ethash</td>\n",
       "      <td>PoW</td>\n",
       "      <td>1.076842e+08</td>\n",
       "      <td>0</td>\n",
       "    </tr>\n",
       "  </tbody>\n",
       "</table>\n",
       "</div>"
      ],
      "text/plain": [
       "     Algorithm ProofType  TotalCoinsMined TotalCoinSupply\n",
       "42      Scrypt   PoW/PoS     4.199995e+01              42\n",
       "404     Scrypt   PoW/PoS     1.055185e+09       532000000\n",
       "1337       X13   PoW/PoS     2.927942e+10    314159265359\n",
       "BTC    SHA-256       PoW     1.792718e+07        21000000\n",
       "ETH     Ethash       PoW     1.076842e+08               0"
      ]
     },
     "execution_count": 89,
     "metadata": {},
     "output_type": "execute_result"
    }
   ],
   "source": [
    "# Drop the 'CoinName' column since it's not going to be used on the clustering algorithm.\n",
    "# YOUR CODE HERE\n",
    "crypto_df_dropc = crypto_df_drop.drop(['CoinName'], axis=1)\n",
    "print(crypto_df_dropc)\n",
    "# crypto_df_drop.head(10)\n",
    "# crypto_df_traded.drop(['IsTrading'], axis=1, inplace = True)\n",
    "crypto_df_dropc.head()"
   ]
  },
  {
   "cell_type": "code",
   "execution_count": 90,
   "metadata": {},
   "outputs": [
    {
     "data": {
      "text/html": [
       "<div>\n",
       "<style scoped>\n",
       "    .dataframe tbody tr th:only-of-type {\n",
       "        vertical-align: middle;\n",
       "    }\n",
       "\n",
       "    .dataframe tbody tr th {\n",
       "        vertical-align: top;\n",
       "    }\n",
       "\n",
       "    .dataframe thead th {\n",
       "        text-align: right;\n",
       "    }\n",
       "</style>\n",
       "<table border=\"1\" class=\"dataframe\">\n",
       "  <thead>\n",
       "    <tr style=\"text-align: right;\">\n",
       "      <th></th>\n",
       "      <th>Algorithm</th>\n",
       "      <th>ProofType</th>\n",
       "      <th>TotalCoinsMined</th>\n",
       "      <th>TotalCoinSupply</th>\n",
       "    </tr>\n",
       "  </thead>\n",
       "  <tbody>\n",
       "    <tr>\n",
       "      <th>42</th>\n",
       "      <td>Scrypt</td>\n",
       "      <td>PoW/PoS</td>\n",
       "      <td>4.199995e+01</td>\n",
       "      <td>42</td>\n",
       "    </tr>\n",
       "    <tr>\n",
       "      <th>404</th>\n",
       "      <td>Scrypt</td>\n",
       "      <td>PoW/PoS</td>\n",
       "      <td>1.055185e+09</td>\n",
       "      <td>532000000</td>\n",
       "    </tr>\n",
       "    <tr>\n",
       "      <th>1337</th>\n",
       "      <td>X13</td>\n",
       "      <td>PoW/PoS</td>\n",
       "      <td>2.927942e+10</td>\n",
       "      <td>314159265359</td>\n",
       "    </tr>\n",
       "    <tr>\n",
       "      <th>BTC</th>\n",
       "      <td>SHA-256</td>\n",
       "      <td>PoW</td>\n",
       "      <td>1.792718e+07</td>\n",
       "      <td>21000000</td>\n",
       "    </tr>\n",
       "    <tr>\n",
       "      <th>ETH</th>\n",
       "      <td>Ethash</td>\n",
       "      <td>PoW</td>\n",
       "      <td>1.076842e+08</td>\n",
       "      <td>0</td>\n",
       "    </tr>\n",
       "  </tbody>\n",
       "</table>\n",
       "</div>"
      ],
      "text/plain": [
       "     Algorithm ProofType  TotalCoinsMined TotalCoinSupply\n",
       "42      Scrypt   PoW/PoS     4.199995e+01              42\n",
       "404     Scrypt   PoW/PoS     1.055185e+09       532000000\n",
       "1337       X13   PoW/PoS     2.927942e+10    314159265359\n",
       "BTC    SHA-256       PoW     1.792718e+07        21000000\n",
       "ETH     Ethash       PoW     1.076842e+08               0"
      ]
     },
     "execution_count": 90,
     "metadata": {},
     "output_type": "execute_result"
    }
   ],
   "source": [
    "crypto_df_dropc.head()"
   ]
  },
  {
   "cell_type": "code",
   "execution_count": 94,
   "metadata": {},
   "outputs": [],
   "source": [
    "# Use get_dummies() to create variables for text features. - convert to numerics\n",
    "# YOUR CODE HERE\n",
    "X = pd.get_dummies(crypto_df_dropc, columns = [\"Algorithm\", \"ProofType\"])"
   ]
  },
  {
   "cell_type": "code",
   "execution_count": 95,
   "metadata": {},
   "outputs": [
    {
     "data": {
      "text/html": [
       "<div>\n",
       "<style scoped>\n",
       "    .dataframe tbody tr th:only-of-type {\n",
       "        vertical-align: middle;\n",
       "    }\n",
       "\n",
       "    .dataframe tbody tr th {\n",
       "        vertical-align: top;\n",
       "    }\n",
       "\n",
       "    .dataframe thead th {\n",
       "        text-align: right;\n",
       "    }\n",
       "</style>\n",
       "<table border=\"1\" class=\"dataframe\">\n",
       "  <thead>\n",
       "    <tr style=\"text-align: right;\">\n",
       "      <th></th>\n",
       "      <th>TotalCoinsMined</th>\n",
       "      <th>TotalCoinSupply</th>\n",
       "      <th>Algorithm_1GB AES Pattern Search</th>\n",
       "      <th>Algorithm_536</th>\n",
       "      <th>Algorithm_Argon2d</th>\n",
       "      <th>Algorithm_BLAKE256</th>\n",
       "      <th>Algorithm_Blake</th>\n",
       "      <th>Algorithm_Blake2S</th>\n",
       "      <th>Algorithm_Blake2b</th>\n",
       "      <th>Algorithm_C11</th>\n",
       "      <th>...</th>\n",
       "      <th>ProofType_PoW/PoS</th>\n",
       "      <th>ProofType_PoW/PoS</th>\n",
       "      <th>ProofType_PoW/PoW</th>\n",
       "      <th>ProofType_PoW/nPoS</th>\n",
       "      <th>ProofType_Pos</th>\n",
       "      <th>ProofType_Proof of Authority</th>\n",
       "      <th>ProofType_Proof of Trust</th>\n",
       "      <th>ProofType_TPoS</th>\n",
       "      <th>ProofType_Zero-Knowledge Proof</th>\n",
       "      <th>ProofType_dPoW/PoW</th>\n",
       "    </tr>\n",
       "  </thead>\n",
       "  <tbody>\n",
       "    <tr>\n",
       "      <th>42</th>\n",
       "      <td>4.199995e+01</td>\n",
       "      <td>42</td>\n",
       "      <td>0</td>\n",
       "      <td>0</td>\n",
       "      <td>0</td>\n",
       "      <td>0</td>\n",
       "      <td>0</td>\n",
       "      <td>0</td>\n",
       "      <td>0</td>\n",
       "      <td>0</td>\n",
       "      <td>...</td>\n",
       "      <td>1</td>\n",
       "      <td>0</td>\n",
       "      <td>0</td>\n",
       "      <td>0</td>\n",
       "      <td>0</td>\n",
       "      <td>0</td>\n",
       "      <td>0</td>\n",
       "      <td>0</td>\n",
       "      <td>0</td>\n",
       "      <td>0</td>\n",
       "    </tr>\n",
       "    <tr>\n",
       "      <th>404</th>\n",
       "      <td>1.055185e+09</td>\n",
       "      <td>532000000</td>\n",
       "      <td>0</td>\n",
       "      <td>0</td>\n",
       "      <td>0</td>\n",
       "      <td>0</td>\n",
       "      <td>0</td>\n",
       "      <td>0</td>\n",
       "      <td>0</td>\n",
       "      <td>0</td>\n",
       "      <td>...</td>\n",
       "      <td>1</td>\n",
       "      <td>0</td>\n",
       "      <td>0</td>\n",
       "      <td>0</td>\n",
       "      <td>0</td>\n",
       "      <td>0</td>\n",
       "      <td>0</td>\n",
       "      <td>0</td>\n",
       "      <td>0</td>\n",
       "      <td>0</td>\n",
       "    </tr>\n",
       "    <tr>\n",
       "      <th>1337</th>\n",
       "      <td>2.927942e+10</td>\n",
       "      <td>314159265359</td>\n",
       "      <td>0</td>\n",
       "      <td>0</td>\n",
       "      <td>0</td>\n",
       "      <td>0</td>\n",
       "      <td>0</td>\n",
       "      <td>0</td>\n",
       "      <td>0</td>\n",
       "      <td>0</td>\n",
       "      <td>...</td>\n",
       "      <td>1</td>\n",
       "      <td>0</td>\n",
       "      <td>0</td>\n",
       "      <td>0</td>\n",
       "      <td>0</td>\n",
       "      <td>0</td>\n",
       "      <td>0</td>\n",
       "      <td>0</td>\n",
       "      <td>0</td>\n",
       "      <td>0</td>\n",
       "    </tr>\n",
       "    <tr>\n",
       "      <th>BTC</th>\n",
       "      <td>1.792718e+07</td>\n",
       "      <td>21000000</td>\n",
       "      <td>0</td>\n",
       "      <td>0</td>\n",
       "      <td>0</td>\n",
       "      <td>0</td>\n",
       "      <td>0</td>\n",
       "      <td>0</td>\n",
       "      <td>0</td>\n",
       "      <td>0</td>\n",
       "      <td>...</td>\n",
       "      <td>0</td>\n",
       "      <td>0</td>\n",
       "      <td>0</td>\n",
       "      <td>0</td>\n",
       "      <td>0</td>\n",
       "      <td>0</td>\n",
       "      <td>0</td>\n",
       "      <td>0</td>\n",
       "      <td>0</td>\n",
       "      <td>0</td>\n",
       "    </tr>\n",
       "    <tr>\n",
       "      <th>ETH</th>\n",
       "      <td>1.076842e+08</td>\n",
       "      <td>0</td>\n",
       "      <td>0</td>\n",
       "      <td>0</td>\n",
       "      <td>0</td>\n",
       "      <td>0</td>\n",
       "      <td>0</td>\n",
       "      <td>0</td>\n",
       "      <td>0</td>\n",
       "      <td>0</td>\n",
       "      <td>...</td>\n",
       "      <td>0</td>\n",
       "      <td>0</td>\n",
       "      <td>0</td>\n",
       "      <td>0</td>\n",
       "      <td>0</td>\n",
       "      <td>0</td>\n",
       "      <td>0</td>\n",
       "      <td>0</td>\n",
       "      <td>0</td>\n",
       "      <td>0</td>\n",
       "    </tr>\n",
       "    <tr>\n",
       "      <th>...</th>\n",
       "      <td>...</td>\n",
       "      <td>...</td>\n",
       "      <td>...</td>\n",
       "      <td>...</td>\n",
       "      <td>...</td>\n",
       "      <td>...</td>\n",
       "      <td>...</td>\n",
       "      <td>...</td>\n",
       "      <td>...</td>\n",
       "      <td>...</td>\n",
       "      <td>...</td>\n",
       "      <td>...</td>\n",
       "      <td>...</td>\n",
       "      <td>...</td>\n",
       "      <td>...</td>\n",
       "      <td>...</td>\n",
       "      <td>...</td>\n",
       "      <td>...</td>\n",
       "      <td>...</td>\n",
       "      <td>...</td>\n",
       "      <td>...</td>\n",
       "    </tr>\n",
       "    <tr>\n",
       "      <th>ZEPH</th>\n",
       "      <td>2.000000e+09</td>\n",
       "      <td>2000000000</td>\n",
       "      <td>0</td>\n",
       "      <td>0</td>\n",
       "      <td>0</td>\n",
       "      <td>0</td>\n",
       "      <td>0</td>\n",
       "      <td>0</td>\n",
       "      <td>0</td>\n",
       "      <td>0</td>\n",
       "      <td>...</td>\n",
       "      <td>0</td>\n",
       "      <td>0</td>\n",
       "      <td>0</td>\n",
       "      <td>0</td>\n",
       "      <td>0</td>\n",
       "      <td>0</td>\n",
       "      <td>0</td>\n",
       "      <td>0</td>\n",
       "      <td>0</td>\n",
       "      <td>0</td>\n",
       "    </tr>\n",
       "    <tr>\n",
       "      <th>GAP</th>\n",
       "      <td>1.493105e+07</td>\n",
       "      <td>250000000</td>\n",
       "      <td>0</td>\n",
       "      <td>0</td>\n",
       "      <td>0</td>\n",
       "      <td>0</td>\n",
       "      <td>0</td>\n",
       "      <td>0</td>\n",
       "      <td>0</td>\n",
       "      <td>0</td>\n",
       "      <td>...</td>\n",
       "      <td>1</td>\n",
       "      <td>0</td>\n",
       "      <td>0</td>\n",
       "      <td>0</td>\n",
       "      <td>0</td>\n",
       "      <td>0</td>\n",
       "      <td>0</td>\n",
       "      <td>0</td>\n",
       "      <td>0</td>\n",
       "      <td>0</td>\n",
       "    </tr>\n",
       "    <tr>\n",
       "      <th>BDX</th>\n",
       "      <td>9.802226e+08</td>\n",
       "      <td>1400222610</td>\n",
       "      <td>0</td>\n",
       "      <td>0</td>\n",
       "      <td>0</td>\n",
       "      <td>0</td>\n",
       "      <td>0</td>\n",
       "      <td>0</td>\n",
       "      <td>0</td>\n",
       "      <td>0</td>\n",
       "      <td>...</td>\n",
       "      <td>0</td>\n",
       "      <td>0</td>\n",
       "      <td>0</td>\n",
       "      <td>0</td>\n",
       "      <td>0</td>\n",
       "      <td>0</td>\n",
       "      <td>0</td>\n",
       "      <td>0</td>\n",
       "      <td>0</td>\n",
       "      <td>0</td>\n",
       "    </tr>\n",
       "    <tr>\n",
       "      <th>ZEN</th>\n",
       "      <td>7.296538e+06</td>\n",
       "      <td>21000000</td>\n",
       "      <td>0</td>\n",
       "      <td>0</td>\n",
       "      <td>0</td>\n",
       "      <td>0</td>\n",
       "      <td>0</td>\n",
       "      <td>0</td>\n",
       "      <td>0</td>\n",
       "      <td>0</td>\n",
       "      <td>...</td>\n",
       "      <td>0</td>\n",
       "      <td>0</td>\n",
       "      <td>0</td>\n",
       "      <td>0</td>\n",
       "      <td>0</td>\n",
       "      <td>0</td>\n",
       "      <td>0</td>\n",
       "      <td>0</td>\n",
       "      <td>0</td>\n",
       "      <td>0</td>\n",
       "    </tr>\n",
       "    <tr>\n",
       "      <th>XBC</th>\n",
       "      <td>1.283270e+05</td>\n",
       "      <td>1000000</td>\n",
       "      <td>0</td>\n",
       "      <td>0</td>\n",
       "      <td>0</td>\n",
       "      <td>0</td>\n",
       "      <td>0</td>\n",
       "      <td>0</td>\n",
       "      <td>0</td>\n",
       "      <td>0</td>\n",
       "      <td>...</td>\n",
       "      <td>0</td>\n",
       "      <td>0</td>\n",
       "      <td>0</td>\n",
       "      <td>0</td>\n",
       "      <td>0</td>\n",
       "      <td>0</td>\n",
       "      <td>0</td>\n",
       "      <td>0</td>\n",
       "      <td>0</td>\n",
       "      <td>0</td>\n",
       "    </tr>\n",
       "  </tbody>\n",
       "</table>\n",
       "<p>532 rows × 98 columns</p>\n",
       "</div>"
      ],
      "text/plain": [
       "      TotalCoinsMined TotalCoinSupply  Algorithm_1GB AES Pattern Search  \\\n",
       "42       4.199995e+01              42                                 0   \n",
       "404      1.055185e+09       532000000                                 0   \n",
       "1337     2.927942e+10    314159265359                                 0   \n",
       "BTC      1.792718e+07        21000000                                 0   \n",
       "ETH      1.076842e+08               0                                 0   \n",
       "...               ...             ...                               ...   \n",
       "ZEPH     2.000000e+09      2000000000                                 0   \n",
       "GAP      1.493105e+07       250000000                                 0   \n",
       "BDX      9.802226e+08      1400222610                                 0   \n",
       "ZEN      7.296538e+06        21000000                                 0   \n",
       "XBC      1.283270e+05         1000000                                 0   \n",
       "\n",
       "      Algorithm_536  Algorithm_Argon2d  Algorithm_BLAKE256  Algorithm_Blake  \\\n",
       "42                0                  0                   0                0   \n",
       "404               0                  0                   0                0   \n",
       "1337              0                  0                   0                0   \n",
       "BTC               0                  0                   0                0   \n",
       "ETH               0                  0                   0                0   \n",
       "...             ...                ...                 ...              ...   \n",
       "ZEPH              0                  0                   0                0   \n",
       "GAP               0                  0                   0                0   \n",
       "BDX               0                  0                   0                0   \n",
       "ZEN               0                  0                   0                0   \n",
       "XBC               0                  0                   0                0   \n",
       "\n",
       "      Algorithm_Blake2S  Algorithm_Blake2b  Algorithm_C11  ...  \\\n",
       "42                    0                  0              0  ...   \n",
       "404                   0                  0              0  ...   \n",
       "1337                  0                  0              0  ...   \n",
       "BTC                   0                  0              0  ...   \n",
       "ETH                   0                  0              0  ...   \n",
       "...                 ...                ...            ...  ...   \n",
       "ZEPH                  0                  0              0  ...   \n",
       "GAP                   0                  0              0  ...   \n",
       "BDX                   0                  0              0  ...   \n",
       "ZEN                   0                  0              0  ...   \n",
       "XBC                   0                  0              0  ...   \n",
       "\n",
       "      ProofType_PoW/PoS  ProofType_PoW/PoS   ProofType_PoW/PoW  \\\n",
       "42                    1                   0                  0   \n",
       "404                   1                   0                  0   \n",
       "1337                  1                   0                  0   \n",
       "BTC                   0                   0                  0   \n",
       "ETH                   0                   0                  0   \n",
       "...                 ...                 ...                ...   \n",
       "ZEPH                  0                   0                  0   \n",
       "GAP                   1                   0                  0   \n",
       "BDX                   0                   0                  0   \n",
       "ZEN                   0                   0                  0   \n",
       "XBC                   0                   0                  0   \n",
       "\n",
       "      ProofType_PoW/nPoS  ProofType_Pos  ProofType_Proof of Authority  \\\n",
       "42                     0              0                             0   \n",
       "404                    0              0                             0   \n",
       "1337                   0              0                             0   \n",
       "BTC                    0              0                             0   \n",
       "ETH                    0              0                             0   \n",
       "...                  ...            ...                           ...   \n",
       "ZEPH                   0              0                             0   \n",
       "GAP                    0              0                             0   \n",
       "BDX                    0              0                             0   \n",
       "ZEN                    0              0                             0   \n",
       "XBC                    0              0                             0   \n",
       "\n",
       "      ProofType_Proof of Trust  ProofType_TPoS  \\\n",
       "42                           0               0   \n",
       "404                          0               0   \n",
       "1337                         0               0   \n",
       "BTC                          0               0   \n",
       "ETH                          0               0   \n",
       "...                        ...             ...   \n",
       "ZEPH                         0               0   \n",
       "GAP                          0               0   \n",
       "BDX                          0               0   \n",
       "ZEN                          0               0   \n",
       "XBC                          0               0   \n",
       "\n",
       "      ProofType_Zero-Knowledge Proof  ProofType_dPoW/PoW  \n",
       "42                                 0                   0  \n",
       "404                                0                   0  \n",
       "1337                               0                   0  \n",
       "BTC                                0                   0  \n",
       "ETH                                0                   0  \n",
       "...                              ...                 ...  \n",
       "ZEPH                               0                   0  \n",
       "GAP                                0                   0  \n",
       "BDX                                0                   0  \n",
       "ZEN                                0                   0  \n",
       "XBC                                0                   0  \n",
       "\n",
       "[532 rows x 98 columns]"
      ]
     },
     "execution_count": 95,
     "metadata": {},
     "output_type": "execute_result"
    }
   ],
   "source": [
    "X"
   ]
  },
  {
   "cell_type": "code",
   "execution_count": 96,
   "metadata": {},
   "outputs": [
    {
     "name": "stdout",
     "output_type": "stream",
     "text": [
      "[[-0.11710817 -0.1528703  -0.0433963  -0.0433963  -0.0433963  -0.06142951\n",
      "  -0.07530656 -0.0433963  -0.06142951 -0.06142951 -0.0433963  -0.0433963\n",
      "  -0.19245009 -0.06142951 -0.09740465 -0.0433963  -0.11547005 -0.07530656\n",
      "  -0.0433963  -0.0433963  -0.15191091 -0.0433963  -0.13118084 -0.0433963\n",
      "  -0.0433963  -0.08703883 -0.0433963  -0.0433963  -0.0433963  -0.0433963\n",
      "  -0.06142951 -0.0433963  -0.08703883 -0.08703883 -0.08703883 -0.0433963\n",
      "  -0.13118084 -0.13840913 -0.13840913 -0.0433963  -0.06142951 -0.0433963\n",
      "  -0.07530656 -0.18168574 -0.0433963  -0.0433963  -0.0433963  -0.07530656\n",
      "  -0.15826614 -0.31491833 -0.0433963  -0.08703883 -0.07530656 -0.06142951\n",
      "   1.38675049 -0.0433963  -0.0433963  -0.06142951 -0.0433963  -0.0433963\n",
      "  -0.0433963  -0.0433963  -0.0433963  -0.0433963  -0.0433963  -0.0433963\n",
      "  -0.39879994 -0.0433963  -0.18168574 -0.0433963  -0.08703883 -0.08703883\n",
      "  -0.10680283 -0.0433963  -0.13118084 -0.0433963  -0.0433963  -0.0433963\n",
      "  -0.0433963  -0.07530656 -0.43911856 -0.0433963  -0.06142951 -0.0433963\n",
      "  -0.0433963  -0.89632016 -0.0433963  -0.0433963   1.42222617 -0.0433963\n",
      "  -0.0433963  -0.0433963  -0.0433963  -0.0433963  -0.0433963  -0.0433963\n",
      "  -0.0433963  -0.0433963 ]\n",
      " [-0.09396955 -0.145009   -0.0433963  -0.0433963  -0.0433963  -0.06142951\n",
      "  -0.07530656 -0.0433963  -0.06142951 -0.06142951 -0.0433963  -0.0433963\n",
      "  -0.19245009 -0.06142951 -0.09740465 -0.0433963  -0.11547005 -0.07530656\n",
      "  -0.0433963  -0.0433963  -0.15191091 -0.0433963  -0.13118084 -0.0433963\n",
      "  -0.0433963  -0.08703883 -0.0433963  -0.0433963  -0.0433963  -0.0433963\n",
      "  -0.06142951 -0.0433963  -0.08703883 -0.08703883 -0.08703883 -0.0433963\n",
      "  -0.13118084 -0.13840913 -0.13840913 -0.0433963  -0.06142951 -0.0433963\n",
      "  -0.07530656 -0.18168574 -0.0433963  -0.0433963  -0.0433963  -0.07530656\n",
      "  -0.15826614 -0.31491833 -0.0433963  -0.08703883 -0.07530656 -0.06142951\n",
      "   1.38675049 -0.0433963  -0.0433963  -0.06142951 -0.0433963  -0.0433963\n",
      "  -0.0433963  -0.0433963  -0.0433963  -0.0433963  -0.0433963  -0.0433963\n",
      "  -0.39879994 -0.0433963  -0.18168574 -0.0433963  -0.08703883 -0.08703883\n",
      "  -0.10680283 -0.0433963  -0.13118084 -0.0433963  -0.0433963  -0.0433963\n",
      "  -0.0433963  -0.07530656 -0.43911856 -0.0433963  -0.06142951 -0.0433963\n",
      "  -0.0433963  -0.89632016 -0.0433963  -0.0433963   1.42222617 -0.0433963\n",
      "  -0.0433963  -0.0433963  -0.0433963  -0.0433963  -0.0433963  -0.0433963\n",
      "  -0.0433963  -0.0433963 ]\n",
      " [ 0.52494561  4.48942416 -0.0433963  -0.0433963  -0.0433963  -0.06142951\n",
      "  -0.07530656 -0.0433963  -0.06142951 -0.06142951 -0.0433963  -0.0433963\n",
      "  -0.19245009 -0.06142951 -0.09740465 -0.0433963  -0.11547005 -0.07530656\n",
      "  -0.0433963  -0.0433963  -0.15191091 -0.0433963  -0.13118084 -0.0433963\n",
      "  -0.0433963  -0.08703883 -0.0433963  -0.0433963  -0.0433963  -0.0433963\n",
      "  -0.06142951 -0.0433963  -0.08703883 -0.08703883 -0.08703883 -0.0433963\n",
      "  -0.13118084 -0.13840913 -0.13840913 -0.0433963  -0.06142951 -0.0433963\n",
      "  -0.07530656 -0.18168574 -0.0433963  -0.0433963  -0.0433963  -0.07530656\n",
      "  -0.15826614 -0.31491833 -0.0433963  -0.08703883 -0.07530656 -0.06142951\n",
      "  -0.72111026 -0.0433963  -0.0433963  -0.06142951 -0.0433963  -0.0433963\n",
      "  -0.0433963  -0.0433963  -0.0433963  -0.0433963  -0.0433963  -0.0433963\n",
      "  -0.39879994 -0.0433963   5.50400923 -0.0433963  -0.08703883 -0.08703883\n",
      "  -0.10680283 -0.0433963  -0.13118084 -0.0433963  -0.0433963  -0.0433963\n",
      "  -0.0433963  -0.07530656 -0.43911856 -0.0433963  -0.06142951 -0.0433963\n",
      "  -0.0433963  -0.89632016 -0.0433963  -0.0433963   1.42222617 -0.0433963\n",
      "  -0.0433963  -0.0433963  -0.0433963  -0.0433963  -0.0433963  -0.0433963\n",
      "  -0.0433963  -0.0433963 ]\n",
      " [-0.11671506 -0.15255998 -0.0433963  -0.0433963  -0.0433963  -0.06142951\n",
      "  -0.07530656 -0.0433963  -0.06142951 -0.06142951 -0.0433963  -0.0433963\n",
      "  -0.19245009 -0.06142951 -0.09740465 -0.0433963  -0.11547005 -0.07530656\n",
      "  -0.0433963  -0.0433963  -0.15191091 -0.0433963  -0.13118084 -0.0433963\n",
      "  -0.0433963  -0.08703883 -0.0433963  -0.0433963  -0.0433963  -0.0433963\n",
      "  -0.06142951 -0.0433963  -0.08703883 -0.08703883 -0.08703883 -0.0433963\n",
      "  -0.13118084 -0.13840913 -0.13840913 -0.0433963  -0.06142951 -0.0433963\n",
      "  -0.07530656 -0.18168574 -0.0433963  -0.0433963  -0.0433963  -0.07530656\n",
      "  -0.15826614  3.17542648 -0.0433963  -0.08703883 -0.07530656 -0.06142951\n",
      "  -0.72111026 -0.0433963  -0.0433963  -0.06142951 -0.0433963  -0.0433963\n",
      "  -0.0433963  -0.0433963  -0.0433963  -0.0433963  -0.0433963  -0.0433963\n",
      "  -0.39879994 -0.0433963  -0.18168574 -0.0433963  -0.08703883 -0.08703883\n",
      "  -0.10680283 -0.0433963  -0.13118084 -0.0433963  -0.0433963  -0.0433963\n",
      "  -0.0433963  -0.07530656 -0.43911856 -0.0433963  -0.06142951 -0.0433963\n",
      "  -0.0433963   1.11567277 -0.0433963  -0.0433963  -0.70312305 -0.0433963\n",
      "  -0.0433963  -0.0433963  -0.0433963  -0.0433963  -0.0433963  -0.0433963\n",
      "  -0.0433963  -0.0433963 ]\n",
      " [-0.11474682 -0.1528703  -0.0433963  -0.0433963  -0.0433963  -0.06142951\n",
      "  -0.07530656 -0.0433963  -0.06142951 -0.06142951 -0.0433963  -0.0433963\n",
      "  -0.19245009 -0.06142951 -0.09740465 -0.0433963  -0.11547005 -0.07530656\n",
      "  -0.0433963  -0.0433963  -0.15191091 -0.0433963   7.62306442 -0.0433963\n",
      "  -0.0433963  -0.08703883 -0.0433963  -0.0433963  -0.0433963  -0.0433963\n",
      "  -0.06142951 -0.0433963  -0.08703883 -0.08703883 -0.08703883 -0.0433963\n",
      "  -0.13118084 -0.13840913 -0.13840913 -0.0433963  -0.06142951 -0.0433963\n",
      "  -0.07530656 -0.18168574 -0.0433963  -0.0433963  -0.0433963  -0.07530656\n",
      "  -0.15826614 -0.31491833 -0.0433963  -0.08703883 -0.07530656 -0.06142951\n",
      "  -0.72111026 -0.0433963  -0.0433963  -0.06142951 -0.0433963  -0.0433963\n",
      "  -0.0433963  -0.0433963  -0.0433963  -0.0433963  -0.0433963  -0.0433963\n",
      "  -0.39879994 -0.0433963  -0.18168574 -0.0433963  -0.08703883 -0.08703883\n",
      "  -0.10680283 -0.0433963  -0.13118084 -0.0433963  -0.0433963  -0.0433963\n",
      "  -0.0433963  -0.07530656 -0.43911856 -0.0433963  -0.06142951 -0.0433963\n",
      "  -0.0433963   1.11567277 -0.0433963  -0.0433963  -0.70312305 -0.0433963\n",
      "  -0.0433963  -0.0433963  -0.0433963  -0.0433963  -0.0433963  -0.0433963\n",
      "  -0.0433963  -0.0433963 ]]\n"
     ]
    }
   ],
   "source": [
    "# Standardize the data with StandardScaler().\n",
    "# YOUR CODE HERE\n",
    "X_scaled = StandardScaler().fit_transform(X)\n",
    "print(X_scaled[0:5])"
   ]
  },
  {
   "cell_type": "markdown",
   "metadata": {},
   "source": [
    "### Deliverable 2: Reducing Data Dimensions Using PCA"
   ]
  },
  {
   "cell_type": "code",
   "execution_count": 97,
   "metadata": {},
   "outputs": [],
   "source": [
    "# Using PCA to reduce dimension to three principal components.\n",
    "# YOUR CODE HERE\n",
    "pca = PCA(n_components=3)"
   ]
  },
  {
   "cell_type": "code",
   "execution_count": 134,
   "metadata": {},
   "outputs": [],
   "source": [
    "# Get three principal components for the crypto\n",
    "crypto_pca = pca.fit_transform(X_scaled)"
   ]
  },
  {
   "cell_type": "code",
   "execution_count": null,
   "metadata": {},
   "outputs": [],
   "source": []
  },
  {
   "cell_type": "code",
   "execution_count": 149,
   "metadata": {},
   "outputs": [
    {
     "data": {
      "text/html": [
       "<div>\n",
       "<style scoped>\n",
       "    .dataframe tbody tr th:only-of-type {\n",
       "        vertical-align: middle;\n",
       "    }\n",
       "\n",
       "    .dataframe tbody tr th {\n",
       "        vertical-align: top;\n",
       "    }\n",
       "\n",
       "    .dataframe thead th {\n",
       "        text-align: right;\n",
       "    }\n",
       "</style>\n",
       "<table border=\"1\" class=\"dataframe\">\n",
       "  <thead>\n",
       "    <tr style=\"text-align: right;\">\n",
       "      <th></th>\n",
       "      <th>PC 1</th>\n",
       "      <th>PC 2</th>\n",
       "      <th>PC 3</th>\n",
       "    </tr>\n",
       "  </thead>\n",
       "  <tbody>\n",
       "    <tr>\n",
       "      <th>42</th>\n",
       "      <td>-0.334433</td>\n",
       "      <td>0.987835</td>\n",
       "      <td>-0.530450</td>\n",
       "    </tr>\n",
       "    <tr>\n",
       "      <th>404</th>\n",
       "      <td>-0.317772</td>\n",
       "      <td>0.987959</td>\n",
       "      <td>-0.530798</td>\n",
       "    </tr>\n",
       "    <tr>\n",
       "      <th>1337</th>\n",
       "      <td>2.298228</td>\n",
       "      <td>1.682959</td>\n",
       "      <td>-0.634642</td>\n",
       "    </tr>\n",
       "    <tr>\n",
       "      <th>BTC</th>\n",
       "      <td>-0.150709</td>\n",
       "      <td>-1.193328</td>\n",
       "      <td>0.185275</td>\n",
       "    </tr>\n",
       "    <tr>\n",
       "      <th>ETH</th>\n",
       "      <td>-0.148850</td>\n",
       "      <td>-1.835179</td>\n",
       "      <td>0.422394</td>\n",
       "    </tr>\n",
       "    <tr>\n",
       "      <th>LTC</th>\n",
       "      <td>-0.167527</td>\n",
       "      <td>-1.094317</td>\n",
       "      <td>0.021255</td>\n",
       "    </tr>\n",
       "    <tr>\n",
       "      <th>DASH</th>\n",
       "      <td>-0.399649</td>\n",
       "      <td>1.243193</td>\n",
       "      <td>-0.520345</td>\n",
       "    </tr>\n",
       "    <tr>\n",
       "      <th>XMR</th>\n",
       "      <td>-0.159100</td>\n",
       "      <td>-2.018217</td>\n",
       "      <td>0.428675</td>\n",
       "    </tr>\n",
       "    <tr>\n",
       "      <th>ETC</th>\n",
       "      <td>-0.147293</td>\n",
       "      <td>-1.835269</td>\n",
       "      <td>0.422374</td>\n",
       "    </tr>\n",
       "    <tr>\n",
       "      <th>ZEC</th>\n",
       "      <td>-0.135517</td>\n",
       "      <td>-2.076601</td>\n",
       "      <td>0.420927</td>\n",
       "    </tr>\n",
       "  </tbody>\n",
       "</table>\n",
       "</div>"
      ],
      "text/plain": [
       "          PC 1      PC 2      PC 3\n",
       "42   -0.334433  0.987835 -0.530450\n",
       "404  -0.317772  0.987959 -0.530798\n",
       "1337  2.298228  1.682959 -0.634642\n",
       "BTC  -0.150709 -1.193328  0.185275\n",
       "ETH  -0.148850 -1.835179  0.422394\n",
       "LTC  -0.167527 -1.094317  0.021255\n",
       "DASH -0.399649  1.243193 -0.520345\n",
       "XMR  -0.159100 -2.018217  0.428675\n",
       "ETC  -0.147293 -1.835269  0.422374\n",
       "ZEC  -0.135517 -2.076601  0.420927"
      ]
     },
     "execution_count": 149,
     "metadata": {},
     "output_type": "execute_result"
    }
   ],
   "source": [
    "# Create a DataFrame with the three principal components.\n",
    "# YOUR CODE HERE\n",
    "\n",
    "pcs_df = pd.DataFrame(index=X.index, \n",
    "    data=crypto_pca, columns=[\"PC 1\", \"PC 2\", \"PC 3\"]\n",
    ")\n",
    "pcs_df.head(10)\n"
   ]
  },
  {
   "cell_type": "code",
   "execution_count": 150,
   "metadata": {},
   "outputs": [
    {
     "name": "stdout",
     "output_type": "stream",
     "text": [
      "          PC 1      PC 2      PC 3\n",
      "42   -0.334433  0.987835 -0.530450\n",
      "404  -0.317772  0.987959 -0.530798\n",
      "1337  2.298228  1.682959 -0.634642\n",
      "BTC  -0.150709 -1.193328  0.185275\n",
      "ETH  -0.148850 -1.835179  0.422394\n",
      "...        ...       ...       ...\n",
      "ZEPH  2.473388  0.694277  0.046302\n",
      "GAP  -0.332479  0.987730 -0.530476\n",
      "BDX   0.316397 -2.141628  0.392094\n",
      "ZEN  -0.135518 -2.076601  0.420927\n",
      "XBC  -0.287961  0.660974 -0.217260\n",
      "\n",
      "[532 rows x 3 columns]\n"
     ]
    }
   ],
   "source": [
    "print(pcs_df)"
   ]
  },
  {
   "cell_type": "markdown",
   "metadata": {},
   "source": [
    "### Deliverable 3: Clustering Crytocurrencies Using K-Means\n",
    "\n",
    "#### Finding the Best Value for `k` Using the Elbow Curve"
   ]
  },
  {
   "cell_type": "code",
   "execution_count": 141,
   "metadata": {},
   "outputs": [],
   "source": [
    "# Create an elbow curve to find the best value for K.\n",
    "# YOUR CODE HERE\n",
    "inertia = []\n",
    "k = list(range(1, 11))\n",
    "# Calculate the inertia for the range of K values\n",
    "for i in k:\n",
    "   km = KMeans(n_clusters=i, random_state=0)\n",
    "   km.fit(pcs_df)\n",
    "   inertia.append(km.inertia_)"
   ]
  },
  {
   "cell_type": "code",
   "execution_count": 142,
   "metadata": {},
   "outputs": [
    {
     "data": {},
     "metadata": {},
     "output_type": "display_data"
    },
    {
     "data": {
      "application/vnd.holoviews_exec.v0+json": "",
      "text/html": [
       "<div id='1001'>\n",
       "\n",
       "\n",
       "\n",
       "\n",
       "\n",
       "  <div class=\"bk-root\" id=\"533c12d1-fc51-4121-bf5c-910f240da851\" data-root-id=\"1001\"></div>\n",
       "</div>\n",
       "<script type=\"application/javascript\">(function(root) {\n",
       "  function embed_document(root) {\n",
       "  var docs_json = {\"92fabff2-3417-406b-ac3f-e5660f58d7ba\":{\"roots\":{\"references\":[{\"attributes\":{\"axis\":{\"id\":\"1015\"},\"grid_line_color\":null,\"ticker\":null},\"id\":\"1018\",\"type\":\"Grid\"},{\"attributes\":{\"axis_label\":\"k\",\"bounds\":\"auto\",\"formatter\":{\"id\":\"1046\"},\"major_label_orientation\":\"horizontal\",\"ticker\":{\"id\":\"1044\"}},\"id\":\"1015\",\"type\":\"LinearAxis\"},{\"attributes\":{\"data\":{\"inertia\":{\"__ndarray__\":\"v1vWkBVkrEB93kHEeEqjQDzx5qdwl5hAji2nIxUrgUAjzgII1xp2QDFbTr2q33BAObFDkONEakDcxVpd2iNlQF4gdh7MnmFAOrBM4NUyXUA=\",\"dtype\":\"float64\",\"order\":\"little\",\"shape\":[10]},\"k\":[1,2,3,4,5,6,7,8,9,10]},\"selected\":{\"id\":\"1037\"},\"selection_policy\":{\"id\":\"1055\"}},\"id\":\"1036\",\"type\":\"ColumnDataSource\"},{\"attributes\":{},\"id\":\"1050\",\"type\":\"BasicTickFormatter\"},{\"attributes\":{\"callback\":null,\"renderers\":[{\"id\":\"1042\"}],\"tags\":[\"hv_created\"],\"tooltips\":[[\"k\",\"@{k}\"],[\"inertia\",\"@{inertia}\"]]},\"id\":\"1005\",\"type\":\"HoverTool\"},{\"attributes\":{\"end\":3985.7669023142626,\"reset_end\":3985.7669023142626,\"reset_start\":-234.930477702608,\"start\":-234.930477702608,\"tags\":[[[\"inertia\",\"inertia\",null]]]},\"id\":\"1004\",\"type\":\"Range1d\"},{\"attributes\":{\"ticks\":[1,2,3,4,5,6,7,8,9,10]},\"id\":\"1044\",\"type\":\"FixedTicker\"},{\"attributes\":{},\"id\":\"1046\",\"type\":\"BasicTickFormatter\"},{\"attributes\":{},\"id\":\"1020\",\"type\":\"BasicTicker\"},{\"attributes\":{\"axis\":{\"id\":\"1019\"},\"dimension\":1,\"grid_line_color\":null,\"ticker\":null},\"id\":\"1022\",\"type\":\"Grid\"},{\"attributes\":{\"active_drag\":\"auto\",\"active_inspect\":\"auto\",\"active_multi\":null,\"active_scroll\":\"auto\",\"active_tap\":\"auto\",\"tools\":[{\"id\":\"1005\"},{\"id\":\"1023\"},{\"id\":\"1024\"},{\"id\":\"1025\"},{\"id\":\"1026\"},{\"id\":\"1027\"}]},\"id\":\"1029\",\"type\":\"Toolbar\"},{\"attributes\":{\"bottom_units\":\"screen\",\"fill_alpha\":0.5,\"fill_color\":\"lightgrey\",\"left_units\":\"screen\",\"level\":\"overlay\",\"line_alpha\":1.0,\"line_color\":\"black\",\"line_dash\":[4,4],\"line_width\":2,\"right_units\":\"screen\",\"top_units\":\"screen\"},\"id\":\"1028\",\"type\":\"BoxAnnotation\"},{\"attributes\":{\"axis_label\":\"inertia\",\"bounds\":\"auto\",\"formatter\":{\"id\":\"1050\"},\"major_label_orientation\":\"horizontal\",\"ticker\":{\"id\":\"1020\"}},\"id\":\"1019\",\"type\":\"LinearAxis\"},{\"attributes\":{\"margin\":[5,5,5,5],\"name\":\"HSpacer01537\",\"sizing_mode\":\"stretch_width\"},\"id\":\"1002\",\"type\":\"Spacer\"},{\"attributes\":{\"below\":[{\"id\":\"1015\"}],\"center\":[{\"id\":\"1018\"},{\"id\":\"1022\"}],\"left\":[{\"id\":\"1019\"}],\"margin\":null,\"min_border_bottom\":10,\"min_border_left\":10,\"min_border_right\":10,\"min_border_top\":10,\"plot_height\":300,\"plot_width\":700,\"renderers\":[{\"id\":\"1042\"}],\"sizing_mode\":\"fixed\",\"title\":{\"id\":\"1007\"},\"toolbar\":{\"id\":\"1029\"},\"x_range\":{\"id\":\"1003\"},\"x_scale\":{\"id\":\"1011\"},\"y_range\":{\"id\":\"1004\"},\"y_scale\":{\"id\":\"1013\"}},\"id\":\"1006\",\"subtype\":\"Figure\",\"type\":\"Plot\"},{\"attributes\":{\"data_source\":{\"id\":\"1036\"},\"glyph\":{\"id\":\"1039\"},\"hover_glyph\":null,\"muted_glyph\":{\"id\":\"1041\"},\"nonselection_glyph\":{\"id\":\"1040\"},\"selection_glyph\":null,\"view\":{\"id\":\"1043\"}},\"id\":\"1042\",\"type\":\"GlyphRenderer\"},{\"attributes\":{\"line_color\":\"#1f77b3\",\"line_width\":2,\"x\":{\"field\":\"k\"},\"y\":{\"field\":\"inertia\"}},\"id\":\"1039\",\"type\":\"Line\"},{\"attributes\":{\"line_alpha\":0.1,\"line_color\":\"#1f77b3\",\"line_width\":2,\"x\":{\"field\":\"k\"},\"y\":{\"field\":\"inertia\"}},\"id\":\"1040\",\"type\":\"Line\"},{\"attributes\":{},\"id\":\"1023\",\"type\":\"SaveTool\"},{\"attributes\":{},\"id\":\"1025\",\"type\":\"WheelZoomTool\"},{\"attributes\":{},\"id\":\"1024\",\"type\":\"PanTool\"},{\"attributes\":{\"margin\":[5,5,5,5],\"name\":\"HSpacer01538\",\"sizing_mode\":\"stretch_width\"},\"id\":\"1065\",\"type\":\"Spacer\"},{\"attributes\":{\"text\":\"Elbow Curve\",\"text_color\":{\"value\":\"black\"},\"text_font_size\":{\"value\":\"12pt\"}},\"id\":\"1007\",\"type\":\"Title\"},{\"attributes\":{\"overlay\":{\"id\":\"1028\"}},\"id\":\"1026\",\"type\":\"BoxZoomTool\"},{\"attributes\":{\"children\":[{\"id\":\"1002\"},{\"id\":\"1006\"},{\"id\":\"1065\"}],\"margin\":[0,0,0,0],\"name\":\"Row01533\",\"tags\":[\"embedded\"]},\"id\":\"1001\",\"type\":\"Row\"},{\"attributes\":{},\"id\":\"1013\",\"type\":\"LinearScale\"},{\"attributes\":{\"line_alpha\":0.2,\"line_color\":\"#1f77b3\",\"line_width\":2,\"x\":{\"field\":\"k\"},\"y\":{\"field\":\"inertia\"}},\"id\":\"1041\",\"type\":\"Line\"},{\"attributes\":{\"source\":{\"id\":\"1036\"}},\"id\":\"1043\",\"type\":\"CDSView\"},{\"attributes\":{\"end\":10.0,\"reset_end\":10.0,\"reset_start\":1.0,\"start\":1.0,\"tags\":[[[\"k\",\"k\",null]]]},\"id\":\"1003\",\"type\":\"Range1d\"},{\"attributes\":{},\"id\":\"1055\",\"type\":\"UnionRenderers\"},{\"attributes\":{},\"id\":\"1027\",\"type\":\"ResetTool\"},{\"attributes\":{},\"id\":\"1037\",\"type\":\"Selection\"},{\"attributes\":{},\"id\":\"1011\",\"type\":\"LinearScale\"}],\"root_ids\":[\"1001\"]},\"title\":\"Bokeh Application\",\"version\":\"2.1.1\"}};\n",
       "  var render_items = [{\"docid\":\"92fabff2-3417-406b-ac3f-e5660f58d7ba\",\"root_ids\":[\"1001\"],\"roots\":{\"1001\":\"533c12d1-fc51-4121-bf5c-910f240da851\"}}];\n",
       "  root.Bokeh.embed.embed_items_notebook(docs_json, render_items);\n",
       "  }\n",
       "if (root.Bokeh !== undefined) {\n",
       "    embed_document(root);\n",
       "  } else {\n",
       "    var attempts = 0;\n",
       "    var timer = setInterval(function(root) {\n",
       "      if (root.Bokeh !== undefined) {\n",
       "        clearInterval(timer);\n",
       "        embed_document(root);\n",
       "      } else if (document.readyState == \"complete\") {\n",
       "        attempts++;\n",
       "        if (attempts > 100) {\n",
       "          clearInterval(timer);\n",
       "          console.log(\"Bokeh: ERROR: Unable to run BokehJS code because BokehJS library is missing\");\n",
       "        }\n",
       "      }\n",
       "    }, 10, root)\n",
       "  }\n",
       "})(window);</script>"
      ],
      "text/plain": [
       ":Curve   [k]   (inertia)"
      ]
     },
     "execution_count": 142,
     "metadata": {
      "application/vnd.holoviews_exec.v0+json": {
       "id": "1001"
      }
     },
     "output_type": "execute_result"
    }
   ],
   "source": [
    "# Create the Elbow Curve using hvPlot\n",
    "elbow_data = {\"k\" : k, \"inertia\": inertia}\n",
    "df_elbow = pd.DataFrame(elbow_data)\n",
    "df_elbow.hvplot.line(x=\"k\", y=\"inertia\", xticks=k, title=\"Elbow Curve\")\n"
   ]
  },
  {
   "cell_type": "markdown",
   "metadata": {},
   "source": [
    "Running K-Means with `k=4`"
   ]
  },
  {
   "cell_type": "code",
   "execution_count": 143,
   "metadata": {},
   "outputs": [],
   "source": [
    "# Initialize the K-Means model.\n",
    "# YOUR CODE HERE\n",
    "\n",
    "\n",
    "# Fit the model\n",
    "# YOUR CODE HERE\n",
    "\n",
    "# Predict clusters\n",
    "# YOUR CODE HERE\n",
    "\n",
    "def get_clusters(k, data):\n",
    "   # Create a copy of the DataFrame\n",
    "   data = data.copy()\n",
    "\n",
    "    # Initialize the K-Means model\n",
    "   model = KMeans(n_clusters=k, random_state=0)\n",
    "\n",
    "   # Fit the model\n",
    "   model.fit(data)\n",
    "\n",
    "   # Predict clusters\n",
    "   predictions = model.predict(data)\n",
    "\n",
    "   # Create return DataFrame with predicted clusters\n",
    "   data[\"class\"] = model.labels_\n",
    "\n",
    "   return data"
   ]
  },
  {
   "cell_type": "code",
   "execution_count": 145,
   "metadata": {},
   "outputs": [
    {
     "data": {
      "text/html": [
       "<div>\n",
       "<style scoped>\n",
       "    .dataframe tbody tr th:only-of-type {\n",
       "        vertical-align: middle;\n",
       "    }\n",
       "\n",
       "    .dataframe tbody tr th {\n",
       "        vertical-align: top;\n",
       "    }\n",
       "\n",
       "    .dataframe thead th {\n",
       "        text-align: right;\n",
       "    }\n",
       "</style>\n",
       "<table border=\"1\" class=\"dataframe\">\n",
       "  <thead>\n",
       "    <tr style=\"text-align: right;\">\n",
       "      <th></th>\n",
       "      <th>PC 1</th>\n",
       "      <th>PC 2</th>\n",
       "      <th>PC 3</th>\n",
       "      <th>class</th>\n",
       "    </tr>\n",
       "  </thead>\n",
       "  <tbody>\n",
       "    <tr>\n",
       "      <th>42</th>\n",
       "      <td>-0.334433</td>\n",
       "      <td>0.987835</td>\n",
       "      <td>-0.530450</td>\n",
       "      <td>0</td>\n",
       "    </tr>\n",
       "    <tr>\n",
       "      <th>404</th>\n",
       "      <td>-0.317772</td>\n",
       "      <td>0.987959</td>\n",
       "      <td>-0.530798</td>\n",
       "      <td>0</td>\n",
       "    </tr>\n",
       "    <tr>\n",
       "      <th>1337</th>\n",
       "      <td>2.298228</td>\n",
       "      <td>1.682959</td>\n",
       "      <td>-0.634642</td>\n",
       "      <td>4</td>\n",
       "    </tr>\n",
       "    <tr>\n",
       "      <th>BTC</th>\n",
       "      <td>-0.150709</td>\n",
       "      <td>-1.193328</td>\n",
       "      <td>0.185275</td>\n",
       "      <td>1</td>\n",
       "    </tr>\n",
       "    <tr>\n",
       "      <th>ETH</th>\n",
       "      <td>-0.148850</td>\n",
       "      <td>-1.835179</td>\n",
       "      <td>0.422394</td>\n",
       "      <td>1</td>\n",
       "    </tr>\n",
       "  </tbody>\n",
       "</table>\n",
       "</div>"
      ],
      "text/plain": [
       "          PC 1      PC 2      PC 3  class\n",
       "42   -0.334433  0.987835 -0.530450      0\n",
       "404  -0.317772  0.987959 -0.530798      0\n",
       "1337  2.298228  1.682959 -0.634642      4\n",
       "BTC  -0.150709 -1.193328  0.185275      1\n",
       "ETH  -0.148850 -1.835179  0.422394      1"
      ]
     },
     "execution_count": 145,
     "metadata": {},
     "output_type": "execute_result"
    }
   ],
   "source": [
    "# Create a new DataFrame including predicted clusters and cryptocurrencies features.\n",
    "\n",
    "# YOUR CODE HERE\n",
    "clusters_df = get_clusters(5, pcs_df)\n",
    "clusters_df.head()\n"
   ]
  },
  {
   "cell_type": "code",
   "execution_count": 159,
   "metadata": {},
   "outputs": [],
   "source": [
    "# Concatentate the crypto_df and pcs_df DataFrames on the same columns.\n",
    "# result = pd.concat(frames, keys=[\"x\", \"y\", \"z\"])\n",
    "# combo = pd.concat([clusters_df, crypto_df])\n",
    "\n",
    "combo = pd.concat([clusters_df, crypto_df_drop], axis=1, join=\"inner\")"
   ]
  },
  {
   "cell_type": "code",
   "execution_count": 160,
   "metadata": {},
   "outputs": [
    {
     "data": {
      "text/html": [
       "<div>\n",
       "<style scoped>\n",
       "    .dataframe tbody tr th:only-of-type {\n",
       "        vertical-align: middle;\n",
       "    }\n",
       "\n",
       "    .dataframe tbody tr th {\n",
       "        vertical-align: top;\n",
       "    }\n",
       "\n",
       "    .dataframe thead th {\n",
       "        text-align: right;\n",
       "    }\n",
       "</style>\n",
       "<table border=\"1\" class=\"dataframe\">\n",
       "  <thead>\n",
       "    <tr style=\"text-align: right;\">\n",
       "      <th></th>\n",
       "      <th>PC 1</th>\n",
       "      <th>PC 2</th>\n",
       "      <th>PC 3</th>\n",
       "      <th>class</th>\n",
       "      <th>CoinName</th>\n",
       "      <th>Algorithm</th>\n",
       "      <th>ProofType</th>\n",
       "      <th>TotalCoinsMined</th>\n",
       "      <th>TotalCoinSupply</th>\n",
       "    </tr>\n",
       "  </thead>\n",
       "  <tbody>\n",
       "    <tr>\n",
       "      <th>42</th>\n",
       "      <td>-0.334433</td>\n",
       "      <td>0.987835</td>\n",
       "      <td>-0.530450</td>\n",
       "      <td>0</td>\n",
       "      <td>42 Coin</td>\n",
       "      <td>Scrypt</td>\n",
       "      <td>PoW/PoS</td>\n",
       "      <td>4.199995e+01</td>\n",
       "      <td>42</td>\n",
       "    </tr>\n",
       "    <tr>\n",
       "      <th>404</th>\n",
       "      <td>-0.317772</td>\n",
       "      <td>0.987959</td>\n",
       "      <td>-0.530798</td>\n",
       "      <td>0</td>\n",
       "      <td>404Coin</td>\n",
       "      <td>Scrypt</td>\n",
       "      <td>PoW/PoS</td>\n",
       "      <td>1.055185e+09</td>\n",
       "      <td>532000000</td>\n",
       "    </tr>\n",
       "    <tr>\n",
       "      <th>1337</th>\n",
       "      <td>2.298228</td>\n",
       "      <td>1.682959</td>\n",
       "      <td>-0.634642</td>\n",
       "      <td>4</td>\n",
       "      <td>EliteCoin</td>\n",
       "      <td>X13</td>\n",
       "      <td>PoW/PoS</td>\n",
       "      <td>2.927942e+10</td>\n",
       "      <td>314159265359</td>\n",
       "    </tr>\n",
       "    <tr>\n",
       "      <th>BTC</th>\n",
       "      <td>-0.150709</td>\n",
       "      <td>-1.193328</td>\n",
       "      <td>0.185275</td>\n",
       "      <td>1</td>\n",
       "      <td>Bitcoin</td>\n",
       "      <td>SHA-256</td>\n",
       "      <td>PoW</td>\n",
       "      <td>1.792718e+07</td>\n",
       "      <td>21000000</td>\n",
       "    </tr>\n",
       "    <tr>\n",
       "      <th>ETH</th>\n",
       "      <td>-0.148850</td>\n",
       "      <td>-1.835179</td>\n",
       "      <td>0.422394</td>\n",
       "      <td>1</td>\n",
       "      <td>Ethereum</td>\n",
       "      <td>Ethash</td>\n",
       "      <td>PoW</td>\n",
       "      <td>1.076842e+08</td>\n",
       "      <td>0</td>\n",
       "    </tr>\n",
       "  </tbody>\n",
       "</table>\n",
       "</div>"
      ],
      "text/plain": [
       "          PC 1      PC 2      PC 3  class   CoinName Algorithm ProofType  \\\n",
       "42   -0.334433  0.987835 -0.530450      0    42 Coin    Scrypt   PoW/PoS   \n",
       "404  -0.317772  0.987959 -0.530798      0    404Coin    Scrypt   PoW/PoS   \n",
       "1337  2.298228  1.682959 -0.634642      4  EliteCoin       X13   PoW/PoS   \n",
       "BTC  -0.150709 -1.193328  0.185275      1    Bitcoin   SHA-256       PoW   \n",
       "ETH  -0.148850 -1.835179  0.422394      1   Ethereum    Ethash       PoW   \n",
       "\n",
       "      TotalCoinsMined TotalCoinSupply  \n",
       "42       4.199995e+01              42  \n",
       "404      1.055185e+09       532000000  \n",
       "1337     2.927942e+10    314159265359  \n",
       "BTC      1.792718e+07        21000000  \n",
       "ETH      1.076842e+08               0  "
      ]
     },
     "execution_count": 160,
     "metadata": {},
     "output_type": "execute_result"
    }
   ],
   "source": [
    "combo.head()"
   ]
  },
  {
   "cell_type": "code",
   "execution_count": 161,
   "metadata": {},
   "outputs": [
    {
     "name": "stdout",
     "output_type": "stream",
     "text": [
      "          PC 1      PC 2      PC 3  class     CoinName    Algorithm ProofType  \\\n",
      "42   -0.334433  0.987835 -0.530450      0      42 Coin       Scrypt   PoW/PoS   \n",
      "404  -0.317772  0.987959 -0.530798      0      404Coin       Scrypt   PoW/PoS   \n",
      "1337  2.298228  1.682959 -0.634642      4    EliteCoin          X13   PoW/PoS   \n",
      "BTC  -0.150709 -1.193328  0.185275      1      Bitcoin      SHA-256       PoW   \n",
      "ETH  -0.148850 -1.835179  0.422394      1     Ethereum       Ethash       PoW   \n",
      "...        ...       ...       ...    ...          ...          ...       ...   \n",
      "ZEPH  2.473388  0.694277  0.046302      4       ZEPHYR      SHA-256      DPoS   \n",
      "GAP  -0.332479  0.987730 -0.530476      0      Gapcoin       Scrypt   PoW/PoS   \n",
      "BDX   0.316397 -2.141628  0.392094      1       Beldex  CryptoNight       PoW   \n",
      "ZEN  -0.135518 -2.076601  0.420927      1      Horizen     Equihash       PoW   \n",
      "XBC  -0.287961  0.660974 -0.217260      0  BitcoinPlus       Scrypt       PoS   \n",
      "\n",
      "      TotalCoinsMined TotalCoinSupply  \n",
      "42       4.199995e+01              42  \n",
      "404      1.055185e+09       532000000  \n",
      "1337     2.927942e+10    314159265359  \n",
      "BTC      1.792718e+07        21000000  \n",
      "ETH      1.076842e+08               0  \n",
      "...               ...             ...  \n",
      "ZEPH     2.000000e+09      2000000000  \n",
      "GAP      1.493105e+07       250000000  \n",
      "BDX      9.802226e+08      1400222610  \n",
      "ZEN      7.296538e+06        21000000  \n",
      "XBC      1.283270e+05         1000000  \n",
      "\n",
      "[532 rows x 9 columns]\n"
     ]
    }
   ],
   "source": [
    "print(combo)"
   ]
  },
  {
   "cell_type": "code",
   "execution_count": null,
   "metadata": {},
   "outputs": [],
   "source": [
    "#  Add a new column, \"CoinName\" to the clustered_df DataFrame that holds the names of the cryptocurrencies. \n",
    "# YOUR CODE HERE\n",
    "# already done"
   ]
  },
  {
   "cell_type": "code",
   "execution_count": null,
   "metadata": {},
   "outputs": [],
   "source": [
    "#  Add a new column, \"Class\" to the clustered_df DataFrame that holds the predictions.\n",
    "# YOUR CODE HERE\n",
    "# already done"
   ]
  },
  {
   "cell_type": "code",
   "execution_count": 162,
   "metadata": {},
   "outputs": [
    {
     "name": "stdout",
     "output_type": "stream",
     "text": [
      "(532, 9)\n"
     ]
    },
    {
     "data": {
      "text/html": [
       "<div>\n",
       "<style scoped>\n",
       "    .dataframe tbody tr th:only-of-type {\n",
       "        vertical-align: middle;\n",
       "    }\n",
       "\n",
       "    .dataframe tbody tr th {\n",
       "        vertical-align: top;\n",
       "    }\n",
       "\n",
       "    .dataframe thead th {\n",
       "        text-align: right;\n",
       "    }\n",
       "</style>\n",
       "<table border=\"1\" class=\"dataframe\">\n",
       "  <thead>\n",
       "    <tr style=\"text-align: right;\">\n",
       "      <th></th>\n",
       "      <th>PC 1</th>\n",
       "      <th>PC 2</th>\n",
       "      <th>PC 3</th>\n",
       "      <th>class</th>\n",
       "      <th>CoinName</th>\n",
       "      <th>Algorithm</th>\n",
       "      <th>ProofType</th>\n",
       "      <th>TotalCoinsMined</th>\n",
       "      <th>TotalCoinSupply</th>\n",
       "    </tr>\n",
       "  </thead>\n",
       "  <tbody>\n",
       "    <tr>\n",
       "      <th>42</th>\n",
       "      <td>-0.334433</td>\n",
       "      <td>0.987835</td>\n",
       "      <td>-0.530450</td>\n",
       "      <td>0</td>\n",
       "      <td>42 Coin</td>\n",
       "      <td>Scrypt</td>\n",
       "      <td>PoW/PoS</td>\n",
       "      <td>4.199995e+01</td>\n",
       "      <td>42</td>\n",
       "    </tr>\n",
       "    <tr>\n",
       "      <th>404</th>\n",
       "      <td>-0.317772</td>\n",
       "      <td>0.987959</td>\n",
       "      <td>-0.530798</td>\n",
       "      <td>0</td>\n",
       "      <td>404Coin</td>\n",
       "      <td>Scrypt</td>\n",
       "      <td>PoW/PoS</td>\n",
       "      <td>1.055185e+09</td>\n",
       "      <td>532000000</td>\n",
       "    </tr>\n",
       "    <tr>\n",
       "      <th>1337</th>\n",
       "      <td>2.298228</td>\n",
       "      <td>1.682959</td>\n",
       "      <td>-0.634642</td>\n",
       "      <td>4</td>\n",
       "      <td>EliteCoin</td>\n",
       "      <td>X13</td>\n",
       "      <td>PoW/PoS</td>\n",
       "      <td>2.927942e+10</td>\n",
       "      <td>314159265359</td>\n",
       "    </tr>\n",
       "    <tr>\n",
       "      <th>BTC</th>\n",
       "      <td>-0.150709</td>\n",
       "      <td>-1.193328</td>\n",
       "      <td>0.185275</td>\n",
       "      <td>1</td>\n",
       "      <td>Bitcoin</td>\n",
       "      <td>SHA-256</td>\n",
       "      <td>PoW</td>\n",
       "      <td>1.792718e+07</td>\n",
       "      <td>21000000</td>\n",
       "    </tr>\n",
       "    <tr>\n",
       "      <th>ETH</th>\n",
       "      <td>-0.148850</td>\n",
       "      <td>-1.835179</td>\n",
       "      <td>0.422394</td>\n",
       "      <td>1</td>\n",
       "      <td>Ethereum</td>\n",
       "      <td>Ethash</td>\n",
       "      <td>PoW</td>\n",
       "      <td>1.076842e+08</td>\n",
       "      <td>0</td>\n",
       "    </tr>\n",
       "    <tr>\n",
       "      <th>LTC</th>\n",
       "      <td>-0.167527</td>\n",
       "      <td>-1.094317</td>\n",
       "      <td>0.021255</td>\n",
       "      <td>1</td>\n",
       "      <td>Litecoin</td>\n",
       "      <td>Scrypt</td>\n",
       "      <td>PoW</td>\n",
       "      <td>6.303924e+07</td>\n",
       "      <td>84000000</td>\n",
       "    </tr>\n",
       "    <tr>\n",
       "      <th>DASH</th>\n",
       "      <td>-0.399649</td>\n",
       "      <td>1.243193</td>\n",
       "      <td>-0.520345</td>\n",
       "      <td>0</td>\n",
       "      <td>Dash</td>\n",
       "      <td>X11</td>\n",
       "      <td>PoW/PoS</td>\n",
       "      <td>9.031294e+06</td>\n",
       "      <td>22000000</td>\n",
       "    </tr>\n",
       "    <tr>\n",
       "      <th>XMR</th>\n",
       "      <td>-0.159100</td>\n",
       "      <td>-2.018217</td>\n",
       "      <td>0.428675</td>\n",
       "      <td>1</td>\n",
       "      <td>Monero</td>\n",
       "      <td>CryptoNight-V7</td>\n",
       "      <td>PoW</td>\n",
       "      <td>1.720114e+07</td>\n",
       "      <td>0</td>\n",
       "    </tr>\n",
       "    <tr>\n",
       "      <th>ETC</th>\n",
       "      <td>-0.147293</td>\n",
       "      <td>-1.835269</td>\n",
       "      <td>0.422374</td>\n",
       "      <td>1</td>\n",
       "      <td>Ethereum Classic</td>\n",
       "      <td>Ethash</td>\n",
       "      <td>PoW</td>\n",
       "      <td>1.133597e+08</td>\n",
       "      <td>210000000</td>\n",
       "    </tr>\n",
       "    <tr>\n",
       "      <th>ZEC</th>\n",
       "      <td>-0.135517</td>\n",
       "      <td>-2.076601</td>\n",
       "      <td>0.420927</td>\n",
       "      <td>1</td>\n",
       "      <td>ZCash</td>\n",
       "      <td>Equihash</td>\n",
       "      <td>PoW</td>\n",
       "      <td>7.383056e+06</td>\n",
       "      <td>21000000</td>\n",
       "    </tr>\n",
       "  </tbody>\n",
       "</table>\n",
       "</div>"
      ],
      "text/plain": [
       "          PC 1      PC 2      PC 3  class          CoinName       Algorithm  \\\n",
       "42   -0.334433  0.987835 -0.530450      0           42 Coin          Scrypt   \n",
       "404  -0.317772  0.987959 -0.530798      0           404Coin          Scrypt   \n",
       "1337  2.298228  1.682959 -0.634642      4         EliteCoin             X13   \n",
       "BTC  -0.150709 -1.193328  0.185275      1           Bitcoin         SHA-256   \n",
       "ETH  -0.148850 -1.835179  0.422394      1          Ethereum          Ethash   \n",
       "LTC  -0.167527 -1.094317  0.021255      1          Litecoin          Scrypt   \n",
       "DASH -0.399649  1.243193 -0.520345      0              Dash             X11   \n",
       "XMR  -0.159100 -2.018217  0.428675      1            Monero  CryptoNight-V7   \n",
       "ETC  -0.147293 -1.835269  0.422374      1  Ethereum Classic          Ethash   \n",
       "ZEC  -0.135517 -2.076601  0.420927      1             ZCash        Equihash   \n",
       "\n",
       "     ProofType  TotalCoinsMined TotalCoinSupply  \n",
       "42     PoW/PoS     4.199995e+01              42  \n",
       "404    PoW/PoS     1.055185e+09       532000000  \n",
       "1337   PoW/PoS     2.927942e+10    314159265359  \n",
       "BTC        PoW     1.792718e+07        21000000  \n",
       "ETH        PoW     1.076842e+08               0  \n",
       "LTC        PoW     6.303924e+07        84000000  \n",
       "DASH   PoW/PoS     9.031294e+06        22000000  \n",
       "XMR        PoW     1.720114e+07               0  \n",
       "ETC        PoW     1.133597e+08       210000000  \n",
       "ZEC        PoW     7.383056e+06        21000000  "
      ]
     },
     "execution_count": 162,
     "metadata": {},
     "output_type": "execute_result"
    }
   ],
   "source": [
    "\n",
    "# Print the shape of the clustered_df\n",
    "# print(clustered_df.shape)\n",
    "# clustered_df.head(10)\n",
    "\n",
    "print(combo.shape)\n",
    "combo.head(10)"
   ]
  },
  {
   "cell_type": "markdown",
   "metadata": {},
   "source": [
    "### Deliverable 4: Visualizing Cryptocurrencies Results\n",
    "\n",
    "#### 3D-Scatter with Clusters"
   ]
  },
  {
   "cell_type": "code",
   "execution_count": null,
   "metadata": {},
   "outputs": [],
   "source": []
  },
  {
   "cell_type": "code",
   "execution_count": 180,
   "metadata": {},
   "outputs": [
    {
     "data": {
      "application/vnd.plotly.v1+json": {
       "config": {
        "plotlyServerURL": "https://plot.ly"
       },
       "data": [
        {
         "customdata": [
          [
           "Scrypt"
          ],
          [
           "Scrypt"
          ],
          [
           "X11"
          ],
          [
           "SHA-512"
          ],
          [
           "SHA-256"
          ],
          [
           "SHA-256"
          ],
          [
           "X15"
          ],
          [
           "Scrypt"
          ],
          [
           "Scrypt"
          ],
          [
           "Scrypt"
          ],
          [
           "Scrypt"
          ],
          [
           "Scrypt"
          ],
          [
           "Groestl"
          ],
          [
           "PoS"
          ],
          [
           "Scrypt"
          ],
          [
           "Scrypt"
          ],
          [
           "X11"
          ],
          [
           "X11"
          ],
          [
           "SHA3"
          ],
          [
           "Scrypt"
          ],
          [
           "SHA-256"
          ],
          [
           "Scrypt"
          ],
          [
           "X13"
          ],
          [
           "X13"
          ],
          [
           "NeoScrypt"
          ],
          [
           "Scrypt"
          ],
          [
           "Scrypt"
          ],
          [
           "Scrypt"
          ],
          [
           "X11"
          ],
          [
           "X11"
          ],
          [
           "Multiple"
          ],
          [
           "PHI1612"
          ],
          [
           "X11"
          ],
          [
           "Scrypt"
          ],
          [
           "Scrypt"
          ],
          [
           "Scrypt"
          ],
          [
           "X11"
          ],
          [
           "Multiple"
          ],
          [
           "X13"
          ],
          [
           "Scrypt"
          ],
          [
           "Counterparty"
          ],
          [
           "SHA-256"
          ],
          [
           "Groestl"
          ],
          [
           "Scrypt"
          ],
          [
           "X13"
          ],
          [
           "Scrypt"
          ],
          [
           "Scrypt"
          ],
          [
           "X13"
          ],
          [
           "X11"
          ],
          [
           "Scrypt"
          ],
          [
           "X11"
          ],
          [
           "QUAIT"
          ],
          [
           "X11"
          ],
          [
           "Scrypt"
          ],
          [
           "X13"
          ],
          [
           "SHA-256"
          ],
          [
           "X15"
          ],
          [
           "BLAKE256"
          ],
          [
           "SHA-256"
          ],
          [
           "X11"
          ],
          [
           "SHA-256"
          ],
          [
           "NIST5"
          ],
          [
           "Scrypt"
          ],
          [
           "Scrypt"
          ],
          [
           "X11"
          ],
          [
           "Scrypt"
          ],
          [
           "SHA-256"
          ],
          [
           "Scrypt"
          ],
          [
           "PoS"
          ],
          [
           "X11"
          ],
          [
           "SHA-256"
          ],
          [
           "SHA-256"
          ],
          [
           "NIST5"
          ],
          [
           "X11"
          ],
          [
           "POS 3.0"
          ],
          [
           "Scrypt"
          ],
          [
           "Scrypt"
          ],
          [
           "Scrypt"
          ],
          [
           "X13"
          ],
          [
           "X11"
          ],
          [
           "X11"
          ],
          [
           "Scrypt"
          ],
          [
           "SHA-256"
          ],
          [
           "X11"
          ],
          [
           "Scrypt"
          ],
          [
           "Scrypt"
          ],
          [
           "Scrypt"
          ],
          [
           "Scrypt"
          ],
          [
           "SHA-256D"
          ],
          [
           "PoS"
          ],
          [
           "Scrypt"
          ],
          [
           "X11"
          ],
          [
           "PoS"
          ],
          [
           "X13"
          ],
          [
           "X14"
          ],
          [
           "PoS"
          ],
          [
           "SHA-256D"
          ],
          [
           "X11"
          ],
          [
           "X13"
          ],
          [
           "X11"
          ],
          [
           "PoS"
          ],
          [
           "Scrypt"
          ],
          [
           "Scrypt"
          ],
          [
           "PoS"
          ],
          [
           "X11"
          ],
          [
           "SHA-256"
          ],
          [
           "Scrypt"
          ],
          [
           "X11"
          ],
          [
           "Scrypt"
          ],
          [
           "Scrypt"
          ],
          [
           "X11"
          ],
          [
           "Scrypt"
          ],
          [
           "Scrypt"
          ],
          [
           "Scrypt"
          ],
          [
           "Scrypt"
          ],
          [
           "Quark"
          ],
          [
           "QuBit"
          ],
          [
           "Scrypt"
          ],
          [
           "SHA-256"
          ],
          [
           "X11"
          ],
          [
           "Scrypt"
          ],
          [
           "Scrypt"
          ],
          [
           "Scrypt"
          ],
          [
           "Scrypt"
          ],
          [
           "X13"
          ],
          [
           "Scrypt"
          ],
          [
           "Scrypt"
          ],
          [
           "X11"
          ],
          [
           "Blake2S"
          ],
          [
           "X11"
          ],
          [
           "PoS"
          ],
          [
           "X11"
          ],
          [
           "PoS"
          ],
          [
           "X11"
          ],
          [
           "Scrypt"
          ],
          [
           "Scrypt"
          ],
          [
           "Scrypt"
          ],
          [
           "SHA-256"
          ],
          [
           "X11"
          ],
          [
           "Scrypt"
          ],
          [
           "PoS"
          ],
          [
           "Scrypt"
          ],
          [
           "X15"
          ],
          [
           "SHA-256"
          ],
          [
           "POS 3.0"
          ],
          [
           "536"
          ],
          [
           "NIST5"
          ],
          [
           "NIST5"
          ],
          [
           "Skein"
          ],
          [
           "X13"
          ],
          [
           "Scrypt"
          ],
          [
           "X13"
          ],
          [
           "SkunkHash v2 Raptor"
          ],
          [
           "Skein"
          ],
          [
           "X11"
          ],
          [
           "Scrypt"
          ],
          [
           "PoS"
          ],
          [
           "Scrypt"
          ],
          [
           "Scrypt"
          ],
          [
           "SHA-512"
          ],
          [
           "Ouroboros"
          ],
          [
           "X11"
          ],
          [
           "NeoScrypt"
          ],
          [
           "Scrypt"
          ],
          [
           "Lyra2REv2"
          ],
          [
           "Scrypt"
          ],
          [
           "SHA-256"
          ],
          [
           "NIST5"
          ],
          [
           "PHI1612"
          ],
          [
           "Scrypt"
          ],
          [
           "Quark"
          ],
          [
           "POS 2.0"
          ],
          [
           "Scrypt"
          ],
          [
           "SHA-256"
          ],
          [
           "X11"
          ],
          [
           "NIST5"
          ],
          [
           "X13"
          ],
          [
           "Scrypt"
          ],
          [
           "NIST5"
          ],
          [
           "Quark"
          ],
          [
           "Scrypt"
          ],
          [
           "Scrypt"
          ],
          [
           "X11"
          ],
          [
           "Quark"
          ],
          [
           "Scrypt"
          ],
          [
           "Scrypt"
          ],
          [
           "X11"
          ],
          [
           "POS 3.0"
          ],
          [
           "Ethash"
          ],
          [
           "Scrypt"
          ],
          [
           "Scrypt"
          ],
          [
           "X13"
          ],
          [
           "Proof-of-BibleHash"
          ],
          [
           "C11"
          ],
          [
           "X11"
          ],
          [
           "XEVAN"
          ],
          [
           "Scrypt"
          ],
          [
           "VBFT"
          ],
          [
           "NIST5"
          ],
          [
           "Scrypt"
          ],
          [
           "Scrypt"
          ],
          [
           "Scrypt"
          ],
          [
           "Green Protocol"
          ],
          [
           "PoS"
          ],
          [
           "Scrypt"
          ],
          [
           "Quark"
          ],
          [
           "PoS"
          ],
          [
           "X16R"
          ],
          [
           "Scrypt"
          ],
          [
           "XEVAN"
          ],
          [
           "Scrypt"
          ],
          [
           "Scrypt"
          ],
          [
           "Scrypt"
          ],
          [
           "SHA-256D"
          ],
          [
           "Scrypt"
          ],
          [
           "X15"
          ],
          [
           "Quark"
          ],
          [
           "SHA-256"
          ],
          [
           "DPoS"
          ],
          [
           "X16R"
          ],
          [
           "Quark"
          ],
          [
           "Quark"
          ],
          [
           "Scrypt"
          ],
          [
           "Lyra2REv2"
          ],
          [
           "Quark"
          ],
          [
           "Scrypt"
          ],
          [
           "X11"
          ],
          [
           "X11"
          ],
          [
           "Scrypt"
          ],
          [
           "PoS"
          ],
          [
           "Keccak"
          ],
          [
           "X11"
          ],
          [
           "Scrypt"
          ],
          [
           "SHA-512"
          ],
          [
           "XEVAN"
          ],
          [
           "XEVAN"
          ],
          [
           "X11"
          ],
          [
           "Quark"
          ],
          [
           "Scrypt"
          ],
          [
           "Quark"
          ],
          [
           "Quark"
          ],
          [
           "Scrypt"
          ],
          [
           "X11"
          ],
          [
           "Scrypt"
          ],
          [
           "XEVAN"
          ],
          [
           "SHA-256D"
          ],
          [
           "X11"
          ],
          [
           "X11"
          ],
          [
           "Scrypt"
          ],
          [
           "X11"
          ],
          [
           "Scrypt"
          ],
          [
           "Scrypt"
          ],
          [
           "SHA-256"
          ],
          [
           "Scrypt"
          ],
          [
           "X11"
          ],
          [
           "Scrypt"
          ],
          [
           "SHA-256"
          ],
          [
           "X11"
          ],
          [
           "Scrypt"
          ],
          [
           "Scrypt"
          ],
          [
           "X11"
          ],
          [
           "Scrypt"
          ],
          [
           "PoS"
          ],
          [
           "X11"
          ],
          [
           "SHA-256"
          ],
          [
           "Scrypt"
          ],
          [
           "Scrypt"
          ],
          [
           "NeoScrypt"
          ],
          [
           "X13"
          ],
          [
           "SHA-256"
          ],
          [
           "PoS"
          ],
          [
           "PoS"
          ],
          [
           "Scrypt"
          ],
          [
           "Scrypt"
          ]
         ],
         "hovertemplate": "<b>%{hovertext}</b><br><br>class=%{marker.color}<br>PC 1=%{x}<br>PC 2=%{y}<br>PC 3=%{z}<br>Algorithm=%{customdata[0]}<extra></extra>",
         "hovertext": [
          "42 Coin",
          "404Coin",
          "Dash",
          "Bitshares",
          "BitcoinDark",
          "PayCoin",
          "KoboCoin",
          "Aurora Coin",
          "BlueCoin",
          "EnergyCoin",
          "BitBar",
          "CryptoBullion",
          "Diamond",
          "Exclusive Coin",
          "FlutterCoin",
          "HoboNickels",
          "HyperStake",
          "IOCoin",
          "MaxCoin",
          "MintCoin",
          "MazaCoin",
          "Nautilus Coin",
          "NavCoin",
          "OpalCoin",
          "Orbitcoin",
          "PotCoin",
          "PhoenixCoin",
          "Reddcoin",
          "SuperCoin",
          "SyncCoin",
          "TeslaCoin",
          "TittieCoin",
          "TorCoin",
          "UnitaryStatus Dollar",
          "UltraCoin",
          "VeriCoin",
          "X11 Coin",
          "Crypti",
          "StealthCoin",
          "ZCC Coin",
          "StorjCoin",
          "Neutron",
          "FairCoin",
          "RubyCoin",
          "Kore",
          "Dnotes",
          "8BIT Coin",
          "Sativa Coin",
          "Ucoin",
          "Vtorrent",
          "IslaCoin",
          "Droidz",
          "Squall Coin",
          "Diggits",
          "Paycon",
          "Emercoin",
          "EverGreenCoin",
          "Decred",
          "EDRCoin",
          "Hitcoin",
          "DubaiCoin",
          "PWR Coin",
          "BillaryCoin",
          "GPU Coin",
          "EuropeCoin",
          "ZeitCoin",
          "SwingCoin",
          "SafeExchangeCoin",
          "Nebuchadnezzar",
          "Ratecoin",
          "Revenu",
          "Clockcoin",
          "VIP Tokens",
          "BitSend",
          "Let it Ride",
          "PutinCoin",
          "iBankCoin",
          "Frankywillcoin",
          "MudraCoin",
          "Lutetium Coin",
          "GoldBlocks",
          "CarterCoin",
          "BitTokens",
          "MustangCoin",
          "ZoneCoin",
          "RootCoin",
          "BitCurrency",
          "Swiscoin",
          "BuzzCoin",
          "Opair",
          "PesoBit",
          "Halloween Coin",
          "CoffeeCoin",
          "RoyalCoin",
          "GanjaCoin V2",
          "TeamUP",
          "LanaCoin",
          "InsaneCoin",
          "EmberCoin",
          "XenixCoin",
          "FreeCoin",
          "PLNCoin",
          "AquariusCoin",
          "Creatio",
          "Eternity",
          "Eurocoin",
          "BitcoinFast",
          "Stakenet",
          "BitConnect Coin",
          "MoneyCoin",
          "Enigma",
          "Russiacoin",
          "PandaCoin",
          "GameUnits",
          "GAKHcoin",
          "Allsafe",
          "LiteCreed",
          "Klingon Empire Darsek",
          "Internet of People",
          "KushCoin",
          "Printerium",
          "Impeach",
          "Zilbercoin",
          "FirstCoin",
          "FindCoin",
          "OpenChat",
          "RenosCoin",
          "VirtacoinPlus",
          "TajCoin",
          "Impact",
          "Atmos",
          "HappyCoin",
          "MacronCoin",
          "Condensate",
          "Independent Money System",
          "ArgusCoin",
          "LomoCoin",
          "ProCurrency",
          "GoldReserve",
          "GrowthCoin",
          "Phreak",
          "Degas Coin",
          "HTML5 Coin",
          "Ultimate Secure Cash",
          "QTUM",
          "Espers",
          "Denarius",
          "Virta Unique Coin",
          "Bitcoin Planet",
          "BritCoin",
          "Linda",
          "DeepOnion",
          "Signatum",
          "Cream",
          "Monoeci",
          "Draftcoin",
          "Stakecoin",
          "CoinonatX",
          "Ethereum Dark",
          "Obsidian",
          "Cardano",
          "Regalcoin",
          "TrezarCoin",
          "TerraNovaCoin",
          "Rupee",
          "WomenCoin",
          "Theresa May Coin",
          "NamoCoin",
          "LUXCoin",
          "Xios",
          "Bitcloud 2.0",
          "KekCoin",
          "BlackholeCoin",
          "Infinity Economics",
          "Magnet",
          "Electra",
          "Bitcoin Diamond",
          "Cash & Back Coin",
          "Bulwark",
          "Kalkulus",
          "GermanCoin",
          "LiteCoin Ultra",
          "PhantomX",
          "Digiwage",
          "Trollcoin",
          "Litecoin Plus",
          "Monkey Project",
          "TokenPay",
          "1717 Masonic Commemorative Token",
          "My Big Coin",
          "Unified Society USDEX",
          "Tokyo Coin",
          "BiblePay",
          "Stipend",
          "Pushi",
          "Ellerium",
          "Velox",
          "Ontology",
          "Bitspace",
          "Briacoin",
          "Ignition",
          "MedicCoin",
          "Bitcoin Green",
          "Deviant Coin",
          "Abjcoin",
          "Carebit",
          "Zealium",
          "Proton",
          "iDealCash",
          "Bitcoin Incognito",
          "HollyWoodCoin",
          "Swisscoin",
          "Xt3ch",
          "TheVig",
          "EmaratCoin",
          "Dekado",
          "Poseidon Quark",
          "BitcoinWSpectrum",
          "Muse",
          "Trivechain",
          "Dystem",
          "Giant",
          "Peony Coin",
          "Absolute Coin",
          "Vitae",
          "TPCash",
          "ARENON",
          "EUNO",
          "MMOCoin",
          "Ketan",
          "XDNA",
          "PAXEX",
          "ThunderStake",
          "Kcash",
          "Bettex coin",
          "BitMoney",
          "Junson Ming Chan Coin",
          "HerbCoin",
          "Oduwa",
          "Galilel",
          "Crypto Sports",
          "Credit",
          "Dash Platinum",
          "Nasdacoin",
          "Beetle Coin",
          "Titan Coin",
          "Award",
          "Insane Coin",
          "LiteDoge",
          "TruckCoin",
          "OrangeCoin",
          "BitstarCoin",
          "NeosCoin",
          "HyperCoin",
          "PinkCoin",
          "AudioCoin",
          "IncaKoin",
          "Piggy Coin",
          "Genstake",
          "XiaoMiCoin",
          "CapriCoin",
          " ClubCoin",
          "Radium",
          "Creditbit ",
          "OKCash",
          "HiCoin",
          "WhiteCoin",
          "FriendshipCoin",
          "Triangles Coin",
          "TigerCash",
          "Particl",
          "Nxt",
          "Gapcoin",
          "BitcoinPlus"
         ],
         "legendgroup": "0",
         "marker": {
          "color": [
           0,
           0,
           0,
           0,
           0,
           0,
           0,
           0,
           0,
           0,
           0,
           0,
           0,
           0,
           0,
           0,
           0,
           0,
           0,
           0,
           0,
           0,
           0,
           0,
           0,
           0,
           0,
           0,
           0,
           0,
           0,
           0,
           0,
           0,
           0,
           0,
           0,
           0,
           0,
           0,
           0,
           0,
           0,
           0,
           0,
           0,
           0,
           0,
           0,
           0,
           0,
           0,
           0,
           0,
           0,
           0,
           0,
           0,
           0,
           0,
           0,
           0,
           0,
           0,
           0,
           0,
           0,
           0,
           0,
           0,
           0,
           0,
           0,
           0,
           0,
           0,
           0,
           0,
           0,
           0,
           0,
           0,
           0,
           0,
           0,
           0,
           0,
           0,
           0,
           0,
           0,
           0,
           0,
           0,
           0,
           0,
           0,
           0,
           0,
           0,
           0,
           0,
           0,
           0,
           0,
           0,
           0,
           0,
           0,
           0,
           0,
           0,
           0,
           0,
           0,
           0,
           0,
           0,
           0,
           0,
           0,
           0,
           0,
           0,
           0,
           0,
           0,
           0,
           0,
           0,
           0,
           0,
           0,
           0,
           0,
           0,
           0,
           0,
           0,
           0,
           0,
           0,
           0,
           0,
           0,
           0,
           0,
           0,
           0,
           0,
           0,
           0,
           0,
           0,
           0,
           0,
           0,
           0,
           0,
           0,
           0,
           0,
           0,
           0,
           0,
           0,
           0,
           0,
           0,
           0,
           0,
           0,
           0,
           0,
           0,
           0,
           0,
           0,
           0,
           0,
           0,
           0,
           0,
           0,
           0,
           0,
           0,
           0,
           0,
           0,
           0,
           0,
           0,
           0,
           0,
           0,
           0,
           0,
           0,
           0,
           0,
           0,
           0,
           0,
           0,
           0,
           0,
           0,
           0,
           0,
           0,
           0,
           0,
           0,
           0,
           0,
           0,
           0,
           0,
           0,
           0,
           0,
           0,
           0,
           0,
           0,
           0,
           0,
           0,
           0,
           0,
           0,
           0,
           0,
           0,
           0,
           0,
           0,
           0,
           0,
           0,
           0,
           0,
           0,
           0,
           0,
           0,
           0,
           0,
           0,
           0,
           0,
           0,
           0,
           0,
           0,
           0,
           0,
           0,
           0,
           0,
           0,
           0,
           0,
           0,
           0,
           0,
           0,
           0,
           0,
           0,
           0,
           0,
           0
          ],
          "coloraxis": "coloraxis",
          "symbol": "circle"
         },
         "mode": "markers",
         "name": "0",
         "scene": "scene",
         "showlegend": true,
         "type": "scatter3d",
         "x": [
          -0.3344327451954983,
          -0.3177717643020263,
          -0.39964912777764217,
          -0.2632771642499231,
          -0.3164458708080627,
          -0.2699191504710523,
          -0.23020396295054069,
          -0.3340923800752759,
          -0.32666918827341085,
          -0.3329291746716387,
          -0.3344286836513435,
          -0.3344129659186455,
          -0.3729097993459581,
          -0.3387525827309348,
          -0.2940940205796338,
          -0.3324919805065838,
          -0.332944092450281,
          -0.39954381396368427,
          -0.37753823399224445,
          -0.027802080151449828,
          -0.2797615484637497,
          -0.2876572271604788,
          -0.2842790146265578,
          -0.28490128218259314,
          -0.3421107594034272,
          -0.32873671102386,
          -0.33283486162305126,
          0.023742478731087695,
          -0.3528325728345125,
          -0.39991530331413017,
          -0.24178315809424933,
          -0.32030610766998296,
          -0.39982698809471273,
          -0.3096710411177506,
          -0.33311055181980903,
          -0.2656487431248234,
          -0.3997914367430796,
          -0.2422504064856203,
          -0.28468212495805195,
          -0.3255403688043968,
          -0.3429217432039518,
          -0.31565775708631866,
          -0.37233128438251917,
          -0.2876373982637909,
          -0.2849767401684238,
          -0.282293601861989,
          -0.3344148120437503,
          -0.28492891042661583,
          -0.35327756614342704,
          -0.33414927556364366,
          -0.3998968304660228,
          -0.43217142263603747,
          -0.3682988198450467,
          -0.28603931982005737,
          -0.2844507165220363,
          -0.30900712584996953,
          -0.23264390844016172,
          -0.09061982271544886,
          -0.31641678202189466,
          -0.07747651058783868,
          -0.3164804209533552,
          -0.22301590689590106,
          -0.3340252618228097,
          -0.28590900006077463,
          -0.39706781972582533,
          0.8650822325754942,
          -0.3162806227907199,
          -0.05362888909716933,
          -0.33843593363748625,
          -0.39774002507380163,
          -0.3150250262220805,
          -0.3126946580696884,
          -0.3443864471492227,
          -0.39863264755623523,
          -0.35561591169142076,
          -0.3103299607577934,
          -0.3340633755773896,
          -0.3325025296611236,
          -0.23714531308547296,
          -0.34077059355081696,
          -0.39937095441626064,
          -0.3332677714224372,
          -0.3164614273607432,
          -0.3998860370978831,
          -0.3342524305721585,
          -0.33440904459952814,
          -0.28589739401446995,
          -0.243284054802659,
          0.044812613421637705,
          -0.33739320376247667,
          -0.3340231652333351,
          -0.38605513812294323,
          -0.3367215978406291,
          -0.23857499377096544,
          -0.4189545325756765,
          -0.3364719121079004,
          -0.2696759801703491,
          -0.39947868644173556,
          0.8473395856153086,
          -0.3998409472355863,
          -0.3378568687339711,
          -0.33395091987623604,
          -0.3341052790003042,
          -0.33843593363748625,
          -0.39941611367075625,
          -0.3163240820576181,
          -0.3339516260980684,
          -0.40533320900750763,
          -0.3340990037928813,
          -0.3296899612118651,
          -0.3998699499722699,
          -0.33331025462986635,
          0.35550033576216783,
          -0.33429821820321376,
          -0.33436874410492906,
          -0.3540358004493725,
          -0.34573731588692225,
          -0.33059781680095207,
          -0.3164378388418616,
          -0.39977991636799115,
          -0.33414662420191577,
          -0.3342735996072528,
          -0.28754419445898294,
          -0.28758483613748603,
          -0.2383428905156466,
          -0.3151305825556684,
          -0.28728519052954976,
          -0.3990460789305602,
          -0.4042630770831631,
          -0.3977843847716223,
          -0.33668280672042644,
          -0.3989439545637244,
          -0.3310837449640277,
          -0.394886703915506,
          -0.3342168769547662,
          -0.33421610648492206,
          -0.3273423925834265,
          0.26239253295428766,
          -0.39942215644615997,
          -0.2701951060203257,
          -0.33847028471439855,
          -0.33342794068931286,
          0.9013550890106858,
          -0.268610444853945,
          -0.3543945046919014,
          0.5664141662812479,
          -0.34592181136224964,
          -0.34442448890539284,
          -0.40614772701392743,
          -0.2846140822551591,
          0.1302897106663505,
          -0.28468480168213384,
          -0.3338518387252207,
          -0.40565256602941346,
          -0.3996944027155294,
          -0.2876182019217224,
          -0.3383367160195595,
          -0.3338521839391052,
          -0.33435167691968215,
          -0.32132789644176785,
          0.6321746655450081,
          -0.39963531873854746,
          -0.33711165727337933,
          -0.33430734982218113,
          -0.3079813767657524,
          0.43474727418310316,
          -0.3147843777343188,
          -0.33069361004912523,
          -0.40235799945013323,
          -0.33425771215861416,
          -0.3989416991236491,
          -0.33914743618667936,
          -0.3341280659947263,
          -0.0964347906243172,
          -0.39842848623904553,
          0.21346223103153428,
          -0.2813563662293352,
          -0.3315891469508705,
          -0.29922220883804507,
          -0.3539217203603695,
          0.07978778955404495,
          -0.33326724176120714,
          -0.3990091776674202,
          -0.35308691479736654,
          -0.3208358579345588,
          -0.33437380941848616,
          -0.3532494983561785,
          -0.35589780904551854,
          -0.2692118331110645,
          -0.2812493173953399,
          -0.3299198686409145,
          -0.23014208239395553,
          -0.24900800469058892,
          -0.3704224375940978,
          -0.3997117323313978,
          -0.29585243332534494,
          -0.2867786775026806,
          -0.31253857939718727,
          -0.3455209483002102,
          -0.3344011613384869,
          -0.33438288132816457,
          -0.28116159257881423,
          -0.3484125406418063,
          -0.337931277027842,
          -0.33409949949474477,
          -0.3976096032905601,
          -0.3381199207921645,
          -0.3189225671092805,
          -0.2809917084945468,
          -0.26438812278172885,
          -0.2873124291467463,
          -0.13755067881101582,
          -0.2875646066866639,
          -0.3349575686412223,
          -0.3335737704889606,
          -0.18552472344263357,
          -0.34963262340531576,
          -0.2687376494592439,
          1.0215001651657432,
          -0.36472246948735304,
          -0.3540352681831312,
          -0.400624964462978,
          -0.16837475840165392,
          -0.35437301884941425,
          -0.3527551040396258,
          -0.3272824783218021,
          -0.35282704818094907,
          -0.39918515343138034,
          -0.28481098239669084,
          -0.3372203274309763,
          -0.34538187839031365,
          -0.3526886531771049,
          -0.19396591258264698,
          -0.2998457532768087,
          -0.24938226063491287,
          0.5967660734357374,
          -0.14318266104832444,
          -0.399919788626946,
          -0.3341034259711191,
          -0.40037576315438617,
          -0.35415221503476857,
          0.5720947673501046,
          -0.3533038114527834,
          -0.33358663365417085,
          -0.29030987830283334,
          -0.289699204073341,
          -0.3967515389279375,
          -0.39941230468792477,
          0.10068073153841042,
          -0.39695157401283554,
          -0.33297268050137757,
          -0.3337969799945362,
          -0.26995182816753466,
          -0.33431507278490846,
          -0.3910418693134224,
          -0.24806566855476977,
          -0.0960853576922771,
          -0.38679248789786885,
          -0.33359340719999037,
          -0.32665914227744697,
          -0.3959815488910769,
          -0.3320332232037376,
          -0.338711531035427,
          -0.3997627344243926,
          -0.3149612396172824,
          -0.09488231840940346,
          -0.32922848909955665,
          -0.34173688161253574,
          -0.2850838912936049,
          -0.25085209810618386,
          -0.3386473899254014,
          -0.2975652653662471,
          -0.3324792585780483,
          -0.2879608840317995
         ],
         "y": [
          0.987834868474881,
          0.9879585314348542,
          1.2431933754720583,
          0.9586914654280091,
          0.8888023082844853,
          0.5619495778887448,
          1.9101084397131438,
          0.9878336552354525,
          0.9880496040129836,
          0.987876456395912,
          0.9878346639521932,
          0.9878347818063394,
          0.9094729056072737,
          1.312379571092137,
          0.04969521111057796,
          0.9878124955063023,
          0.9169066878752923,
          1.2431962883914762,
          0.7872910568976551,
          0.6681704424605538,
          0.8882976815182891,
          0.6609727442730866,
          1.8106357891624216,
          1.8106185776003427,
          0.6081275532961834,
          0.9877262305257776,
          0.9878169547406987,
          0.9977417888319552,
          0.9163565839666519,
          1.243199955704825,
          0.01058908187677759,
          1.373493176465875,
          1.2431960613009954,
          0.9875057172587998,
          0.9878080617515574,
          0.14857968983485945,
          1.2431998966344604,
          0.01063953591241525,
          1.8106246393629064,
          0.9874470479397539,
          1.1319581117399284,
          0.8887949532417645,
          0.9094916829479838,
          0.6609835472661971,
          1.810608885133098,
          0.6608144643111468,
          0.987835364522152,
          1.8106114756333374,
          0.9163316001367239,
          0.9878300335368152,
          1.2432004672869388,
          2.0068481519409405,
          0.46168473521967734,
          0.6609643713382777,
          1.8105993510584513,
          0.8883882242433341,
          1.9102461076171424,
          0.9285352904549605,
          0.8888031128635511,
          1.2352916065548758,
          0.8888086411009205,
          1.59687481388287,
          0.9878195205569099,
          0.6608912553438081,
          1.2430353451234344,
          0.6301230297458303,
          0.8887954709351882,
          -0.13430966450221998,
          1.312375653852236,
          1.243212589888737,
          0.8887143928237742,
          0.8885872740471668,
          1.5934607345960954,
          1.2431473386367196,
          1.2885547741982661,
          0.9872339804934459,
          0.9878169875359667,
          0.9878248792941532,
          1.4836670709067898,
          0.9162738188440294,
          1.2431833237870218,
          0.987810050933625,
          0.8888025117777704,
          1.243198864489575,
          0.987826546550143,
          0.9878355240463361,
          0.6610316747812262,
          0.10694554469172972,
          1.992599297162986,
          1.3123702711170624,
          0.9878461972472801,
          1.2426326526681741,
          1.3124103958859172,
          1.4837526979516045,
          1.973527154400197,
          1.3122518857781766,
          1.9918191533031713,
          1.2431930195526548,
          1.8413969958768608,
          1.2431995708289632,
          1.3123726570967569,
          0.9878237696861696,
          0.9878173073278821,
          1.312375653852236,
          1.2431757369223677,
          0.8888069444482928,
          0.9878272612857548,
          0.806797249535753,
          0.9878263537964753,
          0.9875536769158242,
          1.243198041893062,
          0.9877746518298379,
          0.6581651089294621,
          0.987830350319204,
          0.9878345372587888,
          1.3358864247650881,
          0.6487895852409261,
          0.9876240511267135,
          0.8888031642226122,
          1.243197772698792,
          0.9878301068719529,
          0.9878253695003756,
          0.6609512674084231,
          0.12261784570128326,
          1.4837514967793393,
          0.9877349766297752,
          0.6609714704000834,
          1.24316062072731,
          1.9772017546929164,
          1.2431891806751254,
          1.3123669204466528,
          1.2431634454284577,
          1.3123381752986054,
          1.2430221552160463,
          0.987827395504972,
          0.9878227345363407,
          0.9873972050002655,
          0.5291475418891823,
          1.2431882453540686,
          0.6601984338814989,
          1.312368365935547,
          0.9877961140654441,
          1.8845884623963343,
          0.5618668890861883,
          1.2885464113372935,
          1.877869592412524,
          1.5934689695921158,
          1.5934406690259568,
          2.001190942201279,
          1.810607508027784,
          0.9689998954113539,
          1.8106125880599455,
          1.1950118186784475,
          2.001204638068823,
          1.243200040817275,
          0.660973046745137,
          1.31235203298808,
          0.987820345407838,
          0.987834448933317,
          0.9593098596878488,
          1.167515597965188,
          1.2431905885292769,
          0.6080147034983164,
          0.9878283654160056,
          0.5257318787536976,
          0.9932654804386687,
          0.8887988294972217,
          1.5931359763691277,
          1.7007889859791956,
          0.9878264004645049,
          1.6626727580152563,
          1.353914115011643,
          0.987833923260258,
          0.5610519704365311,
          1.2431498167282782,
          1.5899341906190834,
          1.8105835344336316,
          0.9877804272910409,
          1.2666037720238357,
          1.3358864112617757,
          0.9676030413701694,
          0.9877720388695872,
          1.2431933303234566,
          1.3358461236457366,
          0.9876405498568376,
          0.9878339635168659,
          0.9163317426969781,
          1.2885523641977075,
          -0.07994021051274451,
          0.27931815116184866,
          0.9878126554388097,
          1.4834805090911694,
          9.59745191524614,
          0.8748043203245988,
          1.2431897425304632,
          1.129040505136217,
          0.6609287104450935,
          1.3011736407461574,
          1.593454706090679,
          0.987833840757087,
          0.9878330788145016,
          0.6608457750357098,
          1.3067406953330987,
          1.312346515420583,
          0.9878250725285086,
          1.6627096030185098,
          1.312346367871304,
          0.5331807230948225,
          0.9860668338698989,
          0.347545792366053,
          0.6609760574819392,
          0.9868159716161308,
          0.660957674382229,
          1.9947072662629424,
          0.9878053898471626,
          1.5833633705937267,
          1.335605764713677,
          0.5619266357212778,
          1.3762064561028828,
          0.860035781545342,
          1.33588263681585,
          1.6627496909862503,
          0.6535841009204021,
          0.852576303543282,
          1.3358679769115096,
          0.9873988621942225,
          0.9163218789540712,
          1.2431884629352143,
          0.6608969418725994,
          1.312288858891354,
          0.9338330282858651,
          0.9162971868445192,
          0.9803120859126644,
          0.49991046223081964,
          0.8021865275544375,
          0.18435540911126752,
          0.922155379736448,
          1.6627382362942515,
          0.9878306679315587,
          1.662747783736066,
          1.3358842378637967,
          0.9655022602119804,
          0.9163310643401588,
          0.9878050340594242,
          1.1289149464442614,
          1.9928535715612772,
          1.2430212772395806,
          1.2431948556337193,
          0.9776876066485066,
          1.2432819313835188,
          0.9877484973358532,
          0.9878180670351887,
          0.561943286924648,
          0.9878381232525865,
          1.243128501125931,
          0.9835690571024363,
          0.8947908783164698,
          1.2429291472829107,
          0.987848577428336,
          0.9877963704516957,
          1.243176935777075,
          0.9877998333262104,
          1.3123750025512582,
          0.6031208807166212,
          0.8887907687065913,
          0.659971656188934,
          0.9877886816558671,
          0.6081021506048158,
          1.8106134506841147,
          0.5618511052343838,
          1.312377008531634,
          1.4762869175989641,
          0.9877304561734978,
          0.6609739660576611
         ],
         "z": [
          -0.5304497432418311,
          -0.530798275228801,
          -0.520345111614207,
          0.05288246499416743,
          -0.3664505137833354,
          -0.053262698843858876,
          -0.607687310138644,
          -0.5304564049664441,
          -0.53063140831672,
          -0.5304849263769525,
          -0.530449799439794,
          -0.5304501283860674,
          -0.4358257114033462,
          -0.08837621422119601,
          -0.2705262631684403,
          -0.5304858339672556,
          -0.20763043473798246,
          -0.5203475759281474,
          -0.4189937445834665,
          -0.22334755019161653,
          -0.36712268161616124,
          -0.21726575505937198,
          -0.5986185520092545,
          -0.5986039911216001,
          -0.33409675734525446,
          -0.5305503996494264,
          -0.5304795197936518,
          -0.5388309438164395,
          -0.2071650498313098,
          -0.5203405922521406,
          0.1578682736252025,
          -0.29105209764419127,
          -0.5203418819954296,
          -0.5309048584767676,
          -0.5304729133425714,
          -0.23354066023523076,
          -0.5203430634858466,
          0.15787143824795524,
          -0.5986091193396702,
          -0.5305801337823297,
          -0.09377731175097331,
          -0.3664653817497085,
          -0.4358395887685582,
          -0.2172674760515176,
          -0.5986012931625789,
          -0.217353675102389,
          -0.5304501628758498,
          -0.5986025677424196,
          -0.20715308333979118,
          -0.5304548225836769,
          -0.5203410245893345,
          -0.6545327269256064,
          -0.19826876214338654,
          -0.21729710178282244,
          -0.5986106498028869,
          -0.36654859889865077,
          -0.6076553640469989,
          -0.49979918312805444,
          -0.36645119445283736,
          -0.5258229381355195,
          -0.36645059873840197,
          -0.5656820461395796,
          -0.5304560153215947,
          -0.2172907468199216,
          -0.5203773902326262,
          -0.23654962365940874,
          -0.36645298214623284,
          -0.18022134906391488,
          -0.08838206994995258,
          -0.520385666590655,
          -0.36646816710787034,
          -0.36649921375385924,
          -0.5628350172975045,
          -0.5203598074028192,
          -0.08746775295578149,
          -0.5308583645022058,
          -0.5304549421969792,
          -0.530487140891892,
          -0.28542866450021986,
          -0.20739625538261658,
          -0.5203494455127721,
          -0.5304700113335775,
          -0.36645022745292755,
          -0.5203410440853579,
          -0.5304523310965864,
          -0.5304502978324398,
          -0.21730819166676502,
          -0.2943699386046453,
          -0.7001585538608869,
          -0.0884022743546938,
          -0.530459327302231,
          -0.5205483834446918,
          -0.08842063116656222,
          -0.28541055385806013,
          -0.7263569658352673,
          -0.08840619701178702,
          -0.6937702495993667,
          -0.5203484783852713,
          -0.6250320770557376,
          -0.5203420328818296,
          -0.08839328924968409,
          -0.5304580237049994,
          -0.5304541429419077,
          -0.08838206994995258,
          -0.5203476119128246,
          -0.36645351898339773,
          -0.5304584375744262,
          -0.21926645972148223,
          -0.5304553774203573,
          -0.5305101742217405,
          -0.5203412651424291,
          -0.5304648220541697,
          -0.2297906818253433,
          -0.5304518811875276,
          -0.5304509832538075,
          -0.1596771051582933,
          -0.3921130104074063,
          -0.5305006352044593,
          -0.3664507794177054,
          -0.5203430336475694,
          -0.5304548846248037,
          -0.5304517632377258,
          -0.21726538412184265,
          -0.33487048148706033,
          -0.2854150508254543,
          -0.5308237198838441,
          -0.21727304307402776,
          -0.5203531630789427,
          -0.6375525753758557,
          -0.5203819094852149,
          -0.08841607812632321,
          -0.5203555527607087,
          -0.08852458745261242,
          -0.5204194158585355,
          -0.5304531465619579,
          -0.5304525906367914,
          -0.530537966927345,
          -0.05989297052953305,
          -0.5203490242854791,
          -0.21752024364468792,
          -0.08838048925835326,
          -0.5304650980883648,
          -0.6272006944603032,
          -0.053278749038026894,
          -0.08749116724806777,
          -0.7854495210096436,
          -0.5628053052898301,
          -0.5628317964731205,
          -0.7979401128132327,
          -0.5986083808621082,
          -0.537439689602508,
          -0.5986075885314112,
          -0.18899230589483956,
          -0.797951699442483,
          -0.5203450227358323,
          -0.21726657300133345,
          -0.08838115977173425,
          -0.53045957958681,
          -0.530451313928082,
          0.05396821258614985,
          -0.11971356776823412,
          -0.5203450462988994,
          -0.33418295239167534,
          -0.5304514551613824,
          -0.08216020309230072,
          -0.5465061267644398,
          -0.36648333254844506,
          -0.5630691915339796,
          -0.6035833939537679,
          -0.5304522075089331,
          -0.47288921252508387,
          -0.06964693744778744,
          -0.530455723773208,
          -0.05662395833399284,
          -0.5203641962778508,
          -0.5735648552338425,
          -0.598670626563343,
          -0.5304999680476036,
          -0.24961942136320117,
          -0.15967938615765215,
          -0.5362579587015242,
          -0.5304653624117518,
          -0.5203579109880239,
          -0.15969115151594176,
          -0.5306979868871564,
          -0.5304508115714878,
          -0.2071536624296066,
          -0.08746181698920293,
          0.18388440932727215,
          -0.08242326065226366,
          -0.5305373195464418,
          -0.2855459249921185,
          -3.20233915764532,
          -0.548646594008543,
          -0.5203434136192818,
          -0.34108541977235096,
          -0.21727793649248775,
          0.02853456917397758,
          -0.5628115778301007,
          -0.530450249232767,
          -0.5304505216027299,
          -0.21738016380461392,
          -0.07894332931901218,
          -0.08838859594967086,
          -0.5304552104438798,
          -0.4729203831968992,
          -0.08838480324684576,
          -0.0032162813652685082,
          -0.5313023314346839,
          -0.019013058637035552,
          -0.21727306033493587,
          -0.5342643051349146,
          -0.21726576105594936,
          -0.6928180403357707,
          -0.5304633171721456,
          -0.294475725655122,
          -0.1597308060174973,
          -0.0532835275162866,
          0.020763086677560876,
          -0.3164189247445586,
          -0.15967665148159996,
          -0.47286496212975493,
          -0.21874680513939668,
          -0.39534970274199654,
          -0.15970046956725759,
          -0.5305393689043949,
          -0.20716090623389385,
          -0.5203537932041161,
          -0.21731341436138665,
          -0.08839575396370945,
          -0.44555744439319966,
          -0.2071606486516597,
          -0.5323382333155426,
          0.3237720868385808,
          -0.027896320477978086,
          0.2750808111536062,
          -0.21207079942834514,
          -0.47287766803787173,
          -0.5304558177627876,
          -0.4728697146649555,
          -0.15967450772180072,
          -0.5458511278117886,
          -0.2071524925134342,
          -0.5304630161776588,
          -0.3411809310353896,
          -0.6934963993530533,
          -0.5203819943258354,
          -0.5203500316998386,
          -0.5379121766679061,
          -0.5204099427707698,
          -0.5304683706334726,
          -0.5304604048921773,
          -0.053261273841789594,
          -0.5304524967467523,
          -0.5205093839183313,
          -0.5316549785488872,
          -0.371593836786968,
          -0.5205699739630646,
          -0.5304682181916857,
          -0.5306005679518894,
          -0.5204164818607553,
          -0.5304934612166506,
          -0.0883764756220852,
          -0.35843282250331354,
          -0.36647880558661944,
          -0.22100031889603897,
          -0.5305482148108033,
          -0.33410112448882956,
          -0.5985997087965852,
          -0.05363214507505165,
          -0.08837800492936068,
          -0.08491450897554219,
          -0.5304760321393827,
          -0.21725982888596562
         ]
        },
        {
         "customdata": [
          [
           "X13"
          ],
          [
           "Scrypt"
          ],
          [
           "CryptoNight"
          ],
          [
           "DPoS"
          ],
          [
           "Scrypt"
          ],
          [
           "VeChainThor Authority"
          ],
          [
           "DPoS"
          ],
          [
           "CryptoNight"
          ],
          [
           "Semux BFT consensus"
          ],
          [
           "Scrypt"
          ],
          [
           "CryptoNight Heavy"
          ],
          [
           "DPoS"
          ],
          [
           "DPoS"
          ],
          [
           "DPoS"
          ],
          [
           "DPoS"
          ],
          [
           "SHA-256"
          ]
         ],
         "hovertemplate": "<b>%{hovertext}</b><br><br>class=%{marker.color}<br>PC 1=%{x}<br>PC 2=%{y}<br>PC 3=%{z}<br>Algorithm=%{customdata[0]}<extra></extra>",
         "hovertext": [
          "EliteCoin",
          "MoonCoin",
          "ByteCoin",
          "ARK",
          "gCn Coin",
          "Vechain",
          "Lamden Tau",
          "TurtleCoin",
          "Semux",
          "Lynx",
          "Qwertycoin",
          "ALAX",
          "Lisk",
          "EOS",
          "Oxycoin",
          "ZEPHYR"
         ],
         "legendgroup": "4",
         "marker": {
          "color": [
           4,
           4,
           4,
           4,
           4,
           4,
           4,
           4,
           4,
           4,
           4,
           4,
           4,
           4,
           4,
           4
          ],
          "coloraxis": "coloraxis",
          "symbol": "diamond"
         },
         "mode": "markers",
         "name": "4",
         "scene": "scene",
         "showlegend": true,
         "type": "scatter3d",
         "x": [
          2.298228212816418,
          2.551457512023217,
          3.8502275540406807,
          3.7282949874607914,
          3.2401505014227165,
          4.379778773110825,
          3.7331494420525813,
          8.028004170565135,
          3.9510315780470733,
          2.2643221669647944,
          3.1000423365723213,
          3.7453896160568267,
          3.7286866522501008,
          3.7385563829121002,
          3.739800628417263,
          2.4733877529156127
         ],
         "y": [
          1.6829590414030993,
          -1.2624288906380274,
          -2.1599084179443553,
          1.5087162155194733,
          -1.1267647825788591,
          5.980116388937967,
          1.508612819973064,
          -2.5612205824516803,
          1.5163625485084138,
          0.08839204734820039,
          -2.1265161999754216,
          1.5086344868491364,
          1.5087049182082903,
          1.5090792621267048,
          1.5091136772405034,
          0.6942773679852295
         ],
         "z": [
          -0.6346419103040136,
          -0.012542688908522129,
          0.32362517126325785,
          0.12103631719714822,
          -0.04295261485628391,
          2.354648317279215,
          0.12095185753398155,
          0.28922394037673294,
          0.17120894689114724,
          -0.42858185738923005,
          0.344277117425716,
          0.12070428516625108,
          0.12102986511153184,
          0.12078649232452057,
          0.12075737732593211,
          0.04630225889820348
         ]
        },
        {
         "customdata": [
          [
           "SHA-256"
          ],
          [
           "Ethash"
          ],
          [
           "Scrypt"
          ],
          [
           "CryptoNight-V7"
          ],
          [
           "Ethash"
          ],
          [
           "Equihash"
          ],
          [
           "Multiple"
          ],
          [
           "Scrypt"
          ],
          [
           "X11"
          ],
          [
           "Scrypt"
          ],
          [
           "Multiple"
          ],
          [
           "SHA-256"
          ],
          [
           "Scrypt"
          ],
          [
           "Scrypt"
          ],
          [
           "Quark"
          ],
          [
           "Groestl"
          ],
          [
           "Scrypt"
          ],
          [
           "Scrypt"
          ],
          [
           "Scrypt"
          ],
          [
           "X11"
          ],
          [
           "Scrypt"
          ],
          [
           "Multiple"
          ],
          [
           "SHA-256"
          ],
          [
           "Scrypt"
          ],
          [
           "Scrypt"
          ],
          [
           "Scrypt"
          ],
          [
           "Scrypt"
          ],
          [
           "Scrypt"
          ],
          [
           "NeoScrypt"
          ],
          [
           "Scrypt"
          ],
          [
           "Scrypt"
          ],
          [
           "Scrypt"
          ],
          [
           "Scrypt"
          ],
          [
           "SHA-256"
          ],
          [
           "Scrypt"
          ],
          [
           "Scrypt"
          ],
          [
           "Scrypt"
          ],
          [
           "Scrypt"
          ],
          [
           "HybridScryptHash256"
          ],
          [
           "Scrypt"
          ],
          [
           "Scrypt"
          ],
          [
           "SHA-256"
          ],
          [
           "Scrypt"
          ],
          [
           "Scrypt"
          ],
          [
           "Scrypt"
          ],
          [
           "Scrypt"
          ],
          [
           "SHA-256"
          ],
          [
           "SHA-256"
          ],
          [
           "SHA-256"
          ],
          [
           "SHA-256"
          ],
          [
           "SHA-256"
          ],
          [
           "X11"
          ],
          [
           "Scrypt"
          ],
          [
           "Lyra2REv2"
          ],
          [
           "Scrypt"
          ],
          [
           "SHA-256"
          ],
          [
           "CryptoNight"
          ],
          [
           "Shabal256"
          ],
          [
           "Scrypt"
          ],
          [
           "Scrypt"
          ],
          [
           "Scrypt"
          ],
          [
           "Scrypt"
          ],
          [
           "Scrypt"
          ],
          [
           "Scrypt"
          ],
          [
           "Stanford Folding"
          ],
          [
           "Multiple"
          ],
          [
           "QuBit"
          ],
          [
           "Scrypt"
          ],
          [
           "Scrypt"
          ],
          [
           "M7 POW"
          ],
          [
           "Scrypt"
          ],
          [
           "SHA-256"
          ],
          [
           "Scrypt"
          ],
          [
           "SHA3"
          ],
          [
           "X11"
          ],
          [
           "Lyra2RE"
          ],
          [
           "SHA-256"
          ],
          [
           "X11"
          ],
          [
           "Scrypt"
          ],
          [
           "Scrypt"
          ],
          [
           "Ethash"
          ],
          [
           "Blake2b"
          ],
          [
           "X11"
          ],
          [
           "SHA-256"
          ],
          [
           "Scrypt"
          ],
          [
           "1GB AES Pattern Search"
          ],
          [
           "Scrypt"
          ],
          [
           "SHA-256"
          ],
          [
           "X11"
          ],
          [
           "Dagger"
          ],
          [
           "Scrypt"
          ],
          [
           "X11GOST"
          ],
          [
           "Scrypt"
          ],
          [
           "X11"
          ],
          [
           "Scrypt"
          ],
          [
           "X11"
          ],
          [
           "Equihash"
          ],
          [
           "CryptoNight"
          ],
          [
           "SHA-256"
          ],
          [
           "Multiple"
          ],
          [
           "Scrypt"
          ],
          [
           "SHA-256"
          ],
          [
           "Scrypt"
          ],
          [
           "Lyra2Z"
          ],
          [
           "Ethash"
          ],
          [
           "Equihash"
          ],
          [
           "Scrypt"
          ],
          [
           "X11"
          ],
          [
           "X11"
          ],
          [
           "CryptoNight"
          ],
          [
           "Scrypt"
          ],
          [
           "CryptoNight"
          ],
          [
           "Lyra2RE"
          ],
          [
           "X11"
          ],
          [
           "CryptoNight-V7"
          ],
          [
           "Scrypt"
          ],
          [
           "X11"
          ],
          [
           "Equihash"
          ],
          [
           "Scrypt"
          ],
          [
           "Lyra2RE"
          ],
          [
           "Dagger-Hashimoto"
          ],
          [
           "Scrypt"
          ],
          [
           "NIST5"
          ],
          [
           "Scrypt"
          ],
          [
           "SHA-256"
          ],
          [
           "Scrypt"
          ],
          [
           "CryptoNight-V7"
          ],
          [
           "Argon2d"
          ],
          [
           "Blake2b"
          ],
          [
           "Cloverhash"
          ],
          [
           "CryptoNight"
          ],
          [
           "X11"
          ],
          [
           "Scrypt"
          ],
          [
           "Scrypt"
          ],
          [
           "X11"
          ],
          [
           "X11"
          ],
          [
           "CryptoNight"
          ],
          [
           "Time Travel"
          ],
          [
           "Keccak"
          ],
          [
           "X11"
          ],
          [
           "SHA-256"
          ],
          [
           "Scrypt"
          ],
          [
           "Scrypt"
          ],
          [
           "Scrypt"
          ],
          [
           "Scrypt"
          ],
          [
           "Scrypt"
          ],
          [
           "Scrypt"
          ],
          [
           "CryptoNight"
          ],
          [
           "Equihash"
          ],
          [
           "X11"
          ],
          [
           "NeoScrypt"
          ],
          [
           "Equihash"
          ],
          [
           "Dagger"
          ],
          [
           "Scrypt"
          ],
          [
           "X11"
          ],
          [
           "NeoScrypt"
          ],
          [
           "Ethash"
          ],
          [
           "NeoScrypt"
          ],
          [
           "Multiple"
          ],
          [
           "CryptoNight"
          ],
          [
           "CryptoNight"
          ],
          [
           "Ethash"
          ],
          [
           "X11"
          ],
          [
           "CryptoNight-V7"
          ],
          [
           "Scrypt"
          ],
          [
           "BLAKE256"
          ],
          [
           "X11"
          ],
          [
           "NeoScrypt"
          ],
          [
           "NeoScrypt"
          ],
          [
           "Scrypt"
          ],
          [
           "X11"
          ],
          [
           "SHA-256"
          ],
          [
           "C11"
          ],
          [
           "SkunkHash"
          ],
          [
           "CryptoNight"
          ],
          [
           "Scrypt"
          ],
          [
           "Dagger"
          ],
          [
           "Lyra2REv2"
          ],
          [
           "Scrypt"
          ],
          [
           "Scrypt"
          ],
          [
           "X11"
          ],
          [
           "Ethash"
          ],
          [
           "CryptoNight"
          ],
          [
           "Scrypt"
          ],
          [
           "IMesh"
          ],
          [
           "Equihash"
          ],
          [
           "Lyra2Z"
          ],
          [
           "X11"
          ],
          [
           "CryptoNight"
          ],
          [
           "NIST5"
          ],
          [
           "Lyra2RE"
          ],
          [
           "Tribus"
          ],
          [
           "Lyra2Z"
          ],
          [
           "CryptoNight"
          ],
          [
           "CryptoNight Heavy"
          ],
          [
           "CryptoNight"
          ],
          [
           "Jump Consistent Hash"
          ],
          [
           "CryptoNight"
          ],
          [
           "X16R"
          ],
          [
           "HMQ1725"
          ],
          [
           "X11"
          ],
          [
           "Scrypt"
          ],
          [
           "CryptoNight-V7"
          ],
          [
           "Cryptonight-GPU"
          ],
          [
           "XEVAN"
          ],
          [
           "SHA-256"
          ],
          [
           "X11"
          ],
          [
           "X16R"
          ],
          [
           "Equihash"
          ],
          [
           "Lyra2Z"
          ],
          [
           "SHA-256"
          ],
          [
           "CryptoNight"
          ],
          [
           "Blake"
          ],
          [
           "Blake"
          ],
          [
           "Equihash"
          ],
          [
           "Exosis"
          ],
          [
           "Scrypt"
          ],
          [
           "Equihash"
          ],
          [
           "Equihash"
          ],
          [
           "QuBit"
          ],
          [
           "SHA-256"
          ],
          [
           "X13"
          ],
          [
           "SHA-256"
          ],
          [
           "Scrypt"
          ],
          [
           "NeoScrypt"
          ],
          [
           "Blake"
          ],
          [
           "Scrypt"
          ],
          [
           "SHA-256"
          ],
          [
           "Scrypt"
          ],
          [
           "Groestl"
          ],
          [
           "Scrypt"
          ],
          [
           "Scrypt"
          ],
          [
           "Multiple"
          ],
          [
           "Equihash+Scrypt"
          ],
          [
           "Ethash"
          ],
          [
           "CryptoNight"
          ],
          [
           "Equihash"
          ]
         ],
         "hovertemplate": "<b>%{hovertext}</b><br><br>class=%{marker.color}<br>PC 1=%{x}<br>PC 2=%{y}<br>PC 3=%{z}<br>Algorithm=%{customdata[0]}<extra></extra>",
         "hovertext": [
          "Bitcoin",
          "Ethereum",
          "Litecoin",
          "Monero",
          "Ethereum Classic",
          "ZCash",
          "DigiByte",
          "ProsperCoin",
          "Spreadcoin",
          "Argentum",
          "MyriadCoin",
          "ZetaCoin",
          "SexCoin",
          "Quatloo",
          "QuarkCoin",
          "Riecoin",
          "Digitalcoin ",
          "Catcoin",
          "CannaCoin",
          "CryptCoin",
          "CasinoCoin",
          "Verge",
          "DevCoin",
          "EarthCoin",
          "E-Gulden",
          "Einsteinium",
          "Emerald",
          "Franko",
          "FeatherCoin",
          "GrandCoin",
          "GlobalCoin",
          "GoldCoin",
          "Infinite Coin",
          "IXcoin",
          "KrugerCoin",
          "LuckyCoin",
          "Litebar ",
          "MegaCoin",
          "MediterraneanCoin",
          "MinCoin",
          "NobleCoin",
          "Namecoin",
          "NyanCoin",
          "RonPaulCoin",
          "StableCoin",
          "SmartCoin",
          "SysCoin",
          "TigerCoin",
          "TerraCoin",
          "UnbreakableCoin",
          "Unobtanium",
          "UroCoin",
          "ViaCoin",
          "Vertcoin",
          "WorldCoin",
          "JouleCoin",
          "DigitalNote ",
          "BurstCoin",
          "MonaCoin",
          "Gulden",
          "PesetaCoin",
          "Wild Beast Coin",
          "Flo",
          "ArtByte",
          "Folding Coin",
          "Unitus",
          "CypherPunkCoin",
          "OmniCron",
          "GreenCoin",
          "Cryptonite",
          "MasterCoin",
          "SoonCoin",
          "1Credit",
          "Nexus",
          "MarsCoin ",
          "Crypto",
          "Anarchists Prime",
          "BowsCoin",
          "Song Coin",
          "BitZeny",
          "Expanse",
          "Siacoin",
          "MindCoin",
          "I0coin",
          "Revolution VR",
          "HOdlcoin",
          "Gamecredits",
          "CarpeDiemCoin",
          "Adzcoin",
          "SoilCoin",
          "YoCoin",
          "SibCoin",
          "Francs",
          "BolivarCoin",
          "Omni",
          "PizzaCoin",
          "Komodo",
          "Karbo",
          "ZayedCoin",
          "Circuits of Value",
          "DopeCoin",
          "DollarCoin",
          "Shilling",
          "ZCoin",
          "Elementrem",
          "ZClassic",
          "KiloCoin",
          "ArtexCoin",
          "Kurrent",
          "Cannabis Industry Coin",
          "OsmiumCoin",
          "Bikercoins",
          "HexxCoin",
          "PacCoin",
          "Citadel",
          "BeaverCoin",
          "VaultCoin",
          "Zero",
          "Canada eCoin",
          "Zoin",
          "DubaiCoin",
          "EB3coin",
          "Coinonat",
          "BenjiRolls",
          "ILCoin",
          "EquiTrader",
          "Quantum Resistant Ledger",
          "Dynamic",
          "Nano",
          "ChanCoin",
          "Dinastycoin",
          "DigitalPrice",
          "Unify",
          "SocialCoin",
          "ArcticCoin",
          "DAS",
          "LeviarCoin",
          "Bitcore",
          "SmartCash",
          "Onix",
          "Bitcoin Cash",
          "Sojourn Coin",
          "NewYorkCoin",
          "FrazCoin",
          "Kronecoin",
          "AdCoin",
          "Linx",
          "Sumokoin",
          "BitcoinZ",
          "Elements",
          "VIVO Coin",
          "Bitcoin Gold",
          "Pirl",
          "eBoost",
          "Pura",
          "Innova",
          "Ellaism",
          "GoByte",
          "SHIELD",
          "UltraNote",
          "BitCoal",
          "DaxxCoin",
          "AC3",
          "Lethean",
          "PopularCoin",
          "Photon",
          "Sucre",
          "SparksPay",
          "GunCoin",
          "IrishCoin",
          "Pioneer Coin",
          "UnitedBitcoin",
          "Interzone",
          "MUNcoin",
          "Niobio Cash",
          "ShareChain",
          "Travelflex",
          "KREDS",
          "BitFlip",
          "LottoCoin",
          "Crypto Improvement Fund",
          "Callisto Network",
          "BitTube",
          "Poseidon",
          "Aidos Kuneen",
          "Bitrolium",
          "Alpenschillling",
          "FuturoCoin",
          "Monero Classic",
          "Jumpcoin",
          "Infinex",
          "KEYCO",
          "GINcoin",
          "PlatinCoin",
          "Loki",
          "Newton Coin",
          "MassGrid",
          "PluraCoin",
          "Motion",
          "PlusOneCoin",
          "Axe",
          "HexCoin",
          "Webchain",
          "Ryo",
          "Urals Coin",
          "Project Pai",
          "Azart",
          "Xchange",
          "CrypticCoin",
          "Actinium",
          "Bitcoin SV",
          "FREDEnergy",
          "Universal Molecule",
          "Lithium",
          "PirateCash",
          "Exosis",
          "Block-Logic",
          "Beam",
          "Bithereum",
          "SLICE",
          "BLAST",
          "Bitcoin Rhodium",
          "GlobalToken",
          "SolarCoin",
          "UFO Coin",
          "BlakeCoin",
          "Crypto Escudo",
          "Crown Coin",
          "SmileyCoin",
          "Groestlcoin",
          "Bata",
          "Pakcoin",
          "JoinCoin",
          "Vollar",
          "Reality Clash",
          "Beldex",
          "Horizen"
         ],
         "legendgroup": "1",
         "marker": {
          "color": [
           1,
           1,
           1,
           1,
           1,
           1,
           1,
           1,
           1,
           1,
           1,
           1,
           1,
           1,
           1,
           1,
           1,
           1,
           1,
           1,
           1,
           1,
           1,
           1,
           1,
           1,
           1,
           1,
           1,
           1,
           1,
           1,
           1,
           1,
           1,
           1,
           1,
           1,
           1,
           1,
           1,
           1,
           1,
           1,
           1,
           1,
           1,
           1,
           1,
           1,
           1,
           1,
           1,
           1,
           1,
           1,
           1,
           1,
           1,
           1,
           1,
           1,
           1,
           1,
           1,
           1,
           1,
           1,
           1,
           1,
           1,
           1,
           1,
           1,
           1,
           1,
           1,
           1,
           1,
           1,
           1,
           1,
           1,
           1,
           1,
           1,
           1,
           1,
           1,
           1,
           1,
           1,
           1,
           1,
           1,
           1,
           1,
           1,
           1,
           1,
           1,
           1,
           1,
           1,
           1,
           1,
           1,
           1,
           1,
           1,
           1,
           1,
           1,
           1,
           1,
           1,
           1,
           1,
           1,
           1,
           1,
           1,
           1,
           1,
           1,
           1,
           1,
           1,
           1,
           1,
           1,
           1,
           1,
           1,
           1,
           1,
           1,
           1,
           1,
           1,
           1,
           1,
           1,
           1,
           1,
           1,
           1,
           1,
           1,
           1,
           1,
           1,
           1,
           1,
           1,
           1,
           1,
           1,
           1,
           1,
           1,
           1,
           1,
           1,
           1,
           1,
           1,
           1,
           1,
           1,
           1,
           1,
           1,
           1,
           1,
           1,
           1,
           1,
           1,
           1,
           1,
           1,
           1,
           1,
           1,
           1,
           1,
           1,
           1,
           1,
           1,
           1,
           1,
           1,
           1,
           1,
           1,
           1,
           1,
           1,
           1,
           1,
           1,
           1,
           1,
           1,
           1,
           1,
           1,
           1,
           1,
           1,
           1,
           1,
           1,
           1,
           1,
           1,
           1,
           1,
           1,
           1,
           1,
           1,
           1,
           1,
           1,
           1,
           1,
           1,
           1,
           1,
           1,
           1,
           1,
           1,
           1
          ],
          "coloraxis": "coloraxis",
          "symbol": "square"
         },
         "mode": "markers",
         "name": "1",
         "scene": "scene",
         "showlegend": true,
         "type": "scatter3d",
         "x": [
          -0.1507092864275528,
          -0.14885021431592324,
          -0.16752707803894995,
          -0.15909973699813537,
          -0.14729318041995523,
          -0.13551689047751447,
          0.16373436998315452,
          -0.16867311706351887,
          -0.2340970302782342,
          -0.16828984187595084,
          -0.08959958257786671,
          -0.147794671433629,
          -0.16554591173001343,
          -0.1680940415544956,
          -0.2302723393920742,
          -0.20624036210154248,
          -0.16814253950042446,
          -0.16865538096239677,
          -0.1687418043503936,
          -0.23418637254123076,
          0.6770065355712466,
          0.1875103571486693,
          0.2270695154084402,
          0.07994560904491868,
          -0.16848811127175276,
          -0.16409440078078566,
          -0.16842745696304598,
          -0.1687988038866629,
          -0.1717066249560234,
          -0.1480262397257206,
          -0.16759408185070718,
          -0.16787157475491957,
          1.5798317563999964,
          -0.15067065124181034,
          -0.165161681992622,
          -0.16851455065063528,
          -0.16886930642316658,
          -0.1681286866289465,
          -0.14790911736852916,
          -0.16875060519178164,
          -0.03372028955040933,
          -0.1507482710580103,
          -0.16241552238060103,
          -0.1687301033018647,
          -0.16682544269712934,
          -0.16821694741809934,
          -0.1379034790255711,
          -0.1502121149637274,
          -0.15049932725537712,
          -0.15048251452390116,
          -0.1510728625479941,
          -0.23436019089843915,
          -0.16844656959387488,
          -0.18814714251819614,
          -0.1655507091932371,
          -0.15027940696408448,
          0.44972807820788807,
          0.03630177024772469,
          -0.16731447015060538,
          -0.1519199997586107,
          -0.16603346428131077,
          -0.16887152287249058,
          -0.16589845317999755,
          -0.15212496256338723,
          -0.09666435691122478,
          -0.12359947611192974,
          -0.181046970315584,
          -0.16874458932451247,
          -0.041721149854952115,
          -0.14045544524929124,
          -0.16888040567591056,
          -0.1507760519178451,
          0.4828592054571403,
          -0.3245397857954787,
          -0.23374748105611967,
          -0.15705184026054114,
          -0.1505160592558665,
          -0.23403234949908136,
          -0.16700509118837042,
          -0.16619744999044553,
          -0.14991789191921803,
          0.37668132385948044,
          -0.23406772359077513,
          -0.15067177372810048,
          -0.16483890861691436,
          -0.15698271342966155,
          -0.16744403459442156,
          0.2677459818313274,
          -0.23322871089517766,
          -0.15897161219550818,
          -0.16769194492861947,
          -0.14921853804782437,
          -0.16867039645662416,
          -0.2340310111288147,
          -0.1688804641614658,
          -0.2341810003243532,
          -0.18129338797249084,
          0.2946679219672754,
          -0.15093182939771876,
          -0.10367601281760165,
          -0.16604790851911874,
          -0.15089045893550532,
          -0.16854398212281985,
          -0.1584603859734062,
          -0.14966006782782487,
          -0.13553851016152477,
          -0.0956515656019401,
          -0.22076525423708926,
          -0.23200998366268794,
          0.29466222570342915,
          -0.16886221113871283,
          0.294792935928055,
          -0.15759204894470125,
          0.48061030808893257,
          -0.15786529170080735,
          -0.16883049791025562,
          -0.22691944918485366,
          -0.13555086483190296,
          -0.16696405982098098,
          -0.15731045429108503,
          -0.1603579607006121,
          -0.1397722647177656,
          -0.18003772294823667,
          -0.16839299600773822,
          -0.11726634497431371,
          -0.1682152367680938,
          -0.157722577042046,
          -0.16679595707634562,
          -0.02367232138779464,
          -0.1499713526929755,
          0.330777917563109,
          -0.2332371921180412,
          -0.1685342514703613,
          -0.16829790515048215,
          -0.23363170354826382,
          -0.2342090032851954,
          0.2950570826361162,
          -0.17462900010946192,
          -0.11968972664366613,
          -0.2250858753768743,
          -0.15070845054294021,
          -0.09450186777200936,
          1.5783515425990655,
          -0.1686321148532506,
          -0.1680840379103622,
          -0.1677850633798684,
          -0.16777199271199553,
          0.2952405257675531,
          0.07668760403812774,
          -0.18860003008407597,
          -0.17639425911434573,
          -0.13539691900648088,
          -0.15773124141589984,
          -0.16696226875741274,
          -0.229754682981529,
          -0.17623974976986853,
          -0.14802644671662257,
          -0.1763398955423494,
          -0.11383367877902216,
          1.132246017006632,
          0.2946450393645663,
          -0.07295923322320562,
          -0.22949731034893261,
          -0.1468381681712144,
          -0.08503685092446359,
          1.0798603227176147,
          -0.2341830035995683,
          -0.17639178492621946,
          -0.16943140383526356,
          -0.16788326308374524,
          -0.23410841929956897,
          -0.15068784090495949,
          -0.20484800248215385,
          -0.1557158283684572,
          0.29851818785401335,
          0.024129271563536673,
          -0.15723409083799314,
          -0.17370894026387695,
          -0.16845692772144927,
          0.13855722231410222,
          -0.22825120205318816,
          -0.10109299352277126,
          0.3025637833465331,
          -0.16869386428549119,
          -0.16083429172125946,
          -0.13438815264467346,
          -0.15624514007887486,
          -0.23327796959142982,
          0.29482754851823895,
          -0.18009704365021653,
          -0.15743735688310295,
          -0.19103005694832106,
          -0.1585447136196357,
          0.29875308599149475,
          0.5781765752596012,
          2.102535587097228,
          -0.1534893265562285,
          0.30842883492896467,
          -0.19996231934215075,
          -0.16122136584894978,
          -0.23416516813592206,
          -0.16871845517993134,
          -0.14672211374791405,
          -0.16179908440716048,
          -0.1290743689599254,
          -0.11054254508704027,
          -0.2341365519703635,
          -0.1993903951403588,
          -0.030171358015803673,
          -0.15794279142448295,
          -0.1507084881130409,
          0.37455372612296295,
          -0.1373968970270239,
          -0.1377885351852893,
          -0.25392454505049095,
          -0.14041246339411603,
          -0.16761114779001066,
          -0.133458098521225,
          -0.13522977093575142,
          -0.18025839014548875,
          -0.14998477482800304,
          -0.11951690289714344,
          -0.14885313926221544,
          0.5267509085055115,
          -0.10156976368780044,
          -0.08828579351580247,
          -0.15227556735267958,
          -0.15049869762831428,
          0.5467746450883534,
          -0.20580142204999644,
          -0.16879521000029743,
          -0.1667516314179875,
          -0.12433446789916532,
          -0.13905101333948072,
          -0.149693221126086,
          0.3163973052007325,
          -0.13551794755659324
         ],
         "y": [
          -1.193327729806946,
          -1.8351792487431262,
          -1.0943167046123135,
          -2.0182165842346835,
          -1.8352692755822124,
          -2.0766010683475375,
          -1.7500097057704747,
          -1.0943084753415702,
          -0.8389411316416503,
          -1.0943251266491898,
          -1.7449749841214148,
          -1.1933414166903746,
          -1.0943671139361766,
          -1.0943425269536065,
          -0.4194065825710272,
          -1.1726824255396777,
          -1.0943110171004837,
          -1.0943079847712316,
          -1.0943053936927953,
          -0.838942335240031,
          -0.13809082327421532,
          -1.746534929923207,
          -1.1961746264129989,
          -1.0959745259561264,
          -1.094303358187961,
          -1.0943585233724085,
          -1.0943086520889922,
          -1.0943057634342153,
          -1.4740845770822952,
          -1.0946244371889844,
          -1.094309684999171,
          -1.0943187835695565,
          -1.1033528669811212,
          -1.1933266611799764,
          -1.0943662597355774,
          -1.0943034557073785,
          -1.0943014480773352,
          -1.0943067260593813,
          -2.014887756415939,
          -1.09430364705429,
          -1.100069127076498,
          -1.1933288080993718,
          -1.0943356679058873,
          -1.09431005154809,
          -1.0944025050255224,
          -1.094314998064796,
          -1.1935230145719509,
          -1.1933304641585765,
          -1.193335231807177,
          -1.1933588503623471,
          -1.193324635207656,
          -0.8389357349413972,
          -1.094303476726224,
          -1.2295607988182118,
          -1.094377020003808,
          -1.1933310502743357,
          -2.1433905492506296,
          -0.5986399613037638,
          -1.0943242094040018,
          -1.094896532415844,
          -1.094327606597542,
          -1.0943023193520574,
          -1.094319824958323,
          -1.094471232141762,
          -1.961296940058056,
          -1.7446478444487201,
          -1.43332006093148,
          -1.0942992795543143,
          -1.0971215334159572,
          -2.1770499725922026,
          -1.0943012920870832,
          -1.1933295765019483,
          -1.1345817857144234,
          -0.7522345893162738,
          -0.8389397024329618,
          -2.029906826452667,
          -1.193343147840646,
          -0.8389399763871344,
          -1.094382274963368,
          -1.094385135109075,
          -1.835219495002586,
          -2.0294457996390527,
          -0.8389377859212829,
          -1.1933266922273005,
          -1.0943222074946348,
          -2.070886992288298,
          -1.0943144076784834,
          -1.1954464616299931,
          -0.8389576762562384,
          -2.116065672654817,
          -1.094374724781732,
          -2.207346293839467,
          -1.094307766312581,
          -0.8389424744828611,
          -1.0943012917844106,
          -0.838946623097593,
          -1.9980618904960106,
          -2.1413479759260174,
          -1.1933267463354846,
          -1.7448573072161864,
          -1.0943493099496682,
          -1.1933261739094714,
          -1.094310607550636,
          -2.11938508565121,
          -1.8352182573336762,
          -2.0766016663355424,
          -1.0986132176434034,
          -0.8388765961107792,
          -0.8390152310771495,
          -2.141355105045656,
          -1.0943021164810842,
          -2.14135402479043,
          -2.029886410377011,
          -0.8825379198081339,
          -2.01829968922432,
          -1.0943016485511519,
          -0.839363706881968,
          -2.0765994729443293,
          -1.0943112723098987,
          -2.0298855931960307,
          -2.0090337425878504,
          -1.0960308993444958,
          -0.4886818656991467,
          -1.094309930072898,
          -1.1939738543880438,
          -1.0943281333434451,
          -2.0182450395335345,
          -1.9623310940820156,
          -2.0407350144737895,
          -2.099475113931291,
          -2.1416104136057297,
          -0.8389680512990864,
          -1.0943035422720404,
          -1.0943323212389804,
          -0.838953612115173,
          -0.838943531594083,
          -2.141365098223185,
          -2.0495627697498553,
          -1.1495762370247784,
          -0.8393763691437933,
          -1.1933277066868673,
          -1.0988983069485134,
          -1.0459734704570463,
          -1.0943067074654882,
          -1.0943321098014631,
          -1.094333980795314,
          -1.0943336192681719,
          -2.1413821361213836,
          -2.0840276548981005,
          -0.8388108366829461,
          -1.4740183967643892,
          -2.0765977500057717,
          -2.116111415214054,
          -1.0943112227701122,
          -0.8390301717451676,
          -1.4740255311391905,
          -1.8353339218053615,
          -1.4740199352364425,
          -1.74479602197686,
          -2.1720458890003096,
          -2.1413501932920473,
          -1.8394179336245395,
          -0.8391498086803099,
          -2.0185108862707795,
          -1.0951507279036257,
          -1.1828315152947195,
          -0.8389433828584706,
          -1.4740145256583543,
          -1.474125585462345,
          -1.0943138809140482,
          -0.8389433479911266,
          -1.1933266080648284,
          -1.2073331557538558,
          -2.200378140274903,
          -2.141448091603543,
          -1.0953001486993714,
          -2.116061978315,
          -1.229805365488937,
          -1.0943145374617447,
          -1.0974633011652233,
          -0.8390836531143288,
          -1.837977872232306,
          -2.14175702173316,
          -1.0943090491977756,
          -1.9774034520294559,
          -2.076600903259307,
          -2.1195003839355127,
          -0.8389691791805063,
          -2.141348884487569,
          -0.4886662347420133,
          -2.0298924495994566,
          -2.152242940515428,
          -2.1193805099189134,
          -2.141608912327009,
          -2.079451488049005,
          -2.2079523168935475,
          -2.0330114466965825,
          -2.141594797785551,
          -1.2220835727953667,
          -1.9878640214949916,
          -0.8389436500741054,
          -1.094310429859751,
          -2.018983338803372,
          -2.118977134524208,
          -0.9531564267828666,
          -1.1935343665293443,
          -0.8389453936817306,
          -1.2221171404528333,
          -2.078490679391945,
          -2.1194104438226424,
          -1.1933277077260351,
          -2.1442529736642557,
          -2.1486692373728107,
          -2.1486294365272722,
          -0.32136019651774667,
          -1.9462477272606091,
          -1.0943418459616885,
          -2.0766973710062793,
          -2.0765993923213757,
          -1.4333616271152536,
          -1.1933349427120221,
          -0.2715231669946676,
          -1.193369555295481,
          -1.137233815769558,
          -1.4744667965872806,
          -2.1516806797266192,
          -1.0944753977834625,
          -1.1933352143920553,
          -1.1061952215656632,
          -1.172683594060705,
          -1.0943017119047471,
          -1.0943573665053514,
          -1.7446699484780823,
          -2.1516471861776014,
          -1.8352180857599034,
          -2.141628047002079,
          -2.0766010975857374
         ],
         "z": [
          0.18527488107159748,
          0.4223942524462515,
          0.021254898928846844,
          0.4286746322105935,
          0.4223741328914945,
          0.4209265870308548,
          0.3913293651726206,
          0.021276821541577513,
          0.031384522493808374,
          0.021271193618463018,
          0.39578122584675657,
          0.1852182396120799,
          0.021221436495423195,
          0.0212694087348766,
          0.07877128525532802,
          0.1158841182087487,
          0.02126651666263853,
          0.02127640652174646,
          0.021277818172613525,
          0.031386457700709657,
          -0.19437730584413082,
          0.3904276878804727,
          0.17806479128457486,
          0.016506377116641116,
          0.02127249245753124,
          0.021191339849265637,
          0.021271927738140007,
          0.021279004012286846,
          0.21754530630773342,
          0.020902424062880436,
          0.021255379159055,
          0.02126204688107597,
          -0.012600750621704696,
          0.18527397701899886,
          0.021213643646785792,
          0.021273033443044067,
          0.021279885737091626,
          0.02126571348141868,
          0.32701984575600446,
          0.021277780167662033,
          0.019282660408021436,
          0.18527579330109897,
          0.021154945163571737,
          0.021278155003697376,
          0.021251377164001734,
          0.021268493494406564,
          0.1850425847544316,
          0.1852652682309568,
          0.1852715995459031,
          0.18527415829930752,
          0.18528177661327724,
          0.031389126607175064,
          0.0212716757710203,
          0.15636676769680594,
          0.02122274677502654,
          0.1852666865380714,
          0.3896417822566509,
          0.04337389676935269,
          0.021251564746565723,
          0.021013688639009032,
          0.021226349235200035,
          0.021280036887414654,
          0.021222693893625143,
          0.02096565646642724,
          0.41730072892106457,
          0.3964214367026845,
          0.15963081923712794,
          0.021277124426521063,
          0.01908143533350992,
          0.24517023700023724,
          0.02128008870328881,
          0.18527644336548887,
          0.013176865852717767,
          0.026866999069145185,
          0.03137735309102523,
          0.3993898395304993,
          0.18527290468794602,
          0.031383086670170826,
          0.021252491990135375,
          0.02123668230941532,
          0.4224205492393173,
          0.37881191356258076,
          0.0313835259710934,
          0.18527400328486585,
          0.021201785275478547,
          0.3252130908662352,
          0.021252955735352904,
          0.17716162810302888,
          0.031369176132004496,
          0.35427313236066516,
          0.02126530990224314,
          0.2586632982043658,
          0.021276680191537372,
          0.031383366107062216,
          0.021280089836438136,
          0.03138687581250058,
          0.5917347765921968,
          0.3924940376919181,
          0.1852792134308262,
          0.39604845952067186,
          0.02122929865080634,
          0.18527831547178708,
          0.02127449901726189,
          0.4213656662350709,
          0.42241523866460734,
          0.4209270929254433,
          0.02034339205490635,
          0.031109853170254526,
          0.031351845411698984,
          0.3924950255574612,
          0.021279825698873434,
          0.3924922777289609,
          0.3993981460864655,
          0.022427875469104585,
          0.4286601189243753,
          0.02127913378276636,
          0.03129270391744563,
          0.4209270712669093,
          0.021242967476749426,
          0.3993924114245614,
          0.4471954186528009,
          0.020909672561749134,
          -0.011080312555474174,
          0.021271394856308003,
          0.18468491557678932,
          0.021270069388466286,
          0.4286505643534045,
          0.48881222367267657,
          0.38820651351523616,
          0.27624711663855944,
          0.3918036741489589,
          0.031370617607792986,
          0.021273438252350934,
          0.0212722368713978,
          0.03137674152164641,
          0.031387057173557366,
          0.392488349738775,
          0.6029492582592642,
          0.10512509351082222,
          0.031257567660148054,
          0.1852748615121271,
          0.020355333743535497,
          -0.019604700814818486,
          0.02127578441267087,
          0.021267931634853934,
          0.021262178731568947,
          0.0212618728815778,
          0.39248676768926566,
          0.41759088996117816,
          0.03045819105021836,
          0.2176309898665037,
          0.4209237797318157,
          0.3542539206222886,
          0.021242925566360312,
          0.0313085500120308,
          0.21762877278556322,
          0.42239672932049893,
          0.21763009067930672,
          0.39624419423586077,
          0.3794976971002093,
          0.3924947673599438,
          0.4213953105651988,
          0.031318065283216616,
          0.42846536322759843,
          0.019706567705847684,
          0.0354059118404777,
          0.03138651870788483,
          0.21763046583961482,
          0.21750480769634736,
          0.02126167978786309,
          0.03138502205952592,
          0.18527431446004428,
          0.0030829570768601887,
          0.36480664466160956,
          0.39242926902381997,
          0.017540553796350805,
          0.3542379130461047,
          0.15610784939512298,
          0.021273238854452724,
          0.015516098049492609,
          0.03128502226605515,
          0.42178172264201585,
          0.39238618844269796,
          0.021277307020798483,
          0.4267514016995387,
          0.4209039816208529,
          0.42133547414037387,
          0.031371571789323247,
          0.39249095505924914,
          -0.011081041637168922,
          0.39939579110568785,
          0.306923551098841,
          0.421366792672832,
          0.392444282302315,
          0.38896851249972236,
          0.36448436214947677,
          0.5195222995080203,
          0.3922489478677226,
          0.23532469819184929,
          0.4615532403380816,
          0.03138619458931358,
          0.021277968307215945,
          0.42852095431356957,
          0.3257618606634043,
          0.21062733571871614,
          0.18449650509210178,
          0.03138583573338595,
          0.23531736915412493,
          0.4190503327534492,
          0.4213584179727562,
          0.185274862391257,
          0.39125167907282254,
          0.30155365165086667,
          0.3015566092395291,
          0.182377421832135,
          0.5366325210989249,
          0.02125966292707834,
          0.4208971969744489,
          0.420920636542931,
          0.15962013554016916,
          0.18526126831139483,
          -0.04687011393080625,
          0.1852428679680211,
          0.01262371264971637,
          0.21618877428606809,
          0.3009401190403827,
          0.02096918057658805,
          0.18527158481280495,
          0.008418341325168915,
          0.11587547859419817,
          0.021278435464789917,
          0.021244367176091006,
          0.3964388528340496,
          0.32925658826879395,
          0.4224158810050174,
          0.3920935806133287,
          0.42092661176621
         ]
        },
        {
         "customdata": [
          [
           "SHA-256 + Hive"
          ],
          [
           "Proof-of-Authority"
          ],
          [
           "ECC 256K1"
          ],
          [
           "Leased POS"
          ]
         ],
         "hovertemplate": "<b>%{hovertext}</b><br><br>class=%{marker.color}<br>PC 1=%{x}<br>PC 2=%{y}<br>PC 3=%{z}<br>Algorithm=%{customdata[0]}<extra></extra>",
         "hovertext": [
          "LitecoinCash",
          "Poa Network",
          "Acute Angle Cloud",
          "Waves"
         ],
         "legendgroup": "3",
         "marker": {
          "color": [
           3,
           3,
           3,
           3
          ],
          "coloraxis": "coloraxis",
          "symbol": "x"
         },
         "mode": "markers",
         "name": "3",
         "scene": "scene",
         "showlegend": true,
         "type": "scatter3d",
         "x": [
          -0.3630307318887333,
          -0.4092218513213571,
          -0.3526839930514914,
          -0.41548348879883384
         ],
         "y": [
          2.9983220568310265,
          4.163426559492618,
          3.935724143589521,
          3.418720541830067
         ],
         "z": [
          17.57703955042747,
          12.126407056622226,
          16.335207173901434,
          16.161827384562947
         ]
        },
        {
         "customdata": [
          [
           "TRC10"
          ]
         ],
         "hovertemplate": "<b>%{hovertext}</b><br><br>class=%{marker.color}<br>PC 1=%{x}<br>PC 2=%{y}<br>PC 3=%{z}<br>Algorithm=%{customdata[0]}<extra></extra>",
         "hovertext": [
          "BitTorrent"
         ],
         "legendgroup": "2",
         "marker": {
          "color": [
           2
          ],
          "coloraxis": "coloraxis",
          "symbol": "cross"
         },
         "mode": "markers",
         "name": "2",
         "scene": "scene",
         "showlegend": true,
         "type": "scatter3d",
         "x": [
          34.06499012765886
         ],
         "y": [
          1.3446081130079395
         ],
         "z": [
          -0.6206766610501748
         ]
        }
       ],
       "layout": {
        "coloraxis": {
         "colorbar": {
          "title": {
           "text": "class"
          }
         },
         "colorscale": [
          [
           0,
           "#0d0887"
          ],
          [
           0.1111111111111111,
           "#46039f"
          ],
          [
           0.2222222222222222,
           "#7201a8"
          ],
          [
           0.3333333333333333,
           "#9c179e"
          ],
          [
           0.4444444444444444,
           "#bd3786"
          ],
          [
           0.5555555555555556,
           "#d8576b"
          ],
          [
           0.6666666666666666,
           "#ed7953"
          ],
          [
           0.7777777777777778,
           "#fb9f3a"
          ],
          [
           0.8888888888888888,
           "#fdca26"
          ],
          [
           1,
           "#f0f921"
          ]
         ]
        },
        "legend": {
         "title": {
          "text": "class"
         },
         "tracegroupgap": 0,
         "x": 0,
         "y": 1
        },
        "margin": {
         "t": 60
        },
        "scene": {
         "domain": {
          "x": [
           0,
           1
          ],
          "y": [
           0,
           1
          ]
         },
         "xaxis": {
          "title": {
           "text": "PC 1"
          }
         },
         "yaxis": {
          "title": {
           "text": "PC 2"
          }
         },
         "zaxis": {
          "title": {
           "text": "PC 3"
          }
         }
        },
        "template": {
         "data": {
          "bar": [
           {
            "error_x": {
             "color": "#2a3f5f"
            },
            "error_y": {
             "color": "#2a3f5f"
            },
            "marker": {
             "line": {
              "color": "#E5ECF6",
              "width": 0.5
             }
            },
            "type": "bar"
           }
          ],
          "barpolar": [
           {
            "marker": {
             "line": {
              "color": "#E5ECF6",
              "width": 0.5
             }
            },
            "type": "barpolar"
           }
          ],
          "carpet": [
           {
            "aaxis": {
             "endlinecolor": "#2a3f5f",
             "gridcolor": "white",
             "linecolor": "white",
             "minorgridcolor": "white",
             "startlinecolor": "#2a3f5f"
            },
            "baxis": {
             "endlinecolor": "#2a3f5f",
             "gridcolor": "white",
             "linecolor": "white",
             "minorgridcolor": "white",
             "startlinecolor": "#2a3f5f"
            },
            "type": "carpet"
           }
          ],
          "choropleth": [
           {
            "colorbar": {
             "outlinewidth": 0,
             "ticks": ""
            },
            "type": "choropleth"
           }
          ],
          "contour": [
           {
            "colorbar": {
             "outlinewidth": 0,
             "ticks": ""
            },
            "colorscale": [
             [
              0,
              "#0d0887"
             ],
             [
              0.1111111111111111,
              "#46039f"
             ],
             [
              0.2222222222222222,
              "#7201a8"
             ],
             [
              0.3333333333333333,
              "#9c179e"
             ],
             [
              0.4444444444444444,
              "#bd3786"
             ],
             [
              0.5555555555555556,
              "#d8576b"
             ],
             [
              0.6666666666666666,
              "#ed7953"
             ],
             [
              0.7777777777777778,
              "#fb9f3a"
             ],
             [
              0.8888888888888888,
              "#fdca26"
             ],
             [
              1,
              "#f0f921"
             ]
            ],
            "type": "contour"
           }
          ],
          "contourcarpet": [
           {
            "colorbar": {
             "outlinewidth": 0,
             "ticks": ""
            },
            "type": "contourcarpet"
           }
          ],
          "heatmap": [
           {
            "colorbar": {
             "outlinewidth": 0,
             "ticks": ""
            },
            "colorscale": [
             [
              0,
              "#0d0887"
             ],
             [
              0.1111111111111111,
              "#46039f"
             ],
             [
              0.2222222222222222,
              "#7201a8"
             ],
             [
              0.3333333333333333,
              "#9c179e"
             ],
             [
              0.4444444444444444,
              "#bd3786"
             ],
             [
              0.5555555555555556,
              "#d8576b"
             ],
             [
              0.6666666666666666,
              "#ed7953"
             ],
             [
              0.7777777777777778,
              "#fb9f3a"
             ],
             [
              0.8888888888888888,
              "#fdca26"
             ],
             [
              1,
              "#f0f921"
             ]
            ],
            "type": "heatmap"
           }
          ],
          "heatmapgl": [
           {
            "colorbar": {
             "outlinewidth": 0,
             "ticks": ""
            },
            "colorscale": [
             [
              0,
              "#0d0887"
             ],
             [
              0.1111111111111111,
              "#46039f"
             ],
             [
              0.2222222222222222,
              "#7201a8"
             ],
             [
              0.3333333333333333,
              "#9c179e"
             ],
             [
              0.4444444444444444,
              "#bd3786"
             ],
             [
              0.5555555555555556,
              "#d8576b"
             ],
             [
              0.6666666666666666,
              "#ed7953"
             ],
             [
              0.7777777777777778,
              "#fb9f3a"
             ],
             [
              0.8888888888888888,
              "#fdca26"
             ],
             [
              1,
              "#f0f921"
             ]
            ],
            "type": "heatmapgl"
           }
          ],
          "histogram": [
           {
            "marker": {
             "colorbar": {
              "outlinewidth": 0,
              "ticks": ""
             }
            },
            "type": "histogram"
           }
          ],
          "histogram2d": [
           {
            "colorbar": {
             "outlinewidth": 0,
             "ticks": ""
            },
            "colorscale": [
             [
              0,
              "#0d0887"
             ],
             [
              0.1111111111111111,
              "#46039f"
             ],
             [
              0.2222222222222222,
              "#7201a8"
             ],
             [
              0.3333333333333333,
              "#9c179e"
             ],
             [
              0.4444444444444444,
              "#bd3786"
             ],
             [
              0.5555555555555556,
              "#d8576b"
             ],
             [
              0.6666666666666666,
              "#ed7953"
             ],
             [
              0.7777777777777778,
              "#fb9f3a"
             ],
             [
              0.8888888888888888,
              "#fdca26"
             ],
             [
              1,
              "#f0f921"
             ]
            ],
            "type": "histogram2d"
           }
          ],
          "histogram2dcontour": [
           {
            "colorbar": {
             "outlinewidth": 0,
             "ticks": ""
            },
            "colorscale": [
             [
              0,
              "#0d0887"
             ],
             [
              0.1111111111111111,
              "#46039f"
             ],
             [
              0.2222222222222222,
              "#7201a8"
             ],
             [
              0.3333333333333333,
              "#9c179e"
             ],
             [
              0.4444444444444444,
              "#bd3786"
             ],
             [
              0.5555555555555556,
              "#d8576b"
             ],
             [
              0.6666666666666666,
              "#ed7953"
             ],
             [
              0.7777777777777778,
              "#fb9f3a"
             ],
             [
              0.8888888888888888,
              "#fdca26"
             ],
             [
              1,
              "#f0f921"
             ]
            ],
            "type": "histogram2dcontour"
           }
          ],
          "mesh3d": [
           {
            "colorbar": {
             "outlinewidth": 0,
             "ticks": ""
            },
            "type": "mesh3d"
           }
          ],
          "parcoords": [
           {
            "line": {
             "colorbar": {
              "outlinewidth": 0,
              "ticks": ""
             }
            },
            "type": "parcoords"
           }
          ],
          "pie": [
           {
            "automargin": true,
            "type": "pie"
           }
          ],
          "scatter": [
           {
            "marker": {
             "colorbar": {
              "outlinewidth": 0,
              "ticks": ""
             }
            },
            "type": "scatter"
           }
          ],
          "scatter3d": [
           {
            "line": {
             "colorbar": {
              "outlinewidth": 0,
              "ticks": ""
             }
            },
            "marker": {
             "colorbar": {
              "outlinewidth": 0,
              "ticks": ""
             }
            },
            "type": "scatter3d"
           }
          ],
          "scattercarpet": [
           {
            "marker": {
             "colorbar": {
              "outlinewidth": 0,
              "ticks": ""
             }
            },
            "type": "scattercarpet"
           }
          ],
          "scattergeo": [
           {
            "marker": {
             "colorbar": {
              "outlinewidth": 0,
              "ticks": ""
             }
            },
            "type": "scattergeo"
           }
          ],
          "scattergl": [
           {
            "marker": {
             "colorbar": {
              "outlinewidth": 0,
              "ticks": ""
             }
            },
            "type": "scattergl"
           }
          ],
          "scattermapbox": [
           {
            "marker": {
             "colorbar": {
              "outlinewidth": 0,
              "ticks": ""
             }
            },
            "type": "scattermapbox"
           }
          ],
          "scatterpolar": [
           {
            "marker": {
             "colorbar": {
              "outlinewidth": 0,
              "ticks": ""
             }
            },
            "type": "scatterpolar"
           }
          ],
          "scatterpolargl": [
           {
            "marker": {
             "colorbar": {
              "outlinewidth": 0,
              "ticks": ""
             }
            },
            "type": "scatterpolargl"
           }
          ],
          "scatterternary": [
           {
            "marker": {
             "colorbar": {
              "outlinewidth": 0,
              "ticks": ""
             }
            },
            "type": "scatterternary"
           }
          ],
          "surface": [
           {
            "colorbar": {
             "outlinewidth": 0,
             "ticks": ""
            },
            "colorscale": [
             [
              0,
              "#0d0887"
             ],
             [
              0.1111111111111111,
              "#46039f"
             ],
             [
              0.2222222222222222,
              "#7201a8"
             ],
             [
              0.3333333333333333,
              "#9c179e"
             ],
             [
              0.4444444444444444,
              "#bd3786"
             ],
             [
              0.5555555555555556,
              "#d8576b"
             ],
             [
              0.6666666666666666,
              "#ed7953"
             ],
             [
              0.7777777777777778,
              "#fb9f3a"
             ],
             [
              0.8888888888888888,
              "#fdca26"
             ],
             [
              1,
              "#f0f921"
             ]
            ],
            "type": "surface"
           }
          ],
          "table": [
           {
            "cells": {
             "fill": {
              "color": "#EBF0F8"
             },
             "line": {
              "color": "white"
             }
            },
            "header": {
             "fill": {
              "color": "#C8D4E3"
             },
             "line": {
              "color": "white"
             }
            },
            "type": "table"
           }
          ]
         },
         "layout": {
          "annotationdefaults": {
           "arrowcolor": "#2a3f5f",
           "arrowhead": 0,
           "arrowwidth": 1
          },
          "autotypenumbers": "strict",
          "coloraxis": {
           "colorbar": {
            "outlinewidth": 0,
            "ticks": ""
           }
          },
          "colorscale": {
           "diverging": [
            [
             0,
             "#8e0152"
            ],
            [
             0.1,
             "#c51b7d"
            ],
            [
             0.2,
             "#de77ae"
            ],
            [
             0.3,
             "#f1b6da"
            ],
            [
             0.4,
             "#fde0ef"
            ],
            [
             0.5,
             "#f7f7f7"
            ],
            [
             0.6,
             "#e6f5d0"
            ],
            [
             0.7,
             "#b8e186"
            ],
            [
             0.8,
             "#7fbc41"
            ],
            [
             0.9,
             "#4d9221"
            ],
            [
             1,
             "#276419"
            ]
           ],
           "sequential": [
            [
             0,
             "#0d0887"
            ],
            [
             0.1111111111111111,
             "#46039f"
            ],
            [
             0.2222222222222222,
             "#7201a8"
            ],
            [
             0.3333333333333333,
             "#9c179e"
            ],
            [
             0.4444444444444444,
             "#bd3786"
            ],
            [
             0.5555555555555556,
             "#d8576b"
            ],
            [
             0.6666666666666666,
             "#ed7953"
            ],
            [
             0.7777777777777778,
             "#fb9f3a"
            ],
            [
             0.8888888888888888,
             "#fdca26"
            ],
            [
             1,
             "#f0f921"
            ]
           ],
           "sequentialminus": [
            [
             0,
             "#0d0887"
            ],
            [
             0.1111111111111111,
             "#46039f"
            ],
            [
             0.2222222222222222,
             "#7201a8"
            ],
            [
             0.3333333333333333,
             "#9c179e"
            ],
            [
             0.4444444444444444,
             "#bd3786"
            ],
            [
             0.5555555555555556,
             "#d8576b"
            ],
            [
             0.6666666666666666,
             "#ed7953"
            ],
            [
             0.7777777777777778,
             "#fb9f3a"
            ],
            [
             0.8888888888888888,
             "#fdca26"
            ],
            [
             1,
             "#f0f921"
            ]
           ]
          },
          "colorway": [
           "#636efa",
           "#EF553B",
           "#00cc96",
           "#ab63fa",
           "#FFA15A",
           "#19d3f3",
           "#FF6692",
           "#B6E880",
           "#FF97FF",
           "#FECB52"
          ],
          "font": {
           "color": "#2a3f5f"
          },
          "geo": {
           "bgcolor": "white",
           "lakecolor": "white",
           "landcolor": "#E5ECF6",
           "showlakes": true,
           "showland": true,
           "subunitcolor": "white"
          },
          "hoverlabel": {
           "align": "left"
          },
          "hovermode": "closest",
          "mapbox": {
           "style": "light"
          },
          "paper_bgcolor": "white",
          "plot_bgcolor": "#E5ECF6",
          "polar": {
           "angularaxis": {
            "gridcolor": "white",
            "linecolor": "white",
            "ticks": ""
           },
           "bgcolor": "#E5ECF6",
           "radialaxis": {
            "gridcolor": "white",
            "linecolor": "white",
            "ticks": ""
           }
          },
          "scene": {
           "xaxis": {
            "backgroundcolor": "#E5ECF6",
            "gridcolor": "white",
            "gridwidth": 2,
            "linecolor": "white",
            "showbackground": true,
            "ticks": "",
            "zerolinecolor": "white"
           },
           "yaxis": {
            "backgroundcolor": "#E5ECF6",
            "gridcolor": "white",
            "gridwidth": 2,
            "linecolor": "white",
            "showbackground": true,
            "ticks": "",
            "zerolinecolor": "white"
           },
           "zaxis": {
            "backgroundcolor": "#E5ECF6",
            "gridcolor": "white",
            "gridwidth": 2,
            "linecolor": "white",
            "showbackground": true,
            "ticks": "",
            "zerolinecolor": "white"
           }
          },
          "shapedefaults": {
           "line": {
            "color": "#2a3f5f"
           }
          },
          "ternary": {
           "aaxis": {
            "gridcolor": "white",
            "linecolor": "white",
            "ticks": ""
           },
           "baxis": {
            "gridcolor": "white",
            "linecolor": "white",
            "ticks": ""
           },
           "bgcolor": "#E5ECF6",
           "caxis": {
            "gridcolor": "white",
            "linecolor": "white",
            "ticks": ""
           }
          },
          "title": {
           "x": 0.05
          },
          "xaxis": {
           "automargin": true,
           "gridcolor": "white",
           "linecolor": "white",
           "ticks": "",
           "title": {
            "standoff": 15
           },
           "zerolinecolor": "white",
           "zerolinewidth": 2
          },
          "yaxis": {
           "automargin": true,
           "gridcolor": "white",
           "linecolor": "white",
           "ticks": "",
           "title": {
            "standoff": 15
           },
           "zerolinecolor": "white",
           "zerolinewidth": 2
          }
         }
        },
        "width": 800
       }
      },
      "text/html": [
       "<div>                            <div id=\"ac903bff-54fd-40a6-b9bc-e8aa06a8acd4\" class=\"plotly-graph-div\" style=\"height:525px; width:800px;\"></div>            <script type=\"text/javascript\">                require([\"plotly\"], function(Plotly) {                    window.PLOTLYENV=window.PLOTLYENV || {};                                    if (document.getElementById(\"ac903bff-54fd-40a6-b9bc-e8aa06a8acd4\")) {                    Plotly.newPlot(                        \"ac903bff-54fd-40a6-b9bc-e8aa06a8acd4\",                        [{\"customdata\": [[\"Scrypt\"], [\"Scrypt\"], [\"X11\"], [\"SHA-512\"], [\"SHA-256\"], [\"SHA-256\"], [\"X15\"], [\"Scrypt\"], [\"Scrypt\"], [\"Scrypt\"], [\"Scrypt\"], [\"Scrypt\"], [\"Groestl\"], [\"PoS\"], [\"Scrypt\"], [\"Scrypt\"], [\"X11\"], [\"X11\"], [\"SHA3\"], [\"Scrypt\"], [\"SHA-256\"], [\"Scrypt\"], [\"X13\"], [\"X13\"], [\"NeoScrypt\"], [\"Scrypt\"], [\"Scrypt\"], [\"Scrypt\"], [\"X11\"], [\"X11\"], [\"Multiple\"], [\"PHI1612\"], [\"X11\"], [\"Scrypt\"], [\"Scrypt\"], [\"Scrypt\"], [\"X11\"], [\"Multiple\"], [\"X13\"], [\"Scrypt\"], [\"Counterparty\"], [\"SHA-256\"], [\"Groestl\"], [\"Scrypt\"], [\"X13\"], [\"Scrypt\"], [\"Scrypt\"], [\"X13\"], [\"X11\"], [\"Scrypt\"], [\"X11\"], [\"QUAIT\"], [\"X11\"], [\"Scrypt\"], [\"X13\"], [\"SHA-256\"], [\"X15\"], [\"BLAKE256\"], [\"SHA-256\"], [\"X11\"], [\"SHA-256\"], [\"NIST5\"], [\"Scrypt\"], [\"Scrypt\"], [\"X11\"], [\"Scrypt\"], [\"SHA-256\"], [\"Scrypt\"], [\"PoS\"], [\"X11\"], [\"SHA-256\"], [\"SHA-256\"], [\"NIST5\"], [\"X11\"], [\"POS 3.0\"], [\"Scrypt\"], [\"Scrypt\"], [\"Scrypt\"], [\"X13\"], [\"X11\"], [\"X11\"], [\"Scrypt\"], [\"SHA-256\"], [\"X11\"], [\"Scrypt\"], [\"Scrypt\"], [\"Scrypt\"], [\"Scrypt\"], [\"SHA-256D\"], [\"PoS\"], [\"Scrypt\"], [\"X11\"], [\"PoS\"], [\"X13\"], [\"X14\"], [\"PoS\"], [\"SHA-256D\"], [\"X11\"], [\"X13\"], [\"X11\"], [\"PoS\"], [\"Scrypt\"], [\"Scrypt\"], [\"PoS\"], [\"X11\"], [\"SHA-256\"], [\"Scrypt\"], [\"X11\"], [\"Scrypt\"], [\"Scrypt\"], [\"X11\"], [\"Scrypt\"], [\"Scrypt\"], [\"Scrypt\"], [\"Scrypt\"], [\"Quark\"], [\"QuBit\"], [\"Scrypt\"], [\"SHA-256\"], [\"X11\"], [\"Scrypt\"], [\"Scrypt\"], [\"Scrypt\"], [\"Scrypt\"], [\"X13\"], [\"Scrypt\"], [\"Scrypt\"], [\"X11\"], [\"Blake2S\"], [\"X11\"], [\"PoS\"], [\"X11\"], [\"PoS\"], [\"X11\"], [\"Scrypt\"], [\"Scrypt\"], [\"Scrypt\"], [\"SHA-256\"], [\"X11\"], [\"Scrypt\"], [\"PoS\"], [\"Scrypt\"], [\"X15\"], [\"SHA-256\"], [\"POS 3.0\"], [\"536\"], [\"NIST5\"], [\"NIST5\"], [\"Skein\"], [\"X13\"], [\"Scrypt\"], [\"X13\"], [\"SkunkHash v2 Raptor\"], [\"Skein\"], [\"X11\"], [\"Scrypt\"], [\"PoS\"], [\"Scrypt\"], [\"Scrypt\"], [\"SHA-512\"], [\"Ouroboros\"], [\"X11\"], [\"NeoScrypt\"], [\"Scrypt\"], [\"Lyra2REv2\"], [\"Scrypt\"], [\"SHA-256\"], [\"NIST5\"], [\"PHI1612\"], [\"Scrypt\"], [\"Quark\"], [\"POS 2.0\"], [\"Scrypt\"], [\"SHA-256\"], [\"X11\"], [\"NIST5\"], [\"X13\"], [\"Scrypt\"], [\"NIST5\"], [\"Quark\"], [\"Scrypt\"], [\"Scrypt\"], [\"X11\"], [\"Quark\"], [\"Scrypt\"], [\"Scrypt\"], [\"X11\"], [\"POS 3.0\"], [\"Ethash\"], [\"Scrypt\"], [\"Scrypt\"], [\"X13\"], [\"Proof-of-BibleHash\"], [\"C11\"], [\"X11\"], [\"XEVAN\"], [\"Scrypt\"], [\"VBFT\"], [\"NIST5\"], [\"Scrypt\"], [\"Scrypt\"], [\"Scrypt\"], [\"Green Protocol\"], [\"PoS\"], [\"Scrypt\"], [\"Quark\"], [\"PoS\"], [\"X16R\"], [\"Scrypt\"], [\"XEVAN\"], [\"Scrypt\"], [\"Scrypt\"], [\"Scrypt\"], [\"SHA-256D\"], [\"Scrypt\"], [\"X15\"], [\"Quark\"], [\"SHA-256\"], [\"DPoS\"], [\"X16R\"], [\"Quark\"], [\"Quark\"], [\"Scrypt\"], [\"Lyra2REv2\"], [\"Quark\"], [\"Scrypt\"], [\"X11\"], [\"X11\"], [\"Scrypt\"], [\"PoS\"], [\"Keccak\"], [\"X11\"], [\"Scrypt\"], [\"SHA-512\"], [\"XEVAN\"], [\"XEVAN\"], [\"X11\"], [\"Quark\"], [\"Scrypt\"], [\"Quark\"], [\"Quark\"], [\"Scrypt\"], [\"X11\"], [\"Scrypt\"], [\"XEVAN\"], [\"SHA-256D\"], [\"X11\"], [\"X11\"], [\"Scrypt\"], [\"X11\"], [\"Scrypt\"], [\"Scrypt\"], [\"SHA-256\"], [\"Scrypt\"], [\"X11\"], [\"Scrypt\"], [\"SHA-256\"], [\"X11\"], [\"Scrypt\"], [\"Scrypt\"], [\"X11\"], [\"Scrypt\"], [\"PoS\"], [\"X11\"], [\"SHA-256\"], [\"Scrypt\"], [\"Scrypt\"], [\"NeoScrypt\"], [\"X13\"], [\"SHA-256\"], [\"PoS\"], [\"PoS\"], [\"Scrypt\"], [\"Scrypt\"]], \"hovertemplate\": \"<b>%{hovertext}</b><br><br>class=%{marker.color}<br>PC 1=%{x}<br>PC 2=%{y}<br>PC 3=%{z}<br>Algorithm=%{customdata[0]}<extra></extra>\", \"hovertext\": [\"42 Coin\", \"404Coin\", \"Dash\", \"Bitshares\", \"BitcoinDark\", \"PayCoin\", \"KoboCoin\", \"Aurora Coin\", \"BlueCoin\", \"EnergyCoin\", \"BitBar\", \"CryptoBullion\", \"Diamond\", \"Exclusive Coin\", \"FlutterCoin\", \"HoboNickels\", \"HyperStake\", \"IOCoin\", \"MaxCoin\", \"MintCoin\", \"MazaCoin\", \"Nautilus Coin\", \"NavCoin\", \"OpalCoin\", \"Orbitcoin\", \"PotCoin\", \"PhoenixCoin\", \"Reddcoin\", \"SuperCoin\", \"SyncCoin\", \"TeslaCoin\", \"TittieCoin\", \"TorCoin\", \"UnitaryStatus Dollar\", \"UltraCoin\", \"VeriCoin\", \"X11 Coin\", \"Crypti\", \"StealthCoin\", \"ZCC Coin\", \"StorjCoin\", \"Neutron\", \"FairCoin\", \"RubyCoin\", \"Kore\", \"Dnotes\", \"8BIT Coin\", \"Sativa Coin\", \"Ucoin\", \"Vtorrent\", \"IslaCoin\", \"Droidz\", \"Squall Coin\", \"Diggits\", \"Paycon\", \"Emercoin\", \"EverGreenCoin\", \"Decred\", \"EDRCoin\", \"Hitcoin\", \"DubaiCoin\", \"PWR Coin\", \"BillaryCoin\", \"GPU Coin\", \"EuropeCoin\", \"ZeitCoin\", \"SwingCoin\", \"SafeExchangeCoin\", \"Nebuchadnezzar\", \"Ratecoin\", \"Revenu\", \"Clockcoin\", \"VIP Tokens\", \"BitSend\", \"Let it Ride\", \"PutinCoin\", \"iBankCoin\", \"Frankywillcoin\", \"MudraCoin\", \"Lutetium Coin\", \"GoldBlocks\", \"CarterCoin\", \"BitTokens\", \"MustangCoin\", \"ZoneCoin\", \"RootCoin\", \"BitCurrency\", \"Swiscoin\", \"BuzzCoin\", \"Opair\", \"PesoBit\", \"Halloween Coin\", \"CoffeeCoin\", \"RoyalCoin\", \"GanjaCoin V2\", \"TeamUP\", \"LanaCoin\", \"InsaneCoin\", \"EmberCoin\", \"XenixCoin\", \"FreeCoin\", \"PLNCoin\", \"AquariusCoin\", \"Creatio\", \"Eternity\", \"Eurocoin\", \"BitcoinFast\", \"Stakenet\", \"BitConnect Coin\", \"MoneyCoin\", \"Enigma\", \"Russiacoin\", \"PandaCoin\", \"GameUnits\", \"GAKHcoin\", \"Allsafe\", \"LiteCreed\", \"Klingon Empire Darsek\", \"Internet of People\", \"KushCoin\", \"Printerium\", \"Impeach\", \"Zilbercoin\", \"FirstCoin\", \"FindCoin\", \"OpenChat\", \"RenosCoin\", \"VirtacoinPlus\", \"TajCoin\", \"Impact\", \"Atmos\", \"HappyCoin\", \"MacronCoin\", \"Condensate\", \"Independent Money System\", \"ArgusCoin\", \"LomoCoin\", \"ProCurrency\", \"GoldReserve\", \"GrowthCoin\", \"Phreak\", \"Degas Coin\", \"HTML5 Coin\", \"Ultimate Secure Cash\", \"QTUM\", \"Espers\", \"Denarius\", \"Virta Unique Coin\", \"Bitcoin Planet\", \"BritCoin\", \"Linda\", \"DeepOnion\", \"Signatum\", \"Cream\", \"Monoeci\", \"Draftcoin\", \"Stakecoin\", \"CoinonatX\", \"Ethereum Dark\", \"Obsidian\", \"Cardano\", \"Regalcoin\", \"TrezarCoin\", \"TerraNovaCoin\", \"Rupee\", \"WomenCoin\", \"Theresa May Coin\", \"NamoCoin\", \"LUXCoin\", \"Xios\", \"Bitcloud 2.0\", \"KekCoin\", \"BlackholeCoin\", \"Infinity Economics\", \"Magnet\", \"Electra\", \"Bitcoin Diamond\", \"Cash & Back Coin\", \"Bulwark\", \"Kalkulus\", \"GermanCoin\", \"LiteCoin Ultra\", \"PhantomX\", \"Digiwage\", \"Trollcoin\", \"Litecoin Plus\", \"Monkey Project\", \"TokenPay\", \"1717 Masonic Commemorative Token\", \"My Big Coin\", \"Unified Society USDEX\", \"Tokyo Coin\", \"BiblePay\", \"Stipend\", \"Pushi\", \"Ellerium\", \"Velox\", \"Ontology\", \"Bitspace\", \"Briacoin\", \"Ignition\", \"MedicCoin\", \"Bitcoin Green\", \"Deviant Coin\", \"Abjcoin\", \"Carebit\", \"Zealium\", \"Proton\", \"iDealCash\", \"Bitcoin Incognito\", \"HollyWoodCoin\", \"Swisscoin\", \"Xt3ch\", \"TheVig\", \"EmaratCoin\", \"Dekado\", \"Poseidon Quark\", \"BitcoinWSpectrum\", \"Muse\", \"Trivechain\", \"Dystem\", \"Giant\", \"Peony Coin\", \"Absolute Coin\", \"Vitae\", \"TPCash\", \"ARENON\", \"EUNO\", \"MMOCoin\", \"Ketan\", \"XDNA\", \"PAXEX\", \"ThunderStake\", \"Kcash\", \"Bettex coin\", \"BitMoney\", \"Junson Ming Chan Coin\", \"HerbCoin\", \"Oduwa\", \"Galilel\", \"Crypto Sports\", \"Credit\", \"Dash Platinum\", \"Nasdacoin\", \"Beetle Coin\", \"Titan Coin\", \"Award\", \"Insane Coin\", \"LiteDoge\", \"TruckCoin\", \"OrangeCoin\", \"BitstarCoin\", \"NeosCoin\", \"HyperCoin\", \"PinkCoin\", \"AudioCoin\", \"IncaKoin\", \"Piggy Coin\", \"Genstake\", \"XiaoMiCoin\", \"CapriCoin\", \" ClubCoin\", \"Radium\", \"Creditbit \", \"OKCash\", \"HiCoin\", \"WhiteCoin\", \"FriendshipCoin\", \"Triangles Coin\", \"TigerCash\", \"Particl\", \"Nxt\", \"Gapcoin\", \"BitcoinPlus\"], \"legendgroup\": \"0\", \"marker\": {\"color\": [0, 0, 0, 0, 0, 0, 0, 0, 0, 0, 0, 0, 0, 0, 0, 0, 0, 0, 0, 0, 0, 0, 0, 0, 0, 0, 0, 0, 0, 0, 0, 0, 0, 0, 0, 0, 0, 0, 0, 0, 0, 0, 0, 0, 0, 0, 0, 0, 0, 0, 0, 0, 0, 0, 0, 0, 0, 0, 0, 0, 0, 0, 0, 0, 0, 0, 0, 0, 0, 0, 0, 0, 0, 0, 0, 0, 0, 0, 0, 0, 0, 0, 0, 0, 0, 0, 0, 0, 0, 0, 0, 0, 0, 0, 0, 0, 0, 0, 0, 0, 0, 0, 0, 0, 0, 0, 0, 0, 0, 0, 0, 0, 0, 0, 0, 0, 0, 0, 0, 0, 0, 0, 0, 0, 0, 0, 0, 0, 0, 0, 0, 0, 0, 0, 0, 0, 0, 0, 0, 0, 0, 0, 0, 0, 0, 0, 0, 0, 0, 0, 0, 0, 0, 0, 0, 0, 0, 0, 0, 0, 0, 0, 0, 0, 0, 0, 0, 0, 0, 0, 0, 0, 0, 0, 0, 0, 0, 0, 0, 0, 0, 0, 0, 0, 0, 0, 0, 0, 0, 0, 0, 0, 0, 0, 0, 0, 0, 0, 0, 0, 0, 0, 0, 0, 0, 0, 0, 0, 0, 0, 0, 0, 0, 0, 0, 0, 0, 0, 0, 0, 0, 0, 0, 0, 0, 0, 0, 0, 0, 0, 0, 0, 0, 0, 0, 0, 0, 0, 0, 0, 0, 0, 0, 0, 0, 0, 0, 0, 0, 0, 0, 0, 0, 0, 0, 0, 0, 0, 0, 0, 0, 0, 0, 0, 0, 0, 0, 0, 0, 0, 0, 0, 0, 0], \"coloraxis\": \"coloraxis\", \"symbol\": \"circle\"}, \"mode\": \"markers\", \"name\": \"0\", \"scene\": \"scene\", \"showlegend\": true, \"type\": \"scatter3d\", \"x\": [-0.3344327451954983, -0.3177717643020263, -0.39964912777764217, -0.2632771642499231, -0.3164458708080627, -0.2699191504710523, -0.23020396295054069, -0.3340923800752759, -0.32666918827341085, -0.3329291746716387, -0.3344286836513435, -0.3344129659186455, -0.3729097993459581, -0.3387525827309348, -0.2940940205796338, -0.3324919805065838, -0.332944092450281, -0.39954381396368427, -0.37753823399224445, -0.027802080151449828, -0.2797615484637497, -0.2876572271604788, -0.2842790146265578, -0.28490128218259314, -0.3421107594034272, -0.32873671102386, -0.33283486162305126, 0.023742478731087695, -0.3528325728345125, -0.39991530331413017, -0.24178315809424933, -0.32030610766998296, -0.39982698809471273, -0.3096710411177506, -0.33311055181980903, -0.2656487431248234, -0.3997914367430796, -0.2422504064856203, -0.28468212495805195, -0.3255403688043968, -0.3429217432039518, -0.31565775708631866, -0.37233128438251917, -0.2876373982637909, -0.2849767401684238, -0.282293601861989, -0.3344148120437503, -0.28492891042661583, -0.35327756614342704, -0.33414927556364366, -0.3998968304660228, -0.43217142263603747, -0.3682988198450467, -0.28603931982005737, -0.2844507165220363, -0.30900712584996953, -0.23264390844016172, -0.09061982271544886, -0.31641678202189466, -0.07747651058783868, -0.3164804209533552, -0.22301590689590106, -0.3340252618228097, -0.28590900006077463, -0.39706781972582533, 0.8650822325754942, -0.3162806227907199, -0.05362888909716933, -0.33843593363748625, -0.39774002507380163, -0.3150250262220805, -0.3126946580696884, -0.3443864471492227, -0.39863264755623523, -0.35561591169142076, -0.3103299607577934, -0.3340633755773896, -0.3325025296611236, -0.23714531308547296, -0.34077059355081696, -0.39937095441626064, -0.3332677714224372, -0.3164614273607432, -0.3998860370978831, -0.3342524305721585, -0.33440904459952814, -0.28589739401446995, -0.243284054802659, 0.044812613421637705, -0.33739320376247667, -0.3340231652333351, -0.38605513812294323, -0.3367215978406291, -0.23857499377096544, -0.4189545325756765, -0.3364719121079004, -0.2696759801703491, -0.39947868644173556, 0.8473395856153086, -0.3998409472355863, -0.3378568687339711, -0.33395091987623604, -0.3341052790003042, -0.33843593363748625, -0.39941611367075625, -0.3163240820576181, -0.3339516260980684, -0.40533320900750763, -0.3340990037928813, -0.3296899612118651, -0.3998699499722699, -0.33331025462986635, 0.35550033576216783, -0.33429821820321376, -0.33436874410492906, -0.3540358004493725, -0.34573731588692225, -0.33059781680095207, -0.3164378388418616, -0.39977991636799115, -0.33414662420191577, -0.3342735996072528, -0.28754419445898294, -0.28758483613748603, -0.2383428905156466, -0.3151305825556684, -0.28728519052954976, -0.3990460789305602, -0.4042630770831631, -0.3977843847716223, -0.33668280672042644, -0.3989439545637244, -0.3310837449640277, -0.394886703915506, -0.3342168769547662, -0.33421610648492206, -0.3273423925834265, 0.26239253295428766, -0.39942215644615997, -0.2701951060203257, -0.33847028471439855, -0.33342794068931286, 0.9013550890106858, -0.268610444853945, -0.3543945046919014, 0.5664141662812479, -0.34592181136224964, -0.34442448890539284, -0.40614772701392743, -0.2846140822551591, 0.1302897106663505, -0.28468480168213384, -0.3338518387252207, -0.40565256602941346, -0.3996944027155294, -0.2876182019217224, -0.3383367160195595, -0.3338521839391052, -0.33435167691968215, -0.32132789644176785, 0.6321746655450081, -0.39963531873854746, -0.33711165727337933, -0.33430734982218113, -0.3079813767657524, 0.43474727418310316, -0.3147843777343188, -0.33069361004912523, -0.40235799945013323, -0.33425771215861416, -0.3989416991236491, -0.33914743618667936, -0.3341280659947263, -0.0964347906243172, -0.39842848623904553, 0.21346223103153428, -0.2813563662293352, -0.3315891469508705, -0.29922220883804507, -0.3539217203603695, 0.07978778955404495, -0.33326724176120714, -0.3990091776674202, -0.35308691479736654, -0.3208358579345588, -0.33437380941848616, -0.3532494983561785, -0.35589780904551854, -0.2692118331110645, -0.2812493173953399, -0.3299198686409145, -0.23014208239395553, -0.24900800469058892, -0.3704224375940978, -0.3997117323313978, -0.29585243332534494, -0.2867786775026806, -0.31253857939718727, -0.3455209483002102, -0.3344011613384869, -0.33438288132816457, -0.28116159257881423, -0.3484125406418063, -0.337931277027842, -0.33409949949474477, -0.3976096032905601, -0.3381199207921645, -0.3189225671092805, -0.2809917084945468, -0.26438812278172885, -0.2873124291467463, -0.13755067881101582, -0.2875646066866639, -0.3349575686412223, -0.3335737704889606, -0.18552472344263357, -0.34963262340531576, -0.2687376494592439, 1.0215001651657432, -0.36472246948735304, -0.3540352681831312, -0.400624964462978, -0.16837475840165392, -0.35437301884941425, -0.3527551040396258, -0.3272824783218021, -0.35282704818094907, -0.39918515343138034, -0.28481098239669084, -0.3372203274309763, -0.34538187839031365, -0.3526886531771049, -0.19396591258264698, -0.2998457532768087, -0.24938226063491287, 0.5967660734357374, -0.14318266104832444, -0.399919788626946, -0.3341034259711191, -0.40037576315438617, -0.35415221503476857, 0.5720947673501046, -0.3533038114527834, -0.33358663365417085, -0.29030987830283334, -0.289699204073341, -0.3967515389279375, -0.39941230468792477, 0.10068073153841042, -0.39695157401283554, -0.33297268050137757, -0.3337969799945362, -0.26995182816753466, -0.33431507278490846, -0.3910418693134224, -0.24806566855476977, -0.0960853576922771, -0.38679248789786885, -0.33359340719999037, -0.32665914227744697, -0.3959815488910769, -0.3320332232037376, -0.338711531035427, -0.3997627344243926, -0.3149612396172824, -0.09488231840940346, -0.32922848909955665, -0.34173688161253574, -0.2850838912936049, -0.25085209810618386, -0.3386473899254014, -0.2975652653662471, -0.3324792585780483, -0.2879608840317995], \"y\": [0.987834868474881, 0.9879585314348542, 1.2431933754720583, 0.9586914654280091, 0.8888023082844853, 0.5619495778887448, 1.9101084397131438, 0.9878336552354525, 0.9880496040129836, 0.987876456395912, 0.9878346639521932, 0.9878347818063394, 0.9094729056072737, 1.312379571092137, 0.04969521111057796, 0.9878124955063023, 0.9169066878752923, 1.2431962883914762, 0.7872910568976551, 0.6681704424605538, 0.8882976815182891, 0.6609727442730866, 1.8106357891624216, 1.8106185776003427, 0.6081275532961834, 0.9877262305257776, 0.9878169547406987, 0.9977417888319552, 0.9163565839666519, 1.243199955704825, 0.01058908187677759, 1.373493176465875, 1.2431960613009954, 0.9875057172587998, 0.9878080617515574, 0.14857968983485945, 1.2431998966344604, 0.01063953591241525, 1.8106246393629064, 0.9874470479397539, 1.1319581117399284, 0.8887949532417645, 0.9094916829479838, 0.6609835472661971, 1.810608885133098, 0.6608144643111468, 0.987835364522152, 1.8106114756333374, 0.9163316001367239, 0.9878300335368152, 1.2432004672869388, 2.0068481519409405, 0.46168473521967734, 0.6609643713382777, 1.8105993510584513, 0.8883882242433341, 1.9102461076171424, 0.9285352904549605, 0.8888031128635511, 1.2352916065548758, 0.8888086411009205, 1.59687481388287, 0.9878195205569099, 0.6608912553438081, 1.2430353451234344, 0.6301230297458303, 0.8887954709351882, -0.13430966450221998, 1.312375653852236, 1.243212589888737, 0.8887143928237742, 0.8885872740471668, 1.5934607345960954, 1.2431473386367196, 1.2885547741982661, 0.9872339804934459, 0.9878169875359667, 0.9878248792941532, 1.4836670709067898, 0.9162738188440294, 1.2431833237870218, 0.987810050933625, 0.8888025117777704, 1.243198864489575, 0.987826546550143, 0.9878355240463361, 0.6610316747812262, 0.10694554469172972, 1.992599297162986, 1.3123702711170624, 0.9878461972472801, 1.2426326526681741, 1.3124103958859172, 1.4837526979516045, 1.973527154400197, 1.3122518857781766, 1.9918191533031713, 1.2431930195526548, 1.8413969958768608, 1.2431995708289632, 1.3123726570967569, 0.9878237696861696, 0.9878173073278821, 1.312375653852236, 1.2431757369223677, 0.8888069444482928, 0.9878272612857548, 0.806797249535753, 0.9878263537964753, 0.9875536769158242, 1.243198041893062, 0.9877746518298379, 0.6581651089294621, 0.987830350319204, 0.9878345372587888, 1.3358864247650881, 0.6487895852409261, 0.9876240511267135, 0.8888031642226122, 1.243197772698792, 0.9878301068719529, 0.9878253695003756, 0.6609512674084231, 0.12261784570128326, 1.4837514967793393, 0.9877349766297752, 0.6609714704000834, 1.24316062072731, 1.9772017546929164, 1.2431891806751254, 1.3123669204466528, 1.2431634454284577, 1.3123381752986054, 1.2430221552160463, 0.987827395504972, 0.9878227345363407, 0.9873972050002655, 0.5291475418891823, 1.2431882453540686, 0.6601984338814989, 1.312368365935547, 0.9877961140654441, 1.8845884623963343, 0.5618668890861883, 1.2885464113372935, 1.877869592412524, 1.5934689695921158, 1.5934406690259568, 2.001190942201279, 1.810607508027784, 0.9689998954113539, 1.8106125880599455, 1.1950118186784475, 2.001204638068823, 1.243200040817275, 0.660973046745137, 1.31235203298808, 0.987820345407838, 0.987834448933317, 0.9593098596878488, 1.167515597965188, 1.2431905885292769, 0.6080147034983164, 0.9878283654160056, 0.5257318787536976, 0.9932654804386687, 0.8887988294972217, 1.5931359763691277, 1.7007889859791956, 0.9878264004645049, 1.6626727580152563, 1.353914115011643, 0.987833923260258, 0.5610519704365311, 1.2431498167282782, 1.5899341906190834, 1.8105835344336316, 0.9877804272910409, 1.2666037720238357, 1.3358864112617757, 0.9676030413701694, 0.9877720388695872, 1.2431933303234566, 1.3358461236457366, 0.9876405498568376, 0.9878339635168659, 0.9163317426969781, 1.2885523641977075, -0.07994021051274451, 0.27931815116184866, 0.9878126554388097, 1.4834805090911694, 9.59745191524614, 0.8748043203245988, 1.2431897425304632, 1.129040505136217, 0.6609287104450935, 1.3011736407461574, 1.593454706090679, 0.987833840757087, 0.9878330788145016, 0.6608457750357098, 1.3067406953330987, 1.312346515420583, 0.9878250725285086, 1.6627096030185098, 1.312346367871304, 0.5331807230948225, 0.9860668338698989, 0.347545792366053, 0.6609760574819392, 0.9868159716161308, 0.660957674382229, 1.9947072662629424, 0.9878053898471626, 1.5833633705937267, 1.335605764713677, 0.5619266357212778, 1.3762064561028828, 0.860035781545342, 1.33588263681585, 1.6627496909862503, 0.6535841009204021, 0.852576303543282, 1.3358679769115096, 0.9873988621942225, 0.9163218789540712, 1.2431884629352143, 0.6608969418725994, 1.312288858891354, 0.9338330282858651, 0.9162971868445192, 0.9803120859126644, 0.49991046223081964, 0.8021865275544375, 0.18435540911126752, 0.922155379736448, 1.6627382362942515, 0.9878306679315587, 1.662747783736066, 1.3358842378637967, 0.9655022602119804, 0.9163310643401588, 0.9878050340594242, 1.1289149464442614, 1.9928535715612772, 1.2430212772395806, 1.2431948556337193, 0.9776876066485066, 1.2432819313835188, 0.9877484973358532, 0.9878180670351887, 0.561943286924648, 0.9878381232525865, 1.243128501125931, 0.9835690571024363, 0.8947908783164698, 1.2429291472829107, 0.987848577428336, 0.9877963704516957, 1.243176935777075, 0.9877998333262104, 1.3123750025512582, 0.6031208807166212, 0.8887907687065913, 0.659971656188934, 0.9877886816558671, 0.6081021506048158, 1.8106134506841147, 0.5618511052343838, 1.312377008531634, 1.4762869175989641, 0.9877304561734978, 0.6609739660576611], \"z\": [-0.5304497432418311, -0.530798275228801, -0.520345111614207, 0.05288246499416743, -0.3664505137833354, -0.053262698843858876, -0.607687310138644, -0.5304564049664441, -0.53063140831672, -0.5304849263769525, -0.530449799439794, -0.5304501283860674, -0.4358257114033462, -0.08837621422119601, -0.2705262631684403, -0.5304858339672556, -0.20763043473798246, -0.5203475759281474, -0.4189937445834665, -0.22334755019161653, -0.36712268161616124, -0.21726575505937198, -0.5986185520092545, -0.5986039911216001, -0.33409675734525446, -0.5305503996494264, -0.5304795197936518, -0.5388309438164395, -0.2071650498313098, -0.5203405922521406, 0.1578682736252025, -0.29105209764419127, -0.5203418819954296, -0.5309048584767676, -0.5304729133425714, -0.23354066023523076, -0.5203430634858466, 0.15787143824795524, -0.5986091193396702, -0.5305801337823297, -0.09377731175097331, -0.3664653817497085, -0.4358395887685582, -0.2172674760515176, -0.5986012931625789, -0.217353675102389, -0.5304501628758498, -0.5986025677424196, -0.20715308333979118, -0.5304548225836769, -0.5203410245893345, -0.6545327269256064, -0.19826876214338654, -0.21729710178282244, -0.5986106498028869, -0.36654859889865077, -0.6076553640469989, -0.49979918312805444, -0.36645119445283736, -0.5258229381355195, -0.36645059873840197, -0.5656820461395796, -0.5304560153215947, -0.2172907468199216, -0.5203773902326262, -0.23654962365940874, -0.36645298214623284, -0.18022134906391488, -0.08838206994995258, -0.520385666590655, -0.36646816710787034, -0.36649921375385924, -0.5628350172975045, -0.5203598074028192, -0.08746775295578149, -0.5308583645022058, -0.5304549421969792, -0.530487140891892, -0.28542866450021986, -0.20739625538261658, -0.5203494455127721, -0.5304700113335775, -0.36645022745292755, -0.5203410440853579, -0.5304523310965864, -0.5304502978324398, -0.21730819166676502, -0.2943699386046453, -0.7001585538608869, -0.0884022743546938, -0.530459327302231, -0.5205483834446918, -0.08842063116656222, -0.28541055385806013, -0.7263569658352673, -0.08840619701178702, -0.6937702495993667, -0.5203484783852713, -0.6250320770557376, -0.5203420328818296, -0.08839328924968409, -0.5304580237049994, -0.5304541429419077, -0.08838206994995258, -0.5203476119128246, -0.36645351898339773, -0.5304584375744262, -0.21926645972148223, -0.5304553774203573, -0.5305101742217405, -0.5203412651424291, -0.5304648220541697, -0.2297906818253433, -0.5304518811875276, -0.5304509832538075, -0.1596771051582933, -0.3921130104074063, -0.5305006352044593, -0.3664507794177054, -0.5203430336475694, -0.5304548846248037, -0.5304517632377258, -0.21726538412184265, -0.33487048148706033, -0.2854150508254543, -0.5308237198838441, -0.21727304307402776, -0.5203531630789427, -0.6375525753758557, -0.5203819094852149, -0.08841607812632321, -0.5203555527607087, -0.08852458745261242, -0.5204194158585355, -0.5304531465619579, -0.5304525906367914, -0.530537966927345, -0.05989297052953305, -0.5203490242854791, -0.21752024364468792, -0.08838048925835326, -0.5304650980883648, -0.6272006944603032, -0.053278749038026894, -0.08749116724806777, -0.7854495210096436, -0.5628053052898301, -0.5628317964731205, -0.7979401128132327, -0.5986083808621082, -0.537439689602508, -0.5986075885314112, -0.18899230589483956, -0.797951699442483, -0.5203450227358323, -0.21726657300133345, -0.08838115977173425, -0.53045957958681, -0.530451313928082, 0.05396821258614985, -0.11971356776823412, -0.5203450462988994, -0.33418295239167534, -0.5304514551613824, -0.08216020309230072, -0.5465061267644398, -0.36648333254844506, -0.5630691915339796, -0.6035833939537679, -0.5304522075089331, -0.47288921252508387, -0.06964693744778744, -0.530455723773208, -0.05662395833399284, -0.5203641962778508, -0.5735648552338425, -0.598670626563343, -0.5304999680476036, -0.24961942136320117, -0.15967938615765215, -0.5362579587015242, -0.5304653624117518, -0.5203579109880239, -0.15969115151594176, -0.5306979868871564, -0.5304508115714878, -0.2071536624296066, -0.08746181698920293, 0.18388440932727215, -0.08242326065226366, -0.5305373195464418, -0.2855459249921185, -3.20233915764532, -0.548646594008543, -0.5203434136192818, -0.34108541977235096, -0.21727793649248775, 0.02853456917397758, -0.5628115778301007, -0.530450249232767, -0.5304505216027299, -0.21738016380461392, -0.07894332931901218, -0.08838859594967086, -0.5304552104438798, -0.4729203831968992, -0.08838480324684576, -0.0032162813652685082, -0.5313023314346839, -0.019013058637035552, -0.21727306033493587, -0.5342643051349146, -0.21726576105594936, -0.6928180403357707, -0.5304633171721456, -0.294475725655122, -0.1597308060174973, -0.0532835275162866, 0.020763086677560876, -0.3164189247445586, -0.15967665148159996, -0.47286496212975493, -0.21874680513939668, -0.39534970274199654, -0.15970046956725759, -0.5305393689043949, -0.20716090623389385, -0.5203537932041161, -0.21731341436138665, -0.08839575396370945, -0.44555744439319966, -0.2071606486516597, -0.5323382333155426, 0.3237720868385808, -0.027896320477978086, 0.2750808111536062, -0.21207079942834514, -0.47287766803787173, -0.5304558177627876, -0.4728697146649555, -0.15967450772180072, -0.5458511278117886, -0.2071524925134342, -0.5304630161776588, -0.3411809310353896, -0.6934963993530533, -0.5203819943258354, -0.5203500316998386, -0.5379121766679061, -0.5204099427707698, -0.5304683706334726, -0.5304604048921773, -0.053261273841789594, -0.5304524967467523, -0.5205093839183313, -0.5316549785488872, -0.371593836786968, -0.5205699739630646, -0.5304682181916857, -0.5306005679518894, -0.5204164818607553, -0.5304934612166506, -0.0883764756220852, -0.35843282250331354, -0.36647880558661944, -0.22100031889603897, -0.5305482148108033, -0.33410112448882956, -0.5985997087965852, -0.05363214507505165, -0.08837800492936068, -0.08491450897554219, -0.5304760321393827, -0.21725982888596562]}, {\"customdata\": [[\"X13\"], [\"Scrypt\"], [\"CryptoNight\"], [\"DPoS\"], [\"Scrypt\"], [\"VeChainThor Authority\"], [\"DPoS\"], [\"CryptoNight\"], [\"Semux BFT consensus\"], [\"Scrypt\"], [\"CryptoNight Heavy\"], [\"DPoS\"], [\"DPoS\"], [\"DPoS\"], [\"DPoS\"], [\"SHA-256\"]], \"hovertemplate\": \"<b>%{hovertext}</b><br><br>class=%{marker.color}<br>PC 1=%{x}<br>PC 2=%{y}<br>PC 3=%{z}<br>Algorithm=%{customdata[0]}<extra></extra>\", \"hovertext\": [\"EliteCoin\", \"MoonCoin\", \"ByteCoin\", \"ARK\", \"gCn Coin\", \"Vechain\", \"Lamden Tau\", \"TurtleCoin\", \"Semux\", \"Lynx\", \"Qwertycoin\", \"ALAX\", \"Lisk\", \"EOS\", \"Oxycoin\", \"ZEPHYR\"], \"legendgroup\": \"4\", \"marker\": {\"color\": [4, 4, 4, 4, 4, 4, 4, 4, 4, 4, 4, 4, 4, 4, 4, 4], \"coloraxis\": \"coloraxis\", \"symbol\": \"diamond\"}, \"mode\": \"markers\", \"name\": \"4\", \"scene\": \"scene\", \"showlegend\": true, \"type\": \"scatter3d\", \"x\": [2.298228212816418, 2.551457512023217, 3.8502275540406807, 3.7282949874607914, 3.2401505014227165, 4.379778773110825, 3.7331494420525813, 8.028004170565135, 3.9510315780470733, 2.2643221669647944, 3.1000423365723213, 3.7453896160568267, 3.7286866522501008, 3.7385563829121002, 3.739800628417263, 2.4733877529156127], \"y\": [1.6829590414030993, -1.2624288906380274, -2.1599084179443553, 1.5087162155194733, -1.1267647825788591, 5.980116388937967, 1.508612819973064, -2.5612205824516803, 1.5163625485084138, 0.08839204734820039, -2.1265161999754216, 1.5086344868491364, 1.5087049182082903, 1.5090792621267048, 1.5091136772405034, 0.6942773679852295], \"z\": [-0.6346419103040136, -0.012542688908522129, 0.32362517126325785, 0.12103631719714822, -0.04295261485628391, 2.354648317279215, 0.12095185753398155, 0.28922394037673294, 0.17120894689114724, -0.42858185738923005, 0.344277117425716, 0.12070428516625108, 0.12102986511153184, 0.12078649232452057, 0.12075737732593211, 0.04630225889820348]}, {\"customdata\": [[\"SHA-256\"], [\"Ethash\"], [\"Scrypt\"], [\"CryptoNight-V7\"], [\"Ethash\"], [\"Equihash\"], [\"Multiple\"], [\"Scrypt\"], [\"X11\"], [\"Scrypt\"], [\"Multiple\"], [\"SHA-256\"], [\"Scrypt\"], [\"Scrypt\"], [\"Quark\"], [\"Groestl\"], [\"Scrypt\"], [\"Scrypt\"], [\"Scrypt\"], [\"X11\"], [\"Scrypt\"], [\"Multiple\"], [\"SHA-256\"], [\"Scrypt\"], [\"Scrypt\"], [\"Scrypt\"], [\"Scrypt\"], [\"Scrypt\"], [\"NeoScrypt\"], [\"Scrypt\"], [\"Scrypt\"], [\"Scrypt\"], [\"Scrypt\"], [\"SHA-256\"], [\"Scrypt\"], [\"Scrypt\"], [\"Scrypt\"], [\"Scrypt\"], [\"HybridScryptHash256\"], [\"Scrypt\"], [\"Scrypt\"], [\"SHA-256\"], [\"Scrypt\"], [\"Scrypt\"], [\"Scrypt\"], [\"Scrypt\"], [\"SHA-256\"], [\"SHA-256\"], [\"SHA-256\"], [\"SHA-256\"], [\"SHA-256\"], [\"X11\"], [\"Scrypt\"], [\"Lyra2REv2\"], [\"Scrypt\"], [\"SHA-256\"], [\"CryptoNight\"], [\"Shabal256\"], [\"Scrypt\"], [\"Scrypt\"], [\"Scrypt\"], [\"Scrypt\"], [\"Scrypt\"], [\"Scrypt\"], [\"Stanford Folding\"], [\"Multiple\"], [\"QuBit\"], [\"Scrypt\"], [\"Scrypt\"], [\"M7 POW\"], [\"Scrypt\"], [\"SHA-256\"], [\"Scrypt\"], [\"SHA3\"], [\"X11\"], [\"Lyra2RE\"], [\"SHA-256\"], [\"X11\"], [\"Scrypt\"], [\"Scrypt\"], [\"Ethash\"], [\"Blake2b\"], [\"X11\"], [\"SHA-256\"], [\"Scrypt\"], [\"1GB AES Pattern Search\"], [\"Scrypt\"], [\"SHA-256\"], [\"X11\"], [\"Dagger\"], [\"Scrypt\"], [\"X11GOST\"], [\"Scrypt\"], [\"X11\"], [\"Scrypt\"], [\"X11\"], [\"Equihash\"], [\"CryptoNight\"], [\"SHA-256\"], [\"Multiple\"], [\"Scrypt\"], [\"SHA-256\"], [\"Scrypt\"], [\"Lyra2Z\"], [\"Ethash\"], [\"Equihash\"], [\"Scrypt\"], [\"X11\"], [\"X11\"], [\"CryptoNight\"], [\"Scrypt\"], [\"CryptoNight\"], [\"Lyra2RE\"], [\"X11\"], [\"CryptoNight-V7\"], [\"Scrypt\"], [\"X11\"], [\"Equihash\"], [\"Scrypt\"], [\"Lyra2RE\"], [\"Dagger-Hashimoto\"], [\"Scrypt\"], [\"NIST5\"], [\"Scrypt\"], [\"SHA-256\"], [\"Scrypt\"], [\"CryptoNight-V7\"], [\"Argon2d\"], [\"Blake2b\"], [\"Cloverhash\"], [\"CryptoNight\"], [\"X11\"], [\"Scrypt\"], [\"Scrypt\"], [\"X11\"], [\"X11\"], [\"CryptoNight\"], [\"Time Travel\"], [\"Keccak\"], [\"X11\"], [\"SHA-256\"], [\"Scrypt\"], [\"Scrypt\"], [\"Scrypt\"], [\"Scrypt\"], [\"Scrypt\"], [\"Scrypt\"], [\"CryptoNight\"], [\"Equihash\"], [\"X11\"], [\"NeoScrypt\"], [\"Equihash\"], [\"Dagger\"], [\"Scrypt\"], [\"X11\"], [\"NeoScrypt\"], [\"Ethash\"], [\"NeoScrypt\"], [\"Multiple\"], [\"CryptoNight\"], [\"CryptoNight\"], [\"Ethash\"], [\"X11\"], [\"CryptoNight-V7\"], [\"Scrypt\"], [\"BLAKE256\"], [\"X11\"], [\"NeoScrypt\"], [\"NeoScrypt\"], [\"Scrypt\"], [\"X11\"], [\"SHA-256\"], [\"C11\"], [\"SkunkHash\"], [\"CryptoNight\"], [\"Scrypt\"], [\"Dagger\"], [\"Lyra2REv2\"], [\"Scrypt\"], [\"Scrypt\"], [\"X11\"], [\"Ethash\"], [\"CryptoNight\"], [\"Scrypt\"], [\"IMesh\"], [\"Equihash\"], [\"Lyra2Z\"], [\"X11\"], [\"CryptoNight\"], [\"NIST5\"], [\"Lyra2RE\"], [\"Tribus\"], [\"Lyra2Z\"], [\"CryptoNight\"], [\"CryptoNight Heavy\"], [\"CryptoNight\"], [\"Jump Consistent Hash\"], [\"CryptoNight\"], [\"X16R\"], [\"HMQ1725\"], [\"X11\"], [\"Scrypt\"], [\"CryptoNight-V7\"], [\"Cryptonight-GPU\"], [\"XEVAN\"], [\"SHA-256\"], [\"X11\"], [\"X16R\"], [\"Equihash\"], [\"Lyra2Z\"], [\"SHA-256\"], [\"CryptoNight\"], [\"Blake\"], [\"Blake\"], [\"Equihash\"], [\"Exosis\"], [\"Scrypt\"], [\"Equihash\"], [\"Equihash\"], [\"QuBit\"], [\"SHA-256\"], [\"X13\"], [\"SHA-256\"], [\"Scrypt\"], [\"NeoScrypt\"], [\"Blake\"], [\"Scrypt\"], [\"SHA-256\"], [\"Scrypt\"], [\"Groestl\"], [\"Scrypt\"], [\"Scrypt\"], [\"Multiple\"], [\"Equihash+Scrypt\"], [\"Ethash\"], [\"CryptoNight\"], [\"Equihash\"]], \"hovertemplate\": \"<b>%{hovertext}</b><br><br>class=%{marker.color}<br>PC 1=%{x}<br>PC 2=%{y}<br>PC 3=%{z}<br>Algorithm=%{customdata[0]}<extra></extra>\", \"hovertext\": [\"Bitcoin\", \"Ethereum\", \"Litecoin\", \"Monero\", \"Ethereum Classic\", \"ZCash\", \"DigiByte\", \"ProsperCoin\", \"Spreadcoin\", \"Argentum\", \"MyriadCoin\", \"ZetaCoin\", \"SexCoin\", \"Quatloo\", \"QuarkCoin\", \"Riecoin\", \"Digitalcoin \", \"Catcoin\", \"CannaCoin\", \"CryptCoin\", \"CasinoCoin\", \"Verge\", \"DevCoin\", \"EarthCoin\", \"E-Gulden\", \"Einsteinium\", \"Emerald\", \"Franko\", \"FeatherCoin\", \"GrandCoin\", \"GlobalCoin\", \"GoldCoin\", \"Infinite Coin\", \"IXcoin\", \"KrugerCoin\", \"LuckyCoin\", \"Litebar \", \"MegaCoin\", \"MediterraneanCoin\", \"MinCoin\", \"NobleCoin\", \"Namecoin\", \"NyanCoin\", \"RonPaulCoin\", \"StableCoin\", \"SmartCoin\", \"SysCoin\", \"TigerCoin\", \"TerraCoin\", \"UnbreakableCoin\", \"Unobtanium\", \"UroCoin\", \"ViaCoin\", \"Vertcoin\", \"WorldCoin\", \"JouleCoin\", \"DigitalNote \", \"BurstCoin\", \"MonaCoin\", \"Gulden\", \"PesetaCoin\", \"Wild Beast Coin\", \"Flo\", \"ArtByte\", \"Folding Coin\", \"Unitus\", \"CypherPunkCoin\", \"OmniCron\", \"GreenCoin\", \"Cryptonite\", \"MasterCoin\", \"SoonCoin\", \"1Credit\", \"Nexus\", \"MarsCoin \", \"Crypto\", \"Anarchists Prime\", \"BowsCoin\", \"Song Coin\", \"BitZeny\", \"Expanse\", \"Siacoin\", \"MindCoin\", \"I0coin\", \"Revolution VR\", \"HOdlcoin\", \"Gamecredits\", \"CarpeDiemCoin\", \"Adzcoin\", \"SoilCoin\", \"YoCoin\", \"SibCoin\", \"Francs\", \"BolivarCoin\", \"Omni\", \"PizzaCoin\", \"Komodo\", \"Karbo\", \"ZayedCoin\", \"Circuits of Value\", \"DopeCoin\", \"DollarCoin\", \"Shilling\", \"ZCoin\", \"Elementrem\", \"ZClassic\", \"KiloCoin\", \"ArtexCoin\", \"Kurrent\", \"Cannabis Industry Coin\", \"OsmiumCoin\", \"Bikercoins\", \"HexxCoin\", \"PacCoin\", \"Citadel\", \"BeaverCoin\", \"VaultCoin\", \"Zero\", \"Canada eCoin\", \"Zoin\", \"DubaiCoin\", \"EB3coin\", \"Coinonat\", \"BenjiRolls\", \"ILCoin\", \"EquiTrader\", \"Quantum Resistant Ledger\", \"Dynamic\", \"Nano\", \"ChanCoin\", \"Dinastycoin\", \"DigitalPrice\", \"Unify\", \"SocialCoin\", \"ArcticCoin\", \"DAS\", \"LeviarCoin\", \"Bitcore\", \"SmartCash\", \"Onix\", \"Bitcoin Cash\", \"Sojourn Coin\", \"NewYorkCoin\", \"FrazCoin\", \"Kronecoin\", \"AdCoin\", \"Linx\", \"Sumokoin\", \"BitcoinZ\", \"Elements\", \"VIVO Coin\", \"Bitcoin Gold\", \"Pirl\", \"eBoost\", \"Pura\", \"Innova\", \"Ellaism\", \"GoByte\", \"SHIELD\", \"UltraNote\", \"BitCoal\", \"DaxxCoin\", \"AC3\", \"Lethean\", \"PopularCoin\", \"Photon\", \"Sucre\", \"SparksPay\", \"GunCoin\", \"IrishCoin\", \"Pioneer Coin\", \"UnitedBitcoin\", \"Interzone\", \"MUNcoin\", \"Niobio Cash\", \"ShareChain\", \"Travelflex\", \"KREDS\", \"BitFlip\", \"LottoCoin\", \"Crypto Improvement Fund\", \"Callisto Network\", \"BitTube\", \"Poseidon\", \"Aidos Kuneen\", \"Bitrolium\", \"Alpenschillling\", \"FuturoCoin\", \"Monero Classic\", \"Jumpcoin\", \"Infinex\", \"KEYCO\", \"GINcoin\", \"PlatinCoin\", \"Loki\", \"Newton Coin\", \"MassGrid\", \"PluraCoin\", \"Motion\", \"PlusOneCoin\", \"Axe\", \"HexCoin\", \"Webchain\", \"Ryo\", \"Urals Coin\", \"Project Pai\", \"Azart\", \"Xchange\", \"CrypticCoin\", \"Actinium\", \"Bitcoin SV\", \"FREDEnergy\", \"Universal Molecule\", \"Lithium\", \"PirateCash\", \"Exosis\", \"Block-Logic\", \"Beam\", \"Bithereum\", \"SLICE\", \"BLAST\", \"Bitcoin Rhodium\", \"GlobalToken\", \"SolarCoin\", \"UFO Coin\", \"BlakeCoin\", \"Crypto Escudo\", \"Crown Coin\", \"SmileyCoin\", \"Groestlcoin\", \"Bata\", \"Pakcoin\", \"JoinCoin\", \"Vollar\", \"Reality Clash\", \"Beldex\", \"Horizen\"], \"legendgroup\": \"1\", \"marker\": {\"color\": [1, 1, 1, 1, 1, 1, 1, 1, 1, 1, 1, 1, 1, 1, 1, 1, 1, 1, 1, 1, 1, 1, 1, 1, 1, 1, 1, 1, 1, 1, 1, 1, 1, 1, 1, 1, 1, 1, 1, 1, 1, 1, 1, 1, 1, 1, 1, 1, 1, 1, 1, 1, 1, 1, 1, 1, 1, 1, 1, 1, 1, 1, 1, 1, 1, 1, 1, 1, 1, 1, 1, 1, 1, 1, 1, 1, 1, 1, 1, 1, 1, 1, 1, 1, 1, 1, 1, 1, 1, 1, 1, 1, 1, 1, 1, 1, 1, 1, 1, 1, 1, 1, 1, 1, 1, 1, 1, 1, 1, 1, 1, 1, 1, 1, 1, 1, 1, 1, 1, 1, 1, 1, 1, 1, 1, 1, 1, 1, 1, 1, 1, 1, 1, 1, 1, 1, 1, 1, 1, 1, 1, 1, 1, 1, 1, 1, 1, 1, 1, 1, 1, 1, 1, 1, 1, 1, 1, 1, 1, 1, 1, 1, 1, 1, 1, 1, 1, 1, 1, 1, 1, 1, 1, 1, 1, 1, 1, 1, 1, 1, 1, 1, 1, 1, 1, 1, 1, 1, 1, 1, 1, 1, 1, 1, 1, 1, 1, 1, 1, 1, 1, 1, 1, 1, 1, 1, 1, 1, 1, 1, 1, 1, 1, 1, 1, 1, 1, 1, 1, 1, 1, 1, 1, 1, 1, 1, 1, 1, 1, 1, 1, 1, 1, 1, 1, 1, 1], \"coloraxis\": \"coloraxis\", \"symbol\": \"square\"}, \"mode\": \"markers\", \"name\": \"1\", \"scene\": \"scene\", \"showlegend\": true, \"type\": \"scatter3d\", \"x\": [-0.1507092864275528, -0.14885021431592324, -0.16752707803894995, -0.15909973699813537, -0.14729318041995523, -0.13551689047751447, 0.16373436998315452, -0.16867311706351887, -0.2340970302782342, -0.16828984187595084, -0.08959958257786671, -0.147794671433629, -0.16554591173001343, -0.1680940415544956, -0.2302723393920742, -0.20624036210154248, -0.16814253950042446, -0.16865538096239677, -0.1687418043503936, -0.23418637254123076, 0.6770065355712466, 0.1875103571486693, 0.2270695154084402, 0.07994560904491868, -0.16848811127175276, -0.16409440078078566, -0.16842745696304598, -0.1687988038866629, -0.1717066249560234, -0.1480262397257206, -0.16759408185070718, -0.16787157475491957, 1.5798317563999964, -0.15067065124181034, -0.165161681992622, -0.16851455065063528, -0.16886930642316658, -0.1681286866289465, -0.14790911736852916, -0.16875060519178164, -0.03372028955040933, -0.1507482710580103, -0.16241552238060103, -0.1687301033018647, -0.16682544269712934, -0.16821694741809934, -0.1379034790255711, -0.1502121149637274, -0.15049932725537712, -0.15048251452390116, -0.1510728625479941, -0.23436019089843915, -0.16844656959387488, -0.18814714251819614, -0.1655507091932371, -0.15027940696408448, 0.44972807820788807, 0.03630177024772469, -0.16731447015060538, -0.1519199997586107, -0.16603346428131077, -0.16887152287249058, -0.16589845317999755, -0.15212496256338723, -0.09666435691122478, -0.12359947611192974, -0.181046970315584, -0.16874458932451247, -0.041721149854952115, -0.14045544524929124, -0.16888040567591056, -0.1507760519178451, 0.4828592054571403, -0.3245397857954787, -0.23374748105611967, -0.15705184026054114, -0.1505160592558665, -0.23403234949908136, -0.16700509118837042, -0.16619744999044553, -0.14991789191921803, 0.37668132385948044, -0.23406772359077513, -0.15067177372810048, -0.16483890861691436, -0.15698271342966155, -0.16744403459442156, 0.2677459818313274, -0.23322871089517766, -0.15897161219550818, -0.16769194492861947, -0.14921853804782437, -0.16867039645662416, -0.2340310111288147, -0.1688804641614658, -0.2341810003243532, -0.18129338797249084, 0.2946679219672754, -0.15093182939771876, -0.10367601281760165, -0.16604790851911874, -0.15089045893550532, -0.16854398212281985, -0.1584603859734062, -0.14966006782782487, -0.13553851016152477, -0.0956515656019401, -0.22076525423708926, -0.23200998366268794, 0.29466222570342915, -0.16886221113871283, 0.294792935928055, -0.15759204894470125, 0.48061030808893257, -0.15786529170080735, -0.16883049791025562, -0.22691944918485366, -0.13555086483190296, -0.16696405982098098, -0.15731045429108503, -0.1603579607006121, -0.1397722647177656, -0.18003772294823667, -0.16839299600773822, -0.11726634497431371, -0.1682152367680938, -0.157722577042046, -0.16679595707634562, -0.02367232138779464, -0.1499713526929755, 0.330777917563109, -0.2332371921180412, -0.1685342514703613, -0.16829790515048215, -0.23363170354826382, -0.2342090032851954, 0.2950570826361162, -0.17462900010946192, -0.11968972664366613, -0.2250858753768743, -0.15070845054294021, -0.09450186777200936, 1.5783515425990655, -0.1686321148532506, -0.1680840379103622, -0.1677850633798684, -0.16777199271199553, 0.2952405257675531, 0.07668760403812774, -0.18860003008407597, -0.17639425911434573, -0.13539691900648088, -0.15773124141589984, -0.16696226875741274, -0.229754682981529, -0.17623974976986853, -0.14802644671662257, -0.1763398955423494, -0.11383367877902216, 1.132246017006632, 0.2946450393645663, -0.07295923322320562, -0.22949731034893261, -0.1468381681712144, -0.08503685092446359, 1.0798603227176147, -0.2341830035995683, -0.17639178492621946, -0.16943140383526356, -0.16788326308374524, -0.23410841929956897, -0.15068784090495949, -0.20484800248215385, -0.1557158283684572, 0.29851818785401335, 0.024129271563536673, -0.15723409083799314, -0.17370894026387695, -0.16845692772144927, 0.13855722231410222, -0.22825120205318816, -0.10109299352277126, 0.3025637833465331, -0.16869386428549119, -0.16083429172125946, -0.13438815264467346, -0.15624514007887486, -0.23327796959142982, 0.29482754851823895, -0.18009704365021653, -0.15743735688310295, -0.19103005694832106, -0.1585447136196357, 0.29875308599149475, 0.5781765752596012, 2.102535587097228, -0.1534893265562285, 0.30842883492896467, -0.19996231934215075, -0.16122136584894978, -0.23416516813592206, -0.16871845517993134, -0.14672211374791405, -0.16179908440716048, -0.1290743689599254, -0.11054254508704027, -0.2341365519703635, -0.1993903951403588, -0.030171358015803673, -0.15794279142448295, -0.1507084881130409, 0.37455372612296295, -0.1373968970270239, -0.1377885351852893, -0.25392454505049095, -0.14041246339411603, -0.16761114779001066, -0.133458098521225, -0.13522977093575142, -0.18025839014548875, -0.14998477482800304, -0.11951690289714344, -0.14885313926221544, 0.5267509085055115, -0.10156976368780044, -0.08828579351580247, -0.15227556735267958, -0.15049869762831428, 0.5467746450883534, -0.20580142204999644, -0.16879521000029743, -0.1667516314179875, -0.12433446789916532, -0.13905101333948072, -0.149693221126086, 0.3163973052007325, -0.13551794755659324], \"y\": [-1.193327729806946, -1.8351792487431262, -1.0943167046123135, -2.0182165842346835, -1.8352692755822124, -2.0766010683475375, -1.7500097057704747, -1.0943084753415702, -0.8389411316416503, -1.0943251266491898, -1.7449749841214148, -1.1933414166903746, -1.0943671139361766, -1.0943425269536065, -0.4194065825710272, -1.1726824255396777, -1.0943110171004837, -1.0943079847712316, -1.0943053936927953, -0.838942335240031, -0.13809082327421532, -1.746534929923207, -1.1961746264129989, -1.0959745259561264, -1.094303358187961, -1.0943585233724085, -1.0943086520889922, -1.0943057634342153, -1.4740845770822952, -1.0946244371889844, -1.094309684999171, -1.0943187835695565, -1.1033528669811212, -1.1933266611799764, -1.0943662597355774, -1.0943034557073785, -1.0943014480773352, -1.0943067260593813, -2.014887756415939, -1.09430364705429, -1.100069127076498, -1.1933288080993718, -1.0943356679058873, -1.09431005154809, -1.0944025050255224, -1.094314998064796, -1.1935230145719509, -1.1933304641585765, -1.193335231807177, -1.1933588503623471, -1.193324635207656, -0.8389357349413972, -1.094303476726224, -1.2295607988182118, -1.094377020003808, -1.1933310502743357, -2.1433905492506296, -0.5986399613037638, -1.0943242094040018, -1.094896532415844, -1.094327606597542, -1.0943023193520574, -1.094319824958323, -1.094471232141762, -1.961296940058056, -1.7446478444487201, -1.43332006093148, -1.0942992795543143, -1.0971215334159572, -2.1770499725922026, -1.0943012920870832, -1.1933295765019483, -1.1345817857144234, -0.7522345893162738, -0.8389397024329618, -2.029906826452667, -1.193343147840646, -0.8389399763871344, -1.094382274963368, -1.094385135109075, -1.835219495002586, -2.0294457996390527, -0.8389377859212829, -1.1933266922273005, -1.0943222074946348, -2.070886992288298, -1.0943144076784834, -1.1954464616299931, -0.8389576762562384, -2.116065672654817, -1.094374724781732, -2.207346293839467, -1.094307766312581, -0.8389424744828611, -1.0943012917844106, -0.838946623097593, -1.9980618904960106, -2.1413479759260174, -1.1933267463354846, -1.7448573072161864, -1.0943493099496682, -1.1933261739094714, -1.094310607550636, -2.11938508565121, -1.8352182573336762, -2.0766016663355424, -1.0986132176434034, -0.8388765961107792, -0.8390152310771495, -2.141355105045656, -1.0943021164810842, -2.14135402479043, -2.029886410377011, -0.8825379198081339, -2.01829968922432, -1.0943016485511519, -0.839363706881968, -2.0765994729443293, -1.0943112723098987, -2.0298855931960307, -2.0090337425878504, -1.0960308993444958, -0.4886818656991467, -1.094309930072898, -1.1939738543880438, -1.0943281333434451, -2.0182450395335345, -1.9623310940820156, -2.0407350144737895, -2.099475113931291, -2.1416104136057297, -0.8389680512990864, -1.0943035422720404, -1.0943323212389804, -0.838953612115173, -0.838943531594083, -2.141365098223185, -2.0495627697498553, -1.1495762370247784, -0.8393763691437933, -1.1933277066868673, -1.0988983069485134, -1.0459734704570463, -1.0943067074654882, -1.0943321098014631, -1.094333980795314, -1.0943336192681719, -2.1413821361213836, -2.0840276548981005, -0.8388108366829461, -1.4740183967643892, -2.0765977500057717, -2.116111415214054, -1.0943112227701122, -0.8390301717451676, -1.4740255311391905, -1.8353339218053615, -1.4740199352364425, -1.74479602197686, -2.1720458890003096, -2.1413501932920473, -1.8394179336245395, -0.8391498086803099, -2.0185108862707795, -1.0951507279036257, -1.1828315152947195, -0.8389433828584706, -1.4740145256583543, -1.474125585462345, -1.0943138809140482, -0.8389433479911266, -1.1933266080648284, -1.2073331557538558, -2.200378140274903, -2.141448091603543, -1.0953001486993714, -2.116061978315, -1.229805365488937, -1.0943145374617447, -1.0974633011652233, -0.8390836531143288, -1.837977872232306, -2.14175702173316, -1.0943090491977756, -1.9774034520294559, -2.076600903259307, -2.1195003839355127, -0.8389691791805063, -2.141348884487569, -0.4886662347420133, -2.0298924495994566, -2.152242940515428, -2.1193805099189134, -2.141608912327009, -2.079451488049005, -2.2079523168935475, -2.0330114466965825, -2.141594797785551, -1.2220835727953667, -1.9878640214949916, -0.8389436500741054, -1.094310429859751, -2.018983338803372, -2.118977134524208, -0.9531564267828666, -1.1935343665293443, -0.8389453936817306, -1.2221171404528333, -2.078490679391945, -2.1194104438226424, -1.1933277077260351, -2.1442529736642557, -2.1486692373728107, -2.1486294365272722, -0.32136019651774667, -1.9462477272606091, -1.0943418459616885, -2.0766973710062793, -2.0765993923213757, -1.4333616271152536, -1.1933349427120221, -0.2715231669946676, -1.193369555295481, -1.137233815769558, -1.4744667965872806, -2.1516806797266192, -1.0944753977834625, -1.1933352143920553, -1.1061952215656632, -1.172683594060705, -1.0943017119047471, -1.0943573665053514, -1.7446699484780823, -2.1516471861776014, -1.8352180857599034, -2.141628047002079, -2.0766010975857374], \"z\": [0.18527488107159748, 0.4223942524462515, 0.021254898928846844, 0.4286746322105935, 0.4223741328914945, 0.4209265870308548, 0.3913293651726206, 0.021276821541577513, 0.031384522493808374, 0.021271193618463018, 0.39578122584675657, 0.1852182396120799, 0.021221436495423195, 0.0212694087348766, 0.07877128525532802, 0.1158841182087487, 0.02126651666263853, 0.02127640652174646, 0.021277818172613525, 0.031386457700709657, -0.19437730584413082, 0.3904276878804727, 0.17806479128457486, 0.016506377116641116, 0.02127249245753124, 0.021191339849265637, 0.021271927738140007, 0.021279004012286846, 0.21754530630773342, 0.020902424062880436, 0.021255379159055, 0.02126204688107597, -0.012600750621704696, 0.18527397701899886, 0.021213643646785792, 0.021273033443044067, 0.021279885737091626, 0.02126571348141868, 0.32701984575600446, 0.021277780167662033, 0.019282660408021436, 0.18527579330109897, 0.021154945163571737, 0.021278155003697376, 0.021251377164001734, 0.021268493494406564, 0.1850425847544316, 0.1852652682309568, 0.1852715995459031, 0.18527415829930752, 0.18528177661327724, 0.031389126607175064, 0.0212716757710203, 0.15636676769680594, 0.02122274677502654, 0.1852666865380714, 0.3896417822566509, 0.04337389676935269, 0.021251564746565723, 0.021013688639009032, 0.021226349235200035, 0.021280036887414654, 0.021222693893625143, 0.02096565646642724, 0.41730072892106457, 0.3964214367026845, 0.15963081923712794, 0.021277124426521063, 0.01908143533350992, 0.24517023700023724, 0.02128008870328881, 0.18527644336548887, 0.013176865852717767, 0.026866999069145185, 0.03137735309102523, 0.3993898395304993, 0.18527290468794602, 0.031383086670170826, 0.021252491990135375, 0.02123668230941532, 0.4224205492393173, 0.37881191356258076, 0.0313835259710934, 0.18527400328486585, 0.021201785275478547, 0.3252130908662352, 0.021252955735352904, 0.17716162810302888, 0.031369176132004496, 0.35427313236066516, 0.02126530990224314, 0.2586632982043658, 0.021276680191537372, 0.031383366107062216, 0.021280089836438136, 0.03138687581250058, 0.5917347765921968, 0.3924940376919181, 0.1852792134308262, 0.39604845952067186, 0.02122929865080634, 0.18527831547178708, 0.02127449901726189, 0.4213656662350709, 0.42241523866460734, 0.4209270929254433, 0.02034339205490635, 0.031109853170254526, 0.031351845411698984, 0.3924950255574612, 0.021279825698873434, 0.3924922777289609, 0.3993981460864655, 0.022427875469104585, 0.4286601189243753, 0.02127913378276636, 0.03129270391744563, 0.4209270712669093, 0.021242967476749426, 0.3993924114245614, 0.4471954186528009, 0.020909672561749134, -0.011080312555474174, 0.021271394856308003, 0.18468491557678932, 0.021270069388466286, 0.4286505643534045, 0.48881222367267657, 0.38820651351523616, 0.27624711663855944, 0.3918036741489589, 0.031370617607792986, 0.021273438252350934, 0.0212722368713978, 0.03137674152164641, 0.031387057173557366, 0.392488349738775, 0.6029492582592642, 0.10512509351082222, 0.031257567660148054, 0.1852748615121271, 0.020355333743535497, -0.019604700814818486, 0.02127578441267087, 0.021267931634853934, 0.021262178731568947, 0.0212618728815778, 0.39248676768926566, 0.41759088996117816, 0.03045819105021836, 0.2176309898665037, 0.4209237797318157, 0.3542539206222886, 0.021242925566360312, 0.0313085500120308, 0.21762877278556322, 0.42239672932049893, 0.21763009067930672, 0.39624419423586077, 0.3794976971002093, 0.3924947673599438, 0.4213953105651988, 0.031318065283216616, 0.42846536322759843, 0.019706567705847684, 0.0354059118404777, 0.03138651870788483, 0.21763046583961482, 0.21750480769634736, 0.02126167978786309, 0.03138502205952592, 0.18527431446004428, 0.0030829570768601887, 0.36480664466160956, 0.39242926902381997, 0.017540553796350805, 0.3542379130461047, 0.15610784939512298, 0.021273238854452724, 0.015516098049492609, 0.03128502226605515, 0.42178172264201585, 0.39238618844269796, 0.021277307020798483, 0.4267514016995387, 0.4209039816208529, 0.42133547414037387, 0.031371571789323247, 0.39249095505924914, -0.011081041637168922, 0.39939579110568785, 0.306923551098841, 0.421366792672832, 0.392444282302315, 0.38896851249972236, 0.36448436214947677, 0.5195222995080203, 0.3922489478677226, 0.23532469819184929, 0.4615532403380816, 0.03138619458931358, 0.021277968307215945, 0.42852095431356957, 0.3257618606634043, 0.21062733571871614, 0.18449650509210178, 0.03138583573338595, 0.23531736915412493, 0.4190503327534492, 0.4213584179727562, 0.185274862391257, 0.39125167907282254, 0.30155365165086667, 0.3015566092395291, 0.182377421832135, 0.5366325210989249, 0.02125966292707834, 0.4208971969744489, 0.420920636542931, 0.15962013554016916, 0.18526126831139483, -0.04687011393080625, 0.1852428679680211, 0.01262371264971637, 0.21618877428606809, 0.3009401190403827, 0.02096918057658805, 0.18527158481280495, 0.008418341325168915, 0.11587547859419817, 0.021278435464789917, 0.021244367176091006, 0.3964388528340496, 0.32925658826879395, 0.4224158810050174, 0.3920935806133287, 0.42092661176621]}, {\"customdata\": [[\"SHA-256 + Hive\"], [\"Proof-of-Authority\"], [\"ECC 256K1\"], [\"Leased POS\"]], \"hovertemplate\": \"<b>%{hovertext}</b><br><br>class=%{marker.color}<br>PC 1=%{x}<br>PC 2=%{y}<br>PC 3=%{z}<br>Algorithm=%{customdata[0]}<extra></extra>\", \"hovertext\": [\"LitecoinCash\", \"Poa Network\", \"Acute Angle Cloud\", \"Waves\"], \"legendgroup\": \"3\", \"marker\": {\"color\": [3, 3, 3, 3], \"coloraxis\": \"coloraxis\", \"symbol\": \"x\"}, \"mode\": \"markers\", \"name\": \"3\", \"scene\": \"scene\", \"showlegend\": true, \"type\": \"scatter3d\", \"x\": [-0.3630307318887333, -0.4092218513213571, -0.3526839930514914, -0.41548348879883384], \"y\": [2.9983220568310265, 4.163426559492618, 3.935724143589521, 3.418720541830067], \"z\": [17.57703955042747, 12.126407056622226, 16.335207173901434, 16.161827384562947]}, {\"customdata\": [[\"TRC10\"]], \"hovertemplate\": \"<b>%{hovertext}</b><br><br>class=%{marker.color}<br>PC 1=%{x}<br>PC 2=%{y}<br>PC 3=%{z}<br>Algorithm=%{customdata[0]}<extra></extra>\", \"hovertext\": [\"BitTorrent\"], \"legendgroup\": \"2\", \"marker\": {\"color\": [2], \"coloraxis\": \"coloraxis\", \"symbol\": \"cross\"}, \"mode\": \"markers\", \"name\": \"2\", \"scene\": \"scene\", \"showlegend\": true, \"type\": \"scatter3d\", \"x\": [34.06499012765886], \"y\": [1.3446081130079395], \"z\": [-0.6206766610501748]}],                        {\"coloraxis\": {\"colorbar\": {\"title\": {\"text\": \"class\"}}, \"colorscale\": [[0.0, \"#0d0887\"], [0.1111111111111111, \"#46039f\"], [0.2222222222222222, \"#7201a8\"], [0.3333333333333333, \"#9c179e\"], [0.4444444444444444, \"#bd3786\"], [0.5555555555555556, \"#d8576b\"], [0.6666666666666666, \"#ed7953\"], [0.7777777777777778, \"#fb9f3a\"], [0.8888888888888888, \"#fdca26\"], [1.0, \"#f0f921\"]]}, \"legend\": {\"title\": {\"text\": \"class\"}, \"tracegroupgap\": 0, \"x\": 0, \"y\": 1}, \"margin\": {\"t\": 60}, \"scene\": {\"domain\": {\"x\": [0.0, 1.0], \"y\": [0.0, 1.0]}, \"xaxis\": {\"title\": {\"text\": \"PC 1\"}}, \"yaxis\": {\"title\": {\"text\": \"PC 2\"}}, \"zaxis\": {\"title\": {\"text\": \"PC 3\"}}}, \"template\": {\"data\": {\"bar\": [{\"error_x\": {\"color\": \"#2a3f5f\"}, \"error_y\": {\"color\": \"#2a3f5f\"}, \"marker\": {\"line\": {\"color\": \"#E5ECF6\", \"width\": 0.5}}, \"type\": \"bar\"}], \"barpolar\": [{\"marker\": {\"line\": {\"color\": \"#E5ECF6\", \"width\": 0.5}}, \"type\": \"barpolar\"}], \"carpet\": [{\"aaxis\": {\"endlinecolor\": \"#2a3f5f\", \"gridcolor\": \"white\", \"linecolor\": \"white\", \"minorgridcolor\": \"white\", \"startlinecolor\": \"#2a3f5f\"}, \"baxis\": {\"endlinecolor\": \"#2a3f5f\", \"gridcolor\": \"white\", \"linecolor\": \"white\", \"minorgridcolor\": \"white\", \"startlinecolor\": \"#2a3f5f\"}, \"type\": \"carpet\"}], \"choropleth\": [{\"colorbar\": {\"outlinewidth\": 0, \"ticks\": \"\"}, \"type\": \"choropleth\"}], \"contour\": [{\"colorbar\": {\"outlinewidth\": 0, \"ticks\": \"\"}, \"colorscale\": [[0.0, \"#0d0887\"], [0.1111111111111111, \"#46039f\"], [0.2222222222222222, \"#7201a8\"], [0.3333333333333333, \"#9c179e\"], [0.4444444444444444, \"#bd3786\"], [0.5555555555555556, \"#d8576b\"], [0.6666666666666666, \"#ed7953\"], [0.7777777777777778, \"#fb9f3a\"], [0.8888888888888888, \"#fdca26\"], [1.0, \"#f0f921\"]], \"type\": \"contour\"}], \"contourcarpet\": [{\"colorbar\": {\"outlinewidth\": 0, \"ticks\": \"\"}, \"type\": \"contourcarpet\"}], \"heatmap\": [{\"colorbar\": {\"outlinewidth\": 0, \"ticks\": \"\"}, \"colorscale\": [[0.0, \"#0d0887\"], [0.1111111111111111, \"#46039f\"], [0.2222222222222222, \"#7201a8\"], [0.3333333333333333, \"#9c179e\"], [0.4444444444444444, \"#bd3786\"], [0.5555555555555556, \"#d8576b\"], [0.6666666666666666, \"#ed7953\"], [0.7777777777777778, \"#fb9f3a\"], [0.8888888888888888, \"#fdca26\"], [1.0, \"#f0f921\"]], \"type\": \"heatmap\"}], \"heatmapgl\": [{\"colorbar\": {\"outlinewidth\": 0, \"ticks\": \"\"}, \"colorscale\": [[0.0, \"#0d0887\"], [0.1111111111111111, \"#46039f\"], [0.2222222222222222, \"#7201a8\"], [0.3333333333333333, \"#9c179e\"], [0.4444444444444444, \"#bd3786\"], [0.5555555555555556, \"#d8576b\"], [0.6666666666666666, \"#ed7953\"], [0.7777777777777778, \"#fb9f3a\"], [0.8888888888888888, \"#fdca26\"], [1.0, \"#f0f921\"]], \"type\": \"heatmapgl\"}], \"histogram\": [{\"marker\": {\"colorbar\": {\"outlinewidth\": 0, \"ticks\": \"\"}}, \"type\": \"histogram\"}], \"histogram2d\": [{\"colorbar\": {\"outlinewidth\": 0, \"ticks\": \"\"}, \"colorscale\": [[0.0, \"#0d0887\"], [0.1111111111111111, \"#46039f\"], [0.2222222222222222, \"#7201a8\"], [0.3333333333333333, \"#9c179e\"], [0.4444444444444444, \"#bd3786\"], [0.5555555555555556, \"#d8576b\"], [0.6666666666666666, \"#ed7953\"], [0.7777777777777778, \"#fb9f3a\"], [0.8888888888888888, \"#fdca26\"], [1.0, \"#f0f921\"]], \"type\": \"histogram2d\"}], \"histogram2dcontour\": [{\"colorbar\": {\"outlinewidth\": 0, \"ticks\": \"\"}, \"colorscale\": [[0.0, \"#0d0887\"], [0.1111111111111111, \"#46039f\"], [0.2222222222222222, \"#7201a8\"], [0.3333333333333333, \"#9c179e\"], [0.4444444444444444, \"#bd3786\"], [0.5555555555555556, \"#d8576b\"], [0.6666666666666666, \"#ed7953\"], [0.7777777777777778, \"#fb9f3a\"], [0.8888888888888888, \"#fdca26\"], [1.0, \"#f0f921\"]], \"type\": \"histogram2dcontour\"}], \"mesh3d\": [{\"colorbar\": {\"outlinewidth\": 0, \"ticks\": \"\"}, \"type\": \"mesh3d\"}], \"parcoords\": [{\"line\": {\"colorbar\": {\"outlinewidth\": 0, \"ticks\": \"\"}}, \"type\": \"parcoords\"}], \"pie\": [{\"automargin\": true, \"type\": \"pie\"}], \"scatter\": [{\"marker\": {\"colorbar\": {\"outlinewidth\": 0, \"ticks\": \"\"}}, \"type\": \"scatter\"}], \"scatter3d\": [{\"line\": {\"colorbar\": {\"outlinewidth\": 0, \"ticks\": \"\"}}, \"marker\": {\"colorbar\": {\"outlinewidth\": 0, \"ticks\": \"\"}}, \"type\": \"scatter3d\"}], \"scattercarpet\": [{\"marker\": {\"colorbar\": {\"outlinewidth\": 0, \"ticks\": \"\"}}, \"type\": \"scattercarpet\"}], \"scattergeo\": [{\"marker\": {\"colorbar\": {\"outlinewidth\": 0, \"ticks\": \"\"}}, \"type\": \"scattergeo\"}], \"scattergl\": [{\"marker\": {\"colorbar\": {\"outlinewidth\": 0, \"ticks\": \"\"}}, \"type\": \"scattergl\"}], \"scattermapbox\": [{\"marker\": {\"colorbar\": {\"outlinewidth\": 0, \"ticks\": \"\"}}, \"type\": \"scattermapbox\"}], \"scatterpolar\": [{\"marker\": {\"colorbar\": {\"outlinewidth\": 0, \"ticks\": \"\"}}, \"type\": \"scatterpolar\"}], \"scatterpolargl\": [{\"marker\": {\"colorbar\": {\"outlinewidth\": 0, \"ticks\": \"\"}}, \"type\": \"scatterpolargl\"}], \"scatterternary\": [{\"marker\": {\"colorbar\": {\"outlinewidth\": 0, \"ticks\": \"\"}}, \"type\": \"scatterternary\"}], \"surface\": [{\"colorbar\": {\"outlinewidth\": 0, \"ticks\": \"\"}, \"colorscale\": [[0.0, \"#0d0887\"], [0.1111111111111111, \"#46039f\"], [0.2222222222222222, \"#7201a8\"], [0.3333333333333333, \"#9c179e\"], [0.4444444444444444, \"#bd3786\"], [0.5555555555555556, \"#d8576b\"], [0.6666666666666666, \"#ed7953\"], [0.7777777777777778, \"#fb9f3a\"], [0.8888888888888888, \"#fdca26\"], [1.0, \"#f0f921\"]], \"type\": \"surface\"}], \"table\": [{\"cells\": {\"fill\": {\"color\": \"#EBF0F8\"}, \"line\": {\"color\": \"white\"}}, \"header\": {\"fill\": {\"color\": \"#C8D4E3\"}, \"line\": {\"color\": \"white\"}}, \"type\": \"table\"}]}, \"layout\": {\"annotationdefaults\": {\"arrowcolor\": \"#2a3f5f\", \"arrowhead\": 0, \"arrowwidth\": 1}, \"autotypenumbers\": \"strict\", \"coloraxis\": {\"colorbar\": {\"outlinewidth\": 0, \"ticks\": \"\"}}, \"colorscale\": {\"diverging\": [[0, \"#8e0152\"], [0.1, \"#c51b7d\"], [0.2, \"#de77ae\"], [0.3, \"#f1b6da\"], [0.4, \"#fde0ef\"], [0.5, \"#f7f7f7\"], [0.6, \"#e6f5d0\"], [0.7, \"#b8e186\"], [0.8, \"#7fbc41\"], [0.9, \"#4d9221\"], [1, \"#276419\"]], \"sequential\": [[0.0, \"#0d0887\"], [0.1111111111111111, \"#46039f\"], [0.2222222222222222, \"#7201a8\"], [0.3333333333333333, \"#9c179e\"], [0.4444444444444444, \"#bd3786\"], [0.5555555555555556, \"#d8576b\"], [0.6666666666666666, \"#ed7953\"], [0.7777777777777778, \"#fb9f3a\"], [0.8888888888888888, \"#fdca26\"], [1.0, \"#f0f921\"]], \"sequentialminus\": [[0.0, \"#0d0887\"], [0.1111111111111111, \"#46039f\"], [0.2222222222222222, \"#7201a8\"], [0.3333333333333333, \"#9c179e\"], [0.4444444444444444, \"#bd3786\"], [0.5555555555555556, \"#d8576b\"], [0.6666666666666666, \"#ed7953\"], [0.7777777777777778, \"#fb9f3a\"], [0.8888888888888888, \"#fdca26\"], [1.0, \"#f0f921\"]]}, \"colorway\": [\"#636efa\", \"#EF553B\", \"#00cc96\", \"#ab63fa\", \"#FFA15A\", \"#19d3f3\", \"#FF6692\", \"#B6E880\", \"#FF97FF\", \"#FECB52\"], \"font\": {\"color\": \"#2a3f5f\"}, \"geo\": {\"bgcolor\": \"white\", \"lakecolor\": \"white\", \"landcolor\": \"#E5ECF6\", \"showlakes\": true, \"showland\": true, \"subunitcolor\": \"white\"}, \"hoverlabel\": {\"align\": \"left\"}, \"hovermode\": \"closest\", \"mapbox\": {\"style\": \"light\"}, \"paper_bgcolor\": \"white\", \"plot_bgcolor\": \"#E5ECF6\", \"polar\": {\"angularaxis\": {\"gridcolor\": \"white\", \"linecolor\": \"white\", \"ticks\": \"\"}, \"bgcolor\": \"#E5ECF6\", \"radialaxis\": {\"gridcolor\": \"white\", \"linecolor\": \"white\", \"ticks\": \"\"}}, \"scene\": {\"xaxis\": {\"backgroundcolor\": \"#E5ECF6\", \"gridcolor\": \"white\", \"gridwidth\": 2, \"linecolor\": \"white\", \"showbackground\": true, \"ticks\": \"\", \"zerolinecolor\": \"white\"}, \"yaxis\": {\"backgroundcolor\": \"#E5ECF6\", \"gridcolor\": \"white\", \"gridwidth\": 2, \"linecolor\": \"white\", \"showbackground\": true, \"ticks\": \"\", \"zerolinecolor\": \"white\"}, \"zaxis\": {\"backgroundcolor\": \"#E5ECF6\", \"gridcolor\": \"white\", \"gridwidth\": 2, \"linecolor\": \"white\", \"showbackground\": true, \"ticks\": \"\", \"zerolinecolor\": \"white\"}}, \"shapedefaults\": {\"line\": {\"color\": \"#2a3f5f\"}}, \"ternary\": {\"aaxis\": {\"gridcolor\": \"white\", \"linecolor\": \"white\", \"ticks\": \"\"}, \"baxis\": {\"gridcolor\": \"white\", \"linecolor\": \"white\", \"ticks\": \"\"}, \"bgcolor\": \"#E5ECF6\", \"caxis\": {\"gridcolor\": \"white\", \"linecolor\": \"white\", \"ticks\": \"\"}}, \"title\": {\"x\": 0.05}, \"xaxis\": {\"automargin\": true, \"gridcolor\": \"white\", \"linecolor\": \"white\", \"ticks\": \"\", \"title\": {\"standoff\": 15}, \"zerolinecolor\": \"white\", \"zerolinewidth\": 2}, \"yaxis\": {\"automargin\": true, \"gridcolor\": \"white\", \"linecolor\": \"white\", \"ticks\": \"\", \"title\": {\"standoff\": 15}, \"zerolinecolor\": \"white\", \"zerolinewidth\": 2}}}, \"width\": 800},                        {\"responsive\": true}                    ).then(function(){\n",
       "                            \n",
       "var gd = document.getElementById('ac903bff-54fd-40a6-b9bc-e8aa06a8acd4');\n",
       "var x = new MutationObserver(function (mutations, observer) {{\n",
       "        var display = window.getComputedStyle(gd).display;\n",
       "        if (!display || display === 'none') {{\n",
       "            console.log([gd, 'removed!']);\n",
       "            Plotly.purge(gd);\n",
       "            observer.disconnect();\n",
       "        }}\n",
       "}});\n",
       "\n",
       "// Listen for the removal of the full notebook cells\n",
       "var notebookContainer = gd.closest('#notebook-container');\n",
       "if (notebookContainer) {{\n",
       "    x.observe(notebookContainer, {childList: true});\n",
       "}}\n",
       "\n",
       "// Listen for the clearing of the current output cell\n",
       "var outputEl = gd.closest('.output');\n",
       "if (outputEl) {{\n",
       "    x.observe(outputEl, {childList: true});\n",
       "}}\n",
       "\n",
       "                        })                };                });            </script>        </div>"
      ]
     },
     "metadata": {},
     "output_type": "display_data"
    }
   ],
   "source": [
    "# Creating a 3D-Scatter with the PCA data and the clusters\n",
    "# YOUR CODE HERE\n",
    "fig = px.scatter_3d(\n",
    "    combo,\n",
    "    x=\"PC 1\",\n",
    "    y=\"PC 2\",\n",
    "    z=\"PC 3\",\n",
    "    color=\"class\",\n",
    "    symbol=\"class\",\n",
    "    hover_name=\"CoinName\",\n",
    "    hover_data=[\"Algorithm\"],\n",
    "    width=800,\n",
    ")\n",
    "fig.update_layout(legend=dict(x=0, y=1))\n",
    "fig.show()"
   ]
  },
  {
   "cell_type": "code",
   "execution_count": 182,
   "metadata": {},
   "outputs": [
    {
     "data": {},
     "metadata": {},
     "output_type": "display_data"
    },
    {
     "data": {
      "application/vnd.holoviews_exec.v0+json": "",
      "text/html": [
       "<div id='1102'>\n",
       "\n",
       "\n",
       "\n",
       "\n",
       "\n",
       "  <div class=\"bk-root\" id=\"37cebcbc-1d56-4dd0-9168-529c1e089078\" data-root-id=\"1102\"></div>\n",
       "</div>\n",
       "<script type=\"application/javascript\">(function(root) {\n",
       "  function embed_document(root) {\n",
       "  var docs_json = {\"d1cedbc1-834d-4778-8c43-561ebd41d82c\":{\"roots\":{\"references\":[{\"attributes\":{},\"id\":\"1106\",\"type\":\"StringFormatter\"},{\"attributes\":{\"margin\":[5,5,5,5],\"name\":\"HSpacer01734\",\"sizing_mode\":\"stretch_width\"},\"id\":\"1103\",\"type\":\"Spacer\"},{\"attributes\":{\"editor\":{\"id\":\"1117\"},\"field\":\"ProofType\",\"formatter\":{\"id\":\"1116\"},\"title\":\"ProofType\"},\"id\":\"1118\",\"type\":\"TableColumn\"},{\"attributes\":{\"source\":{\"id\":\"1104\"}},\"id\":\"1137\",\"type\":\"CDSView\"},{\"attributes\":{\"margin\":[5,5,5,5],\"name\":\"HSpacer01735\",\"sizing_mode\":\"stretch_width\"},\"id\":\"1142\",\"type\":\"Spacer\"},{\"attributes\":{\"columns\":[{\"id\":\"1108\"},{\"id\":\"1113\"},{\"id\":\"1118\"},{\"id\":\"1123\"},{\"id\":\"1128\"},{\"id\":\"1133\"}],\"height\":300,\"reorderable\":false,\"source\":{\"id\":\"1104\"},\"view\":{\"id\":\"1137\"},\"width\":700},\"id\":\"1136\",\"type\":\"DataTable\"},{\"attributes\":{},\"id\":\"1117\",\"type\":\"StringEditor\"},{\"attributes\":{},\"id\":\"1127\",\"type\":\"NumberEditor\"},{\"attributes\":{},\"id\":\"1132\",\"type\":\"IntEditor\"},{\"attributes\":{},\"id\":\"1105\",\"type\":\"Selection\"},{\"attributes\":{\"data\":{\"Algorithm\":[\"Scrypt\",\"Scrypt\",\"X13\",\"SHA-256\",\"Ethash\",\"Scrypt\",\"X11\",\"CryptoNight-V7\",\"Ethash\",\"Equihash\",\"SHA-512\",\"Multiple\",\"SHA-256\",\"SHA-256\",\"Scrypt\",\"X15\",\"X11\",\"Scrypt\",\"Scrypt\",\"Scrypt\",\"Multiple\",\"Scrypt\",\"SHA-256\",\"Scrypt\",\"Scrypt\",\"Scrypt\",\"Quark\",\"Groestl\",\"Scrypt\",\"Scrypt\",\"Scrypt\",\"Scrypt\",\"Scrypt\",\"X11\",\"Scrypt\",\"Groestl\",\"Multiple\",\"SHA-256\",\"Scrypt\",\"Scrypt\",\"Scrypt\",\"Scrypt\",\"PoS\",\"Scrypt\",\"Scrypt\",\"NeoScrypt\",\"Scrypt\",\"Scrypt\",\"Scrypt\",\"Scrypt\",\"X11\",\"Scrypt\",\"X11\",\"SHA-256\",\"Scrypt\",\"Scrypt\",\"Scrypt\",\"SHA3\",\"Scrypt\",\"HybridScryptHash256\",\"Scrypt\",\"Scrypt\",\"SHA-256\",\"Scrypt\",\"X13\",\"Scrypt\",\"SHA-256\",\"Scrypt\",\"X13\",\"NeoScrypt\",\"Scrypt\",\"Scrypt\",\"Scrypt\",\"Scrypt\",\"Scrypt\",\"Scrypt\",\"X11\",\"X11\",\"SHA-256\",\"Multiple\",\"SHA-256\",\"PHI1612\",\"X11\",\"SHA-256\",\"SHA-256\",\"SHA-256\",\"X11\",\"Scrypt\",\"Scrypt\",\"Scrypt\",\"Scrypt\",\"Lyra2REv2\",\"Scrypt\",\"X11\",\"Multiple\",\"SHA-256\",\"X13\",\"Scrypt\",\"CryptoNight\",\"CryptoNight\",\"Shabal256\",\"Counterparty\",\"Scrypt\",\"SHA-256\",\"Groestl\",\"Scrypt\",\"Scrypt\",\"Scrypt\",\"X13\",\"Scrypt\",\"Scrypt\",\"Scrypt\",\"Scrypt\",\"X13\",\"Scrypt\",\"Stanford Folding\",\"X11\",\"Multiple\",\"QuBit\",\"Scrypt\",\"Scrypt\",\"Scrypt\",\"M7 POW\",\"Scrypt\",\"SHA-256\",\"Scrypt\",\"X11\",\"SHA3\",\"X11\",\"Lyra2RE\",\"SHA-256\",\"QUAIT\",\"X11\",\"X11\",\"Scrypt\",\"Scrypt\",\"Scrypt\",\"Ethash\",\"X13\",\"Blake2b\",\"SHA-256\",\"X15\",\"X11\",\"SHA-256\",\"BLAKE256\",\"Scrypt\",\"1GB AES Pattern Search\",\"SHA-256\",\"X11\",\"Scrypt\",\"SHA-256\",\"SHA-256\",\"NIST5\",\"Scrypt\",\"Scrypt\",\"X11\",\"Dagger\",\"Scrypt\",\"X11GOST\",\"X11\",\"Scrypt\",\"SHA-256\",\"Scrypt\",\"PoS\",\"Scrypt\",\"X11\",\"X11\",\"SHA-256\",\"SHA-256\",\"NIST5\",\"X11\",\"Scrypt\",\"POS 3.0\",\"Scrypt\",\"Scrypt\",\"Scrypt\",\"X13\",\"X11\",\"X11\",\"Equihash\",\"X11\",\"Scrypt\",\"CryptoNight\",\"SHA-256\",\"SHA-256\",\"X11\",\"Scrypt\",\"Multiple\",\"Scrypt\",\"Scrypt\",\"Scrypt\",\"SHA-256\",\"Scrypt\",\"Scrypt\",\"SHA-256D\",\"PoS\",\"Scrypt\",\"X11\",\"Lyra2Z\",\"PoS\",\"X13\",\"X14\",\"PoS\",\"SHA-256D\",\"Ethash\",\"Equihash\",\"DPoS\",\"X11\",\"Scrypt\",\"X11\",\"X13\",\"X11\",\"PoS\",\"Scrypt\",\"Scrypt\",\"X11\",\"PoS\",\"X11\",\"SHA-256\",\"Scrypt\",\"X11\",\"Scrypt\",\"Scrypt\",\"X11\",\"CryptoNight\",\"Scrypt\",\"Scrypt\",\"Scrypt\",\"Scrypt\",\"Quark\",\"QuBit\",\"Scrypt\",\"CryptoNight\",\"Lyra2RE\",\"Scrypt\",\"SHA-256\",\"X11\",\"Scrypt\",\"X11\",\"Scrypt\",\"CryptoNight-V7\",\"Scrypt\",\"Scrypt\",\"Scrypt\",\"X13\",\"X11\",\"Equihash\",\"Scrypt\",\"Scrypt\",\"Lyra2RE\",\"Scrypt\",\"Dagger-Hashimoto\",\"X11\",\"Blake2S\",\"X11\",\"Scrypt\",\"PoS\",\"X11\",\"NIST5\",\"PoS\",\"X11\",\"Scrypt\",\"Scrypt\",\"Scrypt\",\"SHA-256\",\"X11\",\"Scrypt\",\"Scrypt\",\"SHA-256\",\"PoS\",\"Scrypt\",\"X15\",\"SHA-256\",\"Scrypt\",\"POS 3.0\",\"CryptoNight-V7\",\"536\",\"Argon2d\",\"Blake2b\",\"Cloverhash\",\"CryptoNight\",\"NIST5\",\"X11\",\"NIST5\",\"Skein\",\"Scrypt\",\"X13\",\"Scrypt\",\"X11\",\"X11\",\"Scrypt\",\"CryptoNight\",\"X13\",\"Time Travel\",\"Scrypt\",\"Keccak\",\"SkunkHash v2 Raptor\",\"X11\",\"Skein\",\"SHA-256\",\"X11\",\"Scrypt\",\"VeChainThor Authority\",\"Scrypt\",\"PoS\",\"Scrypt\",\"Scrypt\",\"Scrypt\",\"Scrypt\",\"Scrypt\",\"Scrypt\",\"Scrypt\",\"CryptoNight\",\"SHA-512\",\"Ouroboros\",\"X11\",\"Equihash\",\"NeoScrypt\",\"X11\",\"Scrypt\",\"NeoScrypt\",\"Lyra2REv2\",\"Equihash\",\"Scrypt\",\"SHA-256\",\"NIST5\",\"PHI1612\",\"Dagger\",\"Scrypt\",\"Quark\",\"Scrypt\",\"POS 2.0\",\"Scrypt\",\"SHA-256\",\"X11\",\"NeoScrypt\",\"Ethash\",\"NeoScrypt\",\"X11\",\"DPoS\",\"NIST5\",\"X13\",\"Multiple\",\"Scrypt\",\"CryptoNight\",\"CryptoNight\",\"Ethash\",\"NIST5\",\"Quark\",\"X11\",\"CryptoNight-V7\",\"Scrypt\",\"Scrypt\",\"Scrypt\",\"X11\",\"BLAKE256\",\"X11\",\"NeoScrypt\",\"Quark\",\"NeoScrypt\",\"Scrypt\",\"Scrypt\",\"Scrypt\",\"X11\",\"X11\",\"SHA-256\",\"C11\",\"POS 3.0\",\"Ethash\",\"Scrypt\",\"CryptoNight\",\"SkunkHash\",\"Scrypt\",\"CryptoNight\",\"Scrypt\",\"Dagger\",\"Lyra2REv2\",\"X13\",\"Proof-of-BibleHash\",\"SHA-256 + Hive\",\"Scrypt\",\"Scrypt\",\"X11\",\"C11\",\"Proof-of-Authority\",\"X11\",\"XEVAN\",\"Scrypt\",\"VBFT\",\"Ethash\",\"CryptoNight\",\"Scrypt\",\"IMesh\",\"NIST5\",\"Scrypt\",\"Scrypt\",\"Equihash\",\"Scrypt\",\"Lyra2Z\",\"Green Protocol\",\"PoS\",\"Scrypt\",\"Semux BFT consensus\",\"X11\",\"Quark\",\"PoS\",\"CryptoNight\",\"X16R\",\"Scrypt\",\"NIST5\",\"Lyra2RE\",\"XEVAN\",\"Tribus\",\"Scrypt\",\"Lyra2Z\",\"CryptoNight\",\"CryptoNight Heavy\",\"CryptoNight\",\"Scrypt\",\"Scrypt\",\"Jump Consistent Hash\",\"SHA-256D\",\"CryptoNight\",\"Scrypt\",\"X15\",\"Scrypt\",\"Quark\",\"SHA-256\",\"DPoS\",\"X16R\",\"HMQ1725\",\"X11\",\"X16R\",\"Quark\",\"Quark\",\"Scrypt\",\"Lyra2REv2\",\"Quark\",\"Scrypt\",\"Scrypt\",\"CryptoNight-V7\",\"Cryptonight-GPU\",\"XEVAN\",\"CryptoNight Heavy\",\"X11\",\"X11\",\"Scrypt\",\"PoS\",\"SHA-256\",\"Keccak\",\"X11\",\"X11\",\"Scrypt\",\"SHA-512\",\"X16R\",\"ECC 256K1\",\"Equihash\",\"XEVAN\",\"Lyra2Z\",\"SHA-256\",\"XEVAN\",\"X11\",\"CryptoNight\",\"Quark\",\"Blake\",\"Blake\",\"Equihash\",\"Exosis\",\"Scrypt\",\"Scrypt\",\"Equihash\",\"Quark\",\"Equihash\",\"Quark\",\"Scrypt\",\"QuBit\",\"X11\",\"Scrypt\",\"XEVAN\",\"SHA-256D\",\"X11\",\"SHA-256\",\"X13\",\"SHA-256\",\"X11\",\"DPoS\",\"Scrypt\",\"Scrypt\",\"X11\",\"NeoScrypt\",\"Scrypt\",\"Blake\",\"Scrypt\",\"SHA-256\",\"Scrypt\",\"X11\",\"Scrypt\",\"Scrypt\",\"SHA-256\",\"X11\",\"SHA-256\",\"Scrypt\",\"Scrypt\",\"Scrypt\",\"Groestl\",\"X11\",\"Scrypt\",\"PoS\",\"Scrypt\",\"Scrypt\",\"X11\",\"SHA-256\",\"DPoS\",\"Scrypt\",\"Scrypt\",\"NeoScrypt\",\"Multiple\",\"X13\",\"Equihash+Scrypt\",\"DPoS\",\"Ethash\",\"DPoS\",\"SHA-256\",\"Leased POS\",\"PoS\",\"TRC10\",\"PoS\",\"SHA-256\",\"Scrypt\",\"CryptoNight\",\"Equihash\",\"Scrypt\"],\"CoinName\":[\"42 Coin\",\"404Coin\",\"EliteCoin\",\"Bitcoin\",\"Ethereum\",\"Litecoin\",\"Dash\",\"Monero\",\"Ethereum Classic\",\"ZCash\",\"Bitshares\",\"DigiByte\",\"BitcoinDark\",\"PayCoin\",\"ProsperCoin\",\"KoboCoin\",\"Spreadcoin\",\"Argentum\",\"Aurora Coin\",\"BlueCoin\",\"MyriadCoin\",\"MoonCoin\",\"ZetaCoin\",\"SexCoin\",\"Quatloo\",\"EnergyCoin\",\"QuarkCoin\",\"Riecoin\",\"Digitalcoin \",\"BitBar\",\"Catcoin\",\"CryptoBullion\",\"CannaCoin\",\"CryptCoin\",\"CasinoCoin\",\"Diamond\",\"Verge\",\"DevCoin\",\"EarthCoin\",\"E-Gulden\",\"Einsteinium\",\"Emerald\",\"Exclusive Coin\",\"FlutterCoin\",\"Franko\",\"FeatherCoin\",\"GrandCoin\",\"GlobalCoin\",\"GoldCoin\",\"HoboNickels\",\"HyperStake\",\"Infinite Coin\",\"IOCoin\",\"IXcoin\",\"KrugerCoin\",\"LuckyCoin\",\"Litebar \",\"MaxCoin\",\"MegaCoin\",\"MediterraneanCoin\",\"MintCoin\",\"MinCoin\",\"MazaCoin\",\"Nautilus Coin\",\"NavCoin\",\"NobleCoin\",\"Namecoin\",\"NyanCoin\",\"OpalCoin\",\"Orbitcoin\",\"PotCoin\",\"PhoenixCoin\",\"Reddcoin\",\"RonPaulCoin\",\"StableCoin\",\"SmartCoin\",\"SuperCoin\",\"SyncCoin\",\"SysCoin\",\"TeslaCoin\",\"TigerCoin\",\"TittieCoin\",\"TorCoin\",\"TerraCoin\",\"UnbreakableCoin\",\"Unobtanium\",\"UroCoin\",\"UnitaryStatus Dollar\",\"UltraCoin\",\"ViaCoin\",\"VeriCoin\",\"Vertcoin\",\"WorldCoin\",\"X11 Coin\",\"Crypti\",\"JouleCoin\",\"StealthCoin\",\"ZCC Coin\",\"ByteCoin\",\"DigitalNote \",\"BurstCoin\",\"StorjCoin\",\"MonaCoin\",\"Neutron\",\"FairCoin\",\"Gulden\",\"RubyCoin\",\"PesetaCoin\",\"Kore\",\"Wild Beast Coin\",\"Dnotes\",\"Flo\",\"8BIT Coin\",\"Sativa Coin\",\"ArtByte\",\"Folding Coin\",\"Ucoin\",\"Unitus\",\"CypherPunkCoin\",\"OmniCron\",\"Vtorrent\",\"GreenCoin\",\"Cryptonite\",\"MasterCoin\",\"SoonCoin\",\"1Credit\",\"IslaCoin\",\"Nexus\",\"MarsCoin \",\"Crypto\",\"Anarchists Prime\",\"Droidz\",\"BowsCoin\",\"Squall Coin\",\"Song Coin\",\"BitZeny\",\"Diggits\",\"Expanse\",\"Paycon\",\"Siacoin\",\"Emercoin\",\"EverGreenCoin\",\"MindCoin\",\"I0coin\",\"Decred\",\"Revolution VR\",\"HOdlcoin\",\"EDRCoin\",\"Hitcoin\",\"Gamecredits\",\"DubaiCoin\",\"CarpeDiemCoin\",\"PWR Coin\",\"BillaryCoin\",\"GPU Coin\",\"Adzcoin\",\"SoilCoin\",\"YoCoin\",\"SibCoin\",\"EuropeCoin\",\"ZeitCoin\",\"SwingCoin\",\"SafeExchangeCoin\",\"Nebuchadnezzar\",\"Francs\",\"BolivarCoin\",\"Ratecoin\",\"Revenu\",\"Clockcoin\",\"VIP Tokens\",\"BitSend\",\"Omni\",\"Let it Ride\",\"PutinCoin\",\"iBankCoin\",\"Frankywillcoin\",\"MudraCoin\",\"PizzaCoin\",\"Lutetium Coin\",\"Komodo\",\"GoldBlocks\",\"CarterCoin\",\"Karbo\",\"BitTokens\",\"ZayedCoin\",\"MustangCoin\",\"ZoneCoin\",\"Circuits of Value\",\"RootCoin\",\"DopeCoin\",\"BitCurrency\",\"DollarCoin\",\"Swiscoin\",\"Shilling\",\"BuzzCoin\",\"Opair\",\"PesoBit\",\"Halloween Coin\",\"ZCoin\",\"CoffeeCoin\",\"RoyalCoin\",\"GanjaCoin V2\",\"TeamUP\",\"LanaCoin\",\"Elementrem\",\"ZClassic\",\"ARK\",\"InsaneCoin\",\"KiloCoin\",\"ArtexCoin\",\"EmberCoin\",\"XenixCoin\",\"FreeCoin\",\"PLNCoin\",\"AquariusCoin\",\"Kurrent\",\"Creatio\",\"Eternity\",\"Eurocoin\",\"BitcoinFast\",\"Stakenet\",\"BitConnect Coin\",\"MoneyCoin\",\"Enigma\",\"Cannabis Industry Coin\",\"Russiacoin\",\"PandaCoin\",\"GameUnits\",\"GAKHcoin\",\"Allsafe\",\"LiteCreed\",\"OsmiumCoin\",\"Bikercoins\",\"HexxCoin\",\"Klingon Empire Darsek\",\"Internet of People\",\"KushCoin\",\"Printerium\",\"PacCoin\",\"Impeach\",\"Citadel\",\"Zilbercoin\",\"FirstCoin\",\"BeaverCoin\",\"FindCoin\",\"VaultCoin\",\"Zero\",\"OpenChat\",\"Canada eCoin\",\"Zoin\",\"RenosCoin\",\"DubaiCoin\",\"VirtacoinPlus\",\"TajCoin\",\"Impact\",\"EB3coin\",\"Atmos\",\"HappyCoin\",\"Coinonat\",\"MacronCoin\",\"Condensate\",\"Independent Money System\",\"ArgusCoin\",\"LomoCoin\",\"ProCurrency\",\"GoldReserve\",\"BenjiRolls\",\"GrowthCoin\",\"ILCoin\",\"Phreak\",\"Degas Coin\",\"HTML5 Coin\",\"Ultimate Secure Cash\",\"EquiTrader\",\"QTUM\",\"Quantum Resistant Ledger\",\"Espers\",\"Dynamic\",\"Nano\",\"ChanCoin\",\"Dinastycoin\",\"Denarius\",\"DigitalPrice\",\"Virta Unique Coin\",\"Bitcoin Planet\",\"Unify\",\"BritCoin\",\"SocialCoin\",\"ArcticCoin\",\"DAS\",\"Linda\",\"LeviarCoin\",\"DeepOnion\",\"Bitcore\",\"gCn Coin\",\"SmartCash\",\"Signatum\",\"Onix\",\"Cream\",\"Bitcoin Cash\",\"Monoeci\",\"Draftcoin\",\"Vechain\",\"Sojourn Coin\",\"Stakecoin\",\"NewYorkCoin\",\"FrazCoin\",\"Kronecoin\",\"AdCoin\",\"Linx\",\"CoinonatX\",\"Ethereum Dark\",\"Sumokoin\",\"Obsidian\",\"Cardano\",\"Regalcoin\",\"BitcoinZ\",\"TrezarCoin\",\"Elements\",\"TerraNovaCoin\",\"VIVO Coin\",\"Rupee\",\"Bitcoin Gold\",\"WomenCoin\",\"Theresa May Coin\",\"NamoCoin\",\"LUXCoin\",\"Pirl\",\"Xios\",\"Bitcloud 2.0\",\"eBoost\",\"KekCoin\",\"BlackholeCoin\",\"Infinity Economics\",\"Pura\",\"Innova\",\"Ellaism\",\"GoByte\",\"Magnet\",\"Lamden Tau\",\"Electra\",\"Bitcoin Diamond\",\"SHIELD\",\"Cash & Back Coin\",\"UltraNote\",\"BitCoal\",\"DaxxCoin\",\"Bulwark\",\"Kalkulus\",\"AC3\",\"Lethean\",\"GermanCoin\",\"LiteCoin Ultra\",\"PopularCoin\",\"PhantomX\",\"Photon\",\"Sucre\",\"SparksPay\",\"Digiwage\",\"GunCoin\",\"IrishCoin\",\"Trollcoin\",\"Litecoin Plus\",\"Monkey Project\",\"Pioneer Coin\",\"UnitedBitcoin\",\"Interzone\",\"TokenPay\",\"1717 Masonic Commemorative Token\",\"My Big Coin\",\"TurtleCoin\",\"MUNcoin\",\"Unified Society USDEX\",\"Niobio Cash\",\"ShareChain\",\"Travelflex\",\"KREDS\",\"Tokyo Coin\",\"BiblePay\",\"LitecoinCash\",\"BitFlip\",\"LottoCoin\",\"Crypto Improvement Fund\",\"Stipend\",\"Poa Network\",\"Pushi\",\"Ellerium\",\"Velox\",\"Ontology\",\"Callisto Network\",\"BitTube\",\"Poseidon\",\"Aidos Kuneen\",\"Bitspace\",\"Briacoin\",\"Ignition\",\"Bitrolium\",\"MedicCoin\",\"Alpenschillling\",\"Bitcoin Green\",\"Deviant Coin\",\"Abjcoin\",\"Semux\",\"FuturoCoin\",\"Carebit\",\"Zealium\",\"Monero Classic\",\"Proton\",\"iDealCash\",\"Jumpcoin\",\"Infinex\",\"Bitcoin Incognito\",\"KEYCO\",\"HollyWoodCoin\",\"GINcoin\",\"PlatinCoin\",\"Loki\",\"Newton Coin\",\"Swisscoin\",\"Xt3ch\",\"MassGrid\",\"TheVig\",\"PluraCoin\",\"EmaratCoin\",\"Dekado\",\"Lynx\",\"Poseidon Quark\",\"BitcoinWSpectrum\",\"Muse\",\"Motion\",\"PlusOneCoin\",\"Axe\",\"Trivechain\",\"Dystem\",\"Giant\",\"Peony Coin\",\"Absolute Coin\",\"Vitae\",\"HexCoin\",\"TPCash\",\"Webchain\",\"Ryo\",\"Urals Coin\",\"Qwertycoin\",\"ARENON\",\"EUNO\",\"MMOCoin\",\"Ketan\",\"Project Pai\",\"XDNA\",\"PAXEX\",\"Azart\",\"ThunderStake\",\"Kcash\",\"Xchange\",\"Acute Angle Cloud\",\"CrypticCoin\",\"Bettex coin\",\"Actinium\",\"Bitcoin SV\",\"BitMoney\",\"Junson Ming Chan Coin\",\"FREDEnergy\",\"HerbCoin\",\"Universal Molecule\",\"Lithium\",\"PirateCash\",\"Exosis\",\"Block-Logic\",\"Oduwa\",\"Beam\",\"Galilel\",\"Bithereum\",\"Crypto Sports\",\"Credit\",\"SLICE\",\"Dash Platinum\",\"Nasdacoin\",\"Beetle Coin\",\"Titan Coin\",\"Award\",\"BLAST\",\"Bitcoin Rhodium\",\"GlobalToken\",\"Insane Coin\",\"ALAX\",\"LiteDoge\",\"SolarCoin\",\"TruckCoin\",\"UFO Coin\",\"OrangeCoin\",\"BlakeCoin\",\"BitstarCoin\",\"NeosCoin\",\"HyperCoin\",\"PinkCoin\",\"Crypto Escudo\",\"AudioCoin\",\"IncaKoin\",\"Piggy Coin\",\"Crown Coin\",\"Genstake\",\"SmileyCoin\",\"XiaoMiCoin\",\"Groestlcoin\",\"CapriCoin\",\" ClubCoin\",\"Radium\",\"Bata\",\"Pakcoin\",\"Creditbit \",\"OKCash\",\"Lisk\",\"HiCoin\",\"WhiteCoin\",\"FriendshipCoin\",\"JoinCoin\",\"Triangles Coin\",\"Vollar\",\"EOS\",\"Reality Clash\",\"Oxycoin\",\"TigerCash\",\"Waves\",\"Particl\",\"BitTorrent\",\"Nxt\",\"ZEPHYR\",\"Gapcoin\",\"Beldex\",\"Horizen\",\"BitcoinPlus\"],\"ProofType\":[\"PoW/PoS\",\"PoW/PoS\",\"PoW/PoS\",\"PoW\",\"PoW\",\"PoW\",\"PoW/PoS\",\"PoW\",\"PoW\",\"PoW\",\"PoS\",\"PoW\",\"PoW/PoS\",\"PoS\",\"PoW\",\"PoW/PoS\",\"PoW\",\"PoW\",\"PoW/PoS\",\"PoW/PoS\",\"PoW\",\"PoW\",\"PoW\",\"PoW\",\"PoW\",\"PoW/PoS\",\"PoW\",\"PoW\",\"PoW\",\"PoW/PoS\",\"PoW\",\"PoW/PoS\",\"PoW\",\"PoW\",\"PoC\",\"PoW/PoS\",\"PoW\",\"PoW\",\"PoW\",\"PoW\",\"PoW\",\"PoW\",\"PoS\",\"PoS/PoW/PoT\",\"PoW\",\"PoW\",\"PoW\",\"PoW\",\"PoW\",\"PoW/PoS\",\"PoS\",\"PoW\",\"PoW/PoS\",\"PoW\",\"PoW\",\"PoW\",\"PoW\",\"PoW/PoS\",\"PoW\",\"PoW\",\"PoS\",\"PoW\",\"PoW/PoS\",\"PoS\",\"PoW/PoS\",\"PoW\",\"PoW\",\"PoW\",\"PoW/PoS\",\"PoW/PoS\",\"PoW/PoS\",\"PoW/PoS\",\"PoW/PoS\",\"PoW\",\"PoW\",\"PoW\",\"PoS\",\"PoW/PoS\",\"PoW\",\"PoS\",\"PoW\",\"PoS\",\"PoW/PoS\",\"PoW\",\"PoW\",\"PoW\",\"PoW\",\"PoW/PoS\",\"PoW/PoS\",\"PoW\",\"PoST\",\"PoW\",\"PoW\",\"PoW/PoS\",\"PoS\",\"PoW\",\"PoW/PoS\",\"PoW/PoS\",\"PoW\",\"PoW\",\"PoC\",\"PoS\",\"PoW\",\"PoW/PoS\",\"PoW/PoS\",\"PoW\",\"PoS\",\"PoW\",\"PoW/PoS\",\"PoW\",\"PoS\",\"PoW\",\"PoW/PoS\",\"PoW/PoS\",\"PoW\",\"PoW\",\"PoS\",\"PoW\",\"PoW\",\"PoW\",\"PoW/PoS\",\"PoW\",\"PoW\",\"PoW\",\"PoW\",\"PoW\",\"PoW/PoS\",\"PoW/nPoS\",\"PoW\",\"PoW\",\"PoW\",\"PoW/PoS\",\"PoW\",\"PoS/PoW\",\"PoW\",\"PoW\",\"PoS\",\"PoW\",\"PoW/PoS\",\"PoW\",\"PoW/PoS\",\"PoW/PoS\",\"PoW\",\"PoW\",\"PoW/PoS\",\"PoW\",\"PoW\",\"PoW/PoS\",\"PoW/PoS\",\"PoW\",\"PoW/PoS\",\"PoW\",\"PoW/PoS\",\"PoW/PoS\",\"PoS\",\"PoW\",\"PoW\",\"PoW\",\"PoW\",\"PoW/PoS\",\"PoS\",\"PoW/PoS\",\"PoC\",\"PoS\",\"PoW\",\"PoW\",\"PoW/PoS\",\"PoW/PoS\",\"PoW/PoS\",\"PoW/PoS\",\"PoW/PoS\",\"PoW\",\"PoS\",\"PoW/PoS\",\"PoW/PoS\",\"PoW/PoS\",\"PoS\",\"PoW\",\"PoS\",\"dPoW/PoW\",\"PoW/PoS\",\"PoW/PoS\",\"PoW\",\"PoW/PoS\",\"PoW\",\"PoW/PoS\",\"PoW/PoS\",\"PoW\",\"PoW/PoS\",\"PoW\",\"PoS\",\"PoW\",\"PoW/PoW\",\"PoW\",\"PoW/PoS\",\"PoS\",\"PoW/PoS\",\"PoW/PoS\",\"PoW\",\"PoS\",\"PoS\",\"PoW/PoS\",\"PoS\",\"PoW/PoS\",\"PoW\",\"PoW\",\"DPoS\",\"PoW/PoS\",\"PoW\",\"PoW\",\"PoW/PoS\",\"PoW/PoS\",\"PoS\",\"PoW/PoS\",\"PoW/PoS\",\"PoW\",\"PoS\",\"PoW/PoS\",\"PoW/PoS\",\"PoW/PoS\",\"TPoS\",\"PoW/PoS\",\"PoW/PoS\",\"PoW/PoS\",\"PoW\",\"PoW/PoS\",\"PoS\",\"PoW/PoS\",\"PoW/PoS\",\"PoS\",\"PoW/PoS\",\"PoW\",\"PoW\",\"PoW\",\"PoW/PoS\",\"PoW/PoS\",\"PoW/PoS\",\"PoW/PoS\",\"PoW\",\"PoW/PoS\",\"PoW\",\"PoS\",\"PoW/PoS \",\"PoW\",\"PoS\",\"PoW\",\"PoW\",\"PoW/PoS\",\"PoW\",\"PoW\",\"PoS\",\"PoW\",\"PoW/PoS\",\"PoW/PoS\",\"PoW/PoS\",\"PoW\",\"PoS\",\"PoW/PoS\",\"PoW\",\"PoS\",\"PoW/PoS\",\"PoW/PoS\",\"PoW/PoS\",\"PoW/PoS\",\"PoS\",\"PoW/PoS\",\"PoW\",\"PoS\",\"PoW\",\"PoS\",\"PoW/PoS\",\"PoW/PoS\",\"PoS\",\"PoW\",\"PoS\",\"PoW\",\"PoW/PoS\",\"PoW\",\"PoW\",\"PoW\",\"PoW\",\"PoW/PoS\",\"PoW\",\"PoW/PoS\",\"PoW/PoS\",\"PoW\",\"PoW/PoS\",\"PoW\",\"PoW\",\"PoW\",\"PoW/PoS\",\"PoW\",\"PoW/PoS\",\"PoW\",\"PoW\",\"PoW\",\"PoS\",\"PoW\",\"PoW/PoS\",\"PoW\",\"PoW/PoS\",\"PoS\",\"Proof of Authority\",\"PoW\",\"PoS\",\"PoW\",\"PoW\",\"PoW\",\"PoW\",\"PoW\",\"PoW/PoS\",\"PoW/PoS\",\"PoW\",\"PoS\",\"PoS\",\"PoW/PoS\",\"PoW\",\"PoW/PoS\",\"PoW\",\"PoW/PoS\",\"PoW\",\"PoS\",\"PoW\",\"PoW/PoS\",\"PoW/PoS\",\"PoW/PoS\",\"PoW/PoS\",\"PoW\",\"PoW/PoS\",\"PoW/PoS\",\"PoW\",\"PoS\",\"PoW/PoS\",\"PoS\",\"PoW\",\"PoW\",\"PoW\",\"PoW\",\"PoW/PoS\",\"DPoS\",\"PoW/PoS\",\"PoW/PoS\",\"PoW\",\"PoW/PoS\",\"PoW\",\"PoW\",\"PoW\",\"PoS\",\"PoS\",\"PoW\",\"PoW\",\"PoW/PoS\",\"PoW/PoS\",\"PoW\",\"PoW/PoS\",\"PoW\",\"PoW\",\"PoW\",\"PoS\",\"PoW\",\"PoW\",\"PoW/PoS\",\"PoW/PoS\",\"PoS\",\"PoW\",\"PoW\",\"PoW\",\"PoS\",\"PoS\",\"PoW and PoS\",\"PoW\",\"PoW\",\"PoW/PoS\",\"PoW\",\"PoW\",\"PoW\",\"PoW\",\"PoS\",\"POBh\",\"PoW + Hive\",\"PoW\",\"PoW\",\"PoW\",\"PoW/PoS\",\"PoA\",\"PoW/PoS\",\"PoW/PoS\",\"PoS\",\"PoS\",\"PoW\",\"PoW\",\"PoW\",\"PoW\",\"PoW/PoS\",\"PoW/PoS\",\"PoW/PoS\",\"PoW\",\"PoS\",\"PoW\",\"PoS\",\"PoS\",\"PoW/PoS\",\"DPoS\",\"PoW\",\"PoW/PoS\",\"PoS\",\"PoW\",\"PoS\",\"PoW/PoS\",\"PoW\",\"PoW\",\"PoS/PoW\",\"PoW\",\"PoS\",\"PoW\",\"PoW\",\"PoW\",\"PoW\",\"PoW/PoS\",\"PoS\",\"PoW\",\"PoW/PoS\",\"PoW\",\"PoW/PoS\",\"PoS\",\"HPoW\",\"PoS\",\"PoS\",\"PoS\",\"PoW\",\"PoW\",\"PoW\",\"PoW/PoS\",\"PoS\",\"PoW/PoS\",\"PoS\",\"PoW/PoS\",\"PoS\",\"PoW\",\"PoW/PoS\",\"PoW\",\"PoW\",\"PoW\",\"PoW\",\"PoS\",\"PoW/PoS\",\"PoS\",\"PoS\",\"PoW\",\"PoW/PoS\",\"PoS\",\"PoW\",\"PoW/PoS\",\"Zero-Knowledge Proof\",\"PoW\",\"DPOS\",\"PoW\",\"PoS\",\"PoW\",\"PoW\",\"Pos\",\"PoS\",\"PoW\",\"PoW/PoS\",\"PoW\",\"PoW\",\"PoS\",\"PoW\",\"PoW\",\"PoW/PoS\",\"PoW\",\"PoW/PoS\",\"PoW\",\"PoS\",\"PoW/PoS\",\"PoW\",\"PoS\",\"PoW/PoS\",\"PoW/PoS\",\"PoW/PoS\",\"PoW/PoS\",\"PoW\",\"PoW\",\"PoW\",\"PoW/PoS\",\"DPoS\",\"PoW/PoS\",\"PoW\",\"PoW/PoS\",\"PoW\",\"PoW/PoS\",\"PoW\",\"PoW/PoS\",\"PoS\",\"PoW/PoS\",\"PoW/PoS\",\"PoW\",\"PoW/PoS\",\"PoW/PoS\",\"PoW/PoS\",\"PoW\",\"PoW/PoS\",\"PoW\",\"PoW/PoS\",\"PoW\",\"PoW/PoS\",\"PoW/PoS\",\"PoS\",\"PoW\",\"PoW\",\"Proof of Trust\",\"PoW/PoS\",\"DPoS\",\"PoS\",\"PoW/PoS\",\"PoW/PoS\",\"PoW\",\"PoW/PoS\",\"PoW\",\"DPoS\",\"PoW\",\"DPoS\",\"PoS\",\"LPoS\",\"PoS\",\"DPoS\",\"PoS/LPoS\",\"DPoS\",\"PoW/PoS\",\"PoW\",\"PoW\",\"PoS\"],\"TotalCoinSupply\":[\"42\",\"532000000\",\"314159265359\",\"21000000\",\"0\",\"84000000\",\"22000000\",\"0\",\"210000000\",\"21000000\",\"3600570502\",\"21000000000\",\"22000000\",\"12500000\",\"21000000\",\"350000000\",\"20000000\",\"64000000\",\"16768584\",\"0\",\"2000000000\",\"384000000000\",\"169795588\",\"250000000\",\"100000000\",\"0\",\"247000000\",\"84000000\",\"48166000\",\"500000\",\"21000000 \",\"1000000\",\"13140000\",\"18000000\",\"40000000000\",\"4380000\",\"16555000000\",\"21000000000\",\"13500000000\",\"21000000 \",\"299792458\",\"32000000\",\"0\",\"0\",\"11235813\",\"336000000\",\"1420609614\",\"70000000\",\"72245700\",\"120000000\",\"0\",\"90600000000\",\"22000000\",\"21000000\",\"265420800\",\"20000000\",\"1350000\",\"100000000\",\"42000000\",\"200000000\",\"0\",\"10000000\",\"2419200000\",\"16180000\",\"0\",\"15000000000\",\"21000000\",\"337000000\",\"0\",\"3770000\",\"420000000\",\"98000000\",\"0\",\"21000000\",\"250000000\",\"51200000\",\"0\",\"1000\",\"888000000\",\"100000000\",\"47011968\",\"2300000000\",\"10000000\",\"42000000\",\"80000000\",\"250000\",\"0\",\"1600000000\",\"100000000\",\"23000000\",\"0\",\"84000000\",\"265420800\",\"5500000\",\"0\",\"45000000\",\"0\",\"1000000000\",\"184467440735\",\"10000000000\",\"2158812800\",\"500000000\",\"105120000\",\"68000000\",\"0\",\"1680000000\",\"0\",\"166386000\",\"12000000\",\"2628000\",\"500000000\",\"160000000\",\"0\",\"10000000\",\"1000000000\",\"1000000000\",\"20000000\",\"0\",\"0\",\"3371337\",\"20000000\",\"10000000000\",\"1840000000\",\"619478\",\"21000000\",\"92000000000\",\"0\",\"78000000\",\"33000000\",\"65789100\",\"53760000\",\"5060000\",\"21000000\",\"0\",\"210240000\",\"250000000\",\"100000000\",\"16906397\",\"50000000\",\"0\",\"1000000000\",\"26298000\",\"16000000\",\"21000000\",\"21000000\",\"210000000\",\"81962100\",\"22000000\",\"26550000000\",\"84000000\",\"10500000\",\"21626280000 \",\"0\",\"42000000\",\"221052632\",\"84000000\",\"30000000\",\"168351300\",\"24000000\",\"384000000\",\" 99000000000\",\"40000000\",\"2147483647\",\"20000000\",\"20000000\",\"25000000\",\"75000000\",\"222725000\",\"525000000\",\"90000000\",\"139000000\",\"616448\",\"33500000\",\"2000000000\",\"44333333\",\"100000000\",\"200000000\",\"25000000\",\"657000000\",\"200000000\",\"50000000\",\"90000000\",\"10000000\",\"21000000\",\"9736000\",\"3000000\",\"21000000\",\"1200000000\",\"0\",\"200000000\",\"0\",\"10638298\",\"3100000000\",\"30000000\",\"20000000000\",\"74000000\",\"0\",\"1500000000\",\"21400000\",\"39999898\",\"2500124\",\"100000000\",\"301000000\",\"7506000000\",\"26205539\",\"21000000\",\"125000000\",\"30000000\",\"10000000000\",\"500000000\",\"850000000\",\"3853326.77707314\",\"50000000\",\"38540000 \",\"42000000\",\"228000000\",\"20000000\",\"60000000\",\"20000000\",\"33000000\",\"76500000\",\"28000000\",\"650659833\",\"5000000\",\"21000000\",\"144000000\",\"32514916898\",\"13000000\",\"3315789\",\"15000000\",\"78835200\",\"2714286\",\"25000000\",\"9999999\",\"500000000\",\"21000000\",\"9354000\",\"20000000\",\"100000000000\",\"21933333\",\"185000000\",\"55000000\",\"110000000\",\"3360000\",\"14524851.4827\",\"1000000000\",\"17000000\",\"1000000000\",\"100000000 \",\"21000000\",\"34426423\",\"2232901\",\"100000000\",\"36900000\",\"110000000\",\"4000000000\",\"110290030\",\"100000000\",\"48252000\",\"400000000\",\"500000000\",\"21212121\",\"28600000\",\"1000000000\",\"75000000000\",\"40000000\",\"35520400\",\"2000000000\",\"2500000000\",\"30000000\",\"105000000\",\"90000000000\",\"200084200\",\"72000000\",\"100000000\",\"105000000\",\"50000000000\",\"0\",\"340282367\",\"30000000\",\"2000000000\",\"10000000\",\"100000000\",\"120000000\",\"100000000\",\"19276800\",\"30000000\",\" 75000000\",\"60000000\",\"18900000\",\"50000000000\",\"54000000\",\"18898187.6216583\",\"21000000\",\"200000000000\",\"5000000000\",\"137500000\",\"1100000000\",\"100000000\",\"21000000\",\"9507271\",\"17405891.19707116\",\"86712634466\",\"10500000000\",\"61599965\",\"0\",\"20000000\",\"84000000\",\"100000000\",\"100000000\",\"48252000\",\"4200000\",\"88888888\",\"91388946\",\"45000000000\",\"27000000\",\"21000000000\",\"400000000\",\"1800000000\",\"15733333\",\"27000000\",\"24000000\",\"21000000\",\"25000000000\",\"100000000\",\"1200000000\",\"60000000\",\"156306732.71\",\"21000000\",\"200000000\",\"100000000\",\"21000000\",\"14788275.991\",\"9000000000\",\"350000000\",\"45000000\",\"280000000\",\"31800000\",\"144000000\",\"500000000\",\"30000000000\",\"210000000\",\"660000000\",\"210000000\",\"85000000000\",\"12500000\",\"10000000000\",\"27716121\",\"20000000\",\"550000000\",\"999481516\",\"50000000000\",\"150000000\",\"4999999999\",\"50000000\",\" 90000000000\",\"19800000\",\"21000000\",\"120000000\",\"500000000\",\"64000000\",\"900000000\",\"4000000\",\"21000000\",\"23000000\",\"20166000\",\"23000000\",\"25000000\",\"1618033\",\"30000000\",\"1000000000000\",\"16600000\",\"232000000\",\"336000000\",\"10000000000\",\"100000000\",\"1100000000\",\"800000000\",\"5200000000\",\"840000000\",\"40000000\",\"18406979840\",\"500000000\",\"19340594\",\"252460800\",\"25000000\",\"60000000\",\"124000000\",\"1000000000\",\"6500000000\",\"1000000000\",\"21000000\",\"25000000\",\"50000000\",\"3000000\",\"5000000\",\"70000000\",\"500000000\",\"300000000\",\"21000000\",\"88000000\",\"30000000\",\"100000000\",\"100000000\",\"200000000\",\"80000000\",\"18400000\",\"45000000\",\"5121951220\",\"21000000\",\"26280000\",\"21000000\",\"18000000\",\"26000000\",\"10500000\",\"600000518\",\"150000000\",\"184000000000\",\"10200000000\",\"44000000\",\"168000000\",\"100000000\",\"1000000000\",\"84000000\",\"90000000\",\"92000000000\",\"650000000 \",\"100262205\",\"18081806 \",\"22075700\",\"21000000\",\"21000000\",\"82546564\",\"21000000\",\"5151000\",\"16880000000\",\"52500000\",\"100000000\",\"22105263\",\"1000000000\",\"1750000000\",\"88188888\",\"210000000\",\"184470000000\",\"55000000\",\"50000000\",\"260000000\",\"210000000\",\"2100000000\",\"366000000\",\"100000000\",\"25000000\",\"18000000000\",\"1000000000\",\"100000000\",\"1000000000\",\"7600000000\",\"50000000\",\"84000000\",\"21000000\",\"70000000000\",\"0\",\"8080000000\",\"54000000\",\"105120001.44\",\"25228800\",\"105000000\",\"21000000\",\"120000000\",\"21000000\",\"262800000\",\"19035999\",\"30886000\",\"13370000\",\"74800000000\",\"100000000\",\"19700000\",\"84000000\",\"500000000\",\"5000000000\",\"420000000\",\"64000000\",\"2100000\",\"168000000\",\"30000000\",\"1000000000\",\"35000000000\",\"98100000000\",\"0\",\"4000000000\",\"200000000\",\"7000000000\",\"54256119\",\"21000000\",\"0\",\"500000000\",\"1000000000\",\"10500000000\",\"190000000\",\"1000000000\",\"42000000\",\"15000000\",\"50000000000\",\"400000000\",\"105000000\",\"208000000\",\"160000000\",\"9000000\",\"5000000\",\"182000000\",\"16504333\",\"105000000\",\"159918400\",\"10008835635\",\"300000000\",\"60168145\",\"2800000\",\"120000\",\"2100000000\",\"0\",\"24487944\",\"0\",\"1000000000\",\"100000000\",\"8634140\",\"990000000000\",\"1000000000\",\"2000000000\",\"250000000\",\"1400222610\",\"21000000\",\"1000000\"],\"TotalCoinsMined\":{\"__ndarray__\":\"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\",\"dtype\":\"float64\",\"order\":\"little\",\"shape\":[532]},\"class\":{\"__ndarray__\":\"AAAAAAAAAAAEAAAAAQAAAAEAAAABAAAAAAAAAAEAAAABAAAAAQAAAAAAAAABAAAAAAAAAAAAAAABAAAAAAAAAAEAAAABAAAAAAAAAAAAAAABAAAABAAAAAEAAAABAAAAAQAAAAAAAAABAAAAAQAAAAEAAAAAAAAAAQAAAAAAAAABAAAAAQAAAAEAAAAAAAAAAQAAAAEAAAABAAAAAQAAAAEAAAABAAAAAAAAAAAAAAABAAAAAQAAAAEAAAABAAAAAQAAAAAAAAAAAAAAAQAAAAAAAAABAAAAAQAAAAEAAAABAAAAAAAAAAEAAAABAAAAAAAAAAEAAAAAAAAAAAAAAAAAAAABAAAAAQAAAAEAAAAAAAAAAAAAAAAAAAAAAAAAAAAAAAEAAAABAAAAAQAAAAAAAAAAAAAAAQAAAAAAAAABAAAAAAAAAAAAAAABAAAAAQAAAAEAAAABAAAAAAAAAAAAAAABAAAAAAAAAAEAAAABAAAAAAAAAAAAAAABAAAAAAAAAAAAAAAEAAAAAQAAAAEAAAAAAAAAAQAAAAAAAAAAAAAAAQAAAAAAAAABAAAAAAAAAAEAAAAAAAAAAQAAAAAAAAAAAAAAAQAAAAEAAAAAAAAAAQAAAAEAAAABAAAAAAAAAAEAAAABAAAAAQAAAAEAAAABAAAAAAAAAAEAAAABAAAAAQAAAAEAAAAAAAAAAQAAAAAAAAABAAAAAQAAAAAAAAABAAAAAAAAAAEAAAAAAAAAAAAAAAEAAAABAAAAAAAAAAEAAAABAAAAAAAAAAAAAAABAAAAAAAAAAEAAAAAAAAAAAAAAAAAAAABAAAAAQAAAAEAAAABAAAAAAAAAAAAAAAAAAAAAAAAAAAAAAABAAAAAQAAAAAAAAAAAAAAAAAAAAAAAAAAAAAAAQAAAAAAAAAAAAAAAAAAAAAAAAAAAAAAAQAAAAAAAAABAAAAAAAAAAAAAAABAAAAAAAAAAEAAAAAAAAAAAAAAAEAAAAAAAAAAQAAAAAAAAABAAAAAAAAAAEAAAAAAAAAAAAAAAAAAAAAAAAAAQAAAAAAAAAAAAAAAAAAAAAAAAAAAAAAAQAAAAEAAAAEAAAAAAAAAAEAAAABAAAAAAAAAAAAAAAAAAAAAAAAAAAAAAABAAAAAAAAAAAAAAAAAAAAAAAAAAAAAAAAAAAAAAAAAAAAAAABAAAAAAAAAAAAAAAAAAAAAAAAAAAAAAAAAAAAAQAAAAEAAAABAAAAAAAAAAAAAAAAAAAAAAAAAAEAAAAAAAAAAQAAAAAAAAAAAAAAAQAAAAAAAAABAAAAAQAAAAAAAAABAAAAAQAAAAAAAAABAAAAAAAAAAAAAAAAAAAAAQAAAAAAAAAAAAAAAQAAAAAAAAAAAAAAAAAAAAAAAAAAAAAAAAAAAAAAAAABAAAAAAAAAAEAAAAAAAAAAAAAAAAAAAAAAAAAAQAAAAAAAAABAAAAAAAAAAEAAAABAAAAAQAAAAEAAAAAAAAAAQAAAAAAAAAAAAAAAQAAAAAAAAABAAAAAQAAAAEAAAAAAAAAAQAAAAAAAAABAAAABAAAAAEAAAAAAAAAAQAAAAAAAAABAAAAAAAAAAAAAAAEAAAAAQAAAAAAAAABAAAAAQAAAAEAAAABAAAAAQAAAAAAAAAAAAAAAQAAAAAAAAAAAAAAAAAAAAEAAAAAAAAAAQAAAAAAAAABAAAAAAAAAAEAAAAAAAAAAAAAAAAAAAAAAAAAAQAAAAAAAAAAAAAAAQAAAAAAAAAAAAAAAAAAAAEAAAABAAAAAQAAAAEAAAAAAAAABAAAAAAAAAAAAAAAAQAAAAAAAAABAAAAAQAAAAEAAAAAAAAAAAAAAAEAAAABAAAAAAAAAAAAAAABAAAAAAAAAAEAAAABAAAAAQAAAAAAAAABAAAAAQAAAAAAAAAAAAAAAAAAAAEAAAABAAAAAQAAAAAAAAAAAAAAAAAAAAQAAAABAAAAAAAAAAEAAAABAAAAAQAAAAEAAAAAAAAAAAAAAAMAAAABAAAAAQAAAAEAAAAAAAAAAwAAAAAAAAAAAAAAAAAAAAAAAAABAAAAAQAAAAEAAAABAAAAAAAAAAAAAAAAAAAAAQAAAAAAAAABAAAAAAAAAAAAAAAAAAAABAAAAAEAAAAAAAAAAAAAAAEAAAAAAAAAAAAAAAEAAAABAAAAAAAAAAEAAAAAAAAAAQAAAAEAAAABAAAAAQAAAAAAAAAAAAAAAQAAAAAAAAABAAAAAAAAAAAAAAAEAAAAAAAAAAAAAAAAAAAAAQAAAAEAAAABAAAAAAAAAAAAAAAAAAAAAAAAAAAAAAAAAAAAAQAAAAAAAAABAAAAAQAAAAEAAAAEAAAAAAAAAAAAAAAAAAAAAAAAAAEAAAAAAAAAAAAAAAEAAAAAAAAAAAAAAAEAAAADAAAAAQAAAAAAAAABAAAAAQAAAAAAAAAAAAAAAQAAAAAAAAABAAAAAQAAAAEAAAABAAAAAQAAAAAAAAABAAAAAAAAAAEAAAAAAAAAAAAAAAEAAAAAAAAAAAAAAAAAAAAAAAAAAAAAAAEAAAABAAAAAQAAAAAAAAAEAAAAAAAAAAEAAAAAAAAAAQAAAAAAAAABAAAAAAAAAAAAAAAAAAAAAAAAAAEAAAAAAAAAAAAAAAAAAAABAAAAAAAAAAEAAAAAAAAAAQAAAAAAAAAAAAAAAAAAAAEAAAABAAAAAAAAAAAAAAAEAAAAAAAAAAAAAAAAAAAAAQAAAAAAAAABAAAABAAAAAEAAAAEAAAAAAAAAAMAAAAAAAAAAgAAAAAAAAAEAAAAAAAAAAEAAAABAAAAAAAAAA==\",\"dtype\":\"int32\",\"order\":\"little\",\"shape\":[532]}},\"selected\":{\"id\":\"1105\"},\"selection_policy\":{\"id\":\"1138\"}},\"id\":\"1104\",\"type\":\"ColumnDataSource\"},{\"attributes\":{},\"id\":\"1107\",\"type\":\"StringEditor\"},{\"attributes\":{\"editor\":{\"id\":\"1107\"},\"field\":\"CoinName\",\"formatter\":{\"id\":\"1106\"},\"title\":\"CoinName\"},\"id\":\"1108\",\"type\":\"TableColumn\"},{\"attributes\":{\"editor\":{\"id\":\"1132\"},\"field\":\"class\",\"formatter\":{\"id\":\"1131\"},\"title\":\"class\"},\"id\":\"1133\",\"type\":\"TableColumn\"},{\"attributes\":{\"format\":\"0,0.0[00000]\"},\"id\":\"1126\",\"type\":\"NumberFormatter\"},{\"attributes\":{},\"id\":\"1111\",\"type\":\"StringFormatter\"},{\"attributes\":{\"editor\":{\"id\":\"1122\"},\"field\":\"TotalCoinSupply\",\"formatter\":{\"id\":\"1121\"},\"title\":\"TotalCoinSupply\"},\"id\":\"1123\",\"type\":\"TableColumn\"},{\"attributes\":{},\"id\":\"1131\",\"type\":\"NumberFormatter\"},{\"attributes\":{},\"id\":\"1122\",\"type\":\"StringEditor\"},{\"attributes\":{},\"id\":\"1116\",\"type\":\"StringFormatter\"},{\"attributes\":{\"children\":[{\"id\":\"1103\"},{\"id\":\"1136\"},{\"id\":\"1142\"}],\"margin\":[0,0,0,0],\"name\":\"Row01730\",\"tags\":[\"embedded\"]},\"id\":\"1102\",\"type\":\"Row\"},{\"attributes\":{\"editor\":{\"id\":\"1112\"},\"field\":\"Algorithm\",\"formatter\":{\"id\":\"1111\"},\"title\":\"Algorithm\"},\"id\":\"1113\",\"type\":\"TableColumn\"},{\"attributes\":{},\"id\":\"1112\",\"type\":\"StringEditor\"},{\"attributes\":{\"editor\":{\"id\":\"1127\"},\"field\":\"TotalCoinsMined\",\"formatter\":{\"id\":\"1126\"},\"title\":\"TotalCoinsMined\"},\"id\":\"1128\",\"type\":\"TableColumn\"},{\"attributes\":{},\"id\":\"1138\",\"type\":\"UnionRenderers\"},{\"attributes\":{},\"id\":\"1121\",\"type\":\"StringFormatter\"}],\"root_ids\":[\"1102\"]},\"title\":\"Bokeh Application\",\"version\":\"2.1.1\"}};\n",
       "  var render_items = [{\"docid\":\"d1cedbc1-834d-4778-8c43-561ebd41d82c\",\"root_ids\":[\"1102\"],\"roots\":{\"1102\":\"37cebcbc-1d56-4dd0-9168-529c1e089078\"}}];\n",
       "  root.Bokeh.embed.embed_items_notebook(docs_json, render_items);\n",
       "  }\n",
       "if (root.Bokeh !== undefined) {\n",
       "    embed_document(root);\n",
       "  } else {\n",
       "    var attempts = 0;\n",
       "    var timer = setInterval(function(root) {\n",
       "      if (root.Bokeh !== undefined) {\n",
       "        clearInterval(timer);\n",
       "        embed_document(root);\n",
       "      } else if (document.readyState == \"complete\") {\n",
       "        attempts++;\n",
       "        if (attempts > 100) {\n",
       "          clearInterval(timer);\n",
       "          console.log(\"Bokeh: ERROR: Unable to run BokehJS code because BokehJS library is missing\");\n",
       "        }\n",
       "      }\n",
       "    }, 10, root)\n",
       "  }\n",
       "})(window);</script>"
      ],
      "text/plain": [
       ":Table   [CoinName,Algorithm,ProofType,TotalCoinSupply,TotalCoinsMined,class]"
      ]
     },
     "execution_count": 182,
     "metadata": {
      "application/vnd.holoviews_exec.v0+json": {
       "id": "1102"
      }
     },
     "output_type": "execute_result"
    }
   ],
   "source": [
    "# Create a table with tradable cryptocurrencies.\n",
    "# YOUR CODE HERE\n",
    "combo.hvplot.table(columns=['CoinName', 'Algorithm', 'ProofType', 'TotalCoinSupply', 'TotalCoinsMined', 'class'])"
   ]
  },
  {
   "cell_type": "code",
   "execution_count": 191,
   "metadata": {},
   "outputs": [
    {
     "name": "stdout",
     "output_type": "stream",
     "text": [
      "There are 532 tradable cryptocurrencies.\n"
     ]
    }
   ],
   "source": [
    "# Print the total number of tradable cryptocurrencies.\n",
    "# YOUR CODE HERE\n",
    "# total = combo['CoinName'].count()\n",
    "print(f\"There are {combo['CoinName'].count()} tradable cryptocurrencies.\")\n"
   ]
  },
  {
   "cell_type": "code",
   "execution_count": 195,
   "metadata": {},
   "outputs": [],
   "source": [
    "# Scaling data to create the scatter plot with tradable cryptocurrencies.\n",
    "# YOUR CODE HERE\n",
    "scaler = MinMaxScaler()"
   ]
  },
  {
   "cell_type": "code",
   "execution_count": 202,
   "metadata": {},
   "outputs": [
    {
     "data": {
      "text/plain": [
       "PC 1               float64\n",
       "PC 2               float64\n",
       "PC 3               float64\n",
       "class                int32\n",
       "CoinName            object\n",
       "Algorithm           object\n",
       "ProofType           object\n",
       "TotalCoinsMined    float64\n",
       "TotalCoinSupply     object\n",
       "dtype: object"
      ]
     },
     "execution_count": 202,
     "metadata": {},
     "output_type": "execute_result"
    }
   ],
   "source": [
    "combo.dtypes"
   ]
  },
  {
   "cell_type": "code",
   "execution_count": 207,
   "metadata": {},
   "outputs": [],
   "source": [
    "# combo_convert = pd.get_dummies(combo, columns = [\"TotalCoinSupply\", \"TotalCoinsMined\"])"
   ]
  },
  {
   "cell_type": "code",
   "execution_count": 208,
   "metadata": {},
   "outputs": [],
   "source": [
    "# combo_convert.head()"
   ]
  },
  {
   "cell_type": "code",
   "execution_count": 209,
   "metadata": {},
   "outputs": [],
   "source": [
    "# tcs = combo_convert.loc[combo_convert[\"TotalCoinsMined\"] < 1]"
   ]
  },
  {
   "cell_type": "code",
   "execution_count": null,
   "metadata": {},
   "outputs": [],
   "source": [
    "# tcm = combo.loc[combo[\"TotalCoinsMined\"] < 1]"
   ]
  },
  {
   "cell_type": "code",
   "execution_count": 210,
   "metadata": {},
   "outputs": [],
   "source": [
    "# combo_scaled = scaler.fit_transform(combo['TotalCoinSupply','TotalCoinsMined'])\n"
   ]
  },
  {
   "cell_type": "code",
   "execution_count": null,
   "metadata": {
    "collapsed": true
   },
   "outputs": [],
   "source": []
  },
  {
   "cell_type": "code",
   "execution_count": null,
   "metadata": {},
   "outputs": [],
   "source": []
  },
  {
   "cell_type": "code",
   "execution_count": null,
   "metadata": {},
   "outputs": [],
   "source": [
    "# Create a new DataFrame that has the scaled data with the clustered_df DataFrame index.\n",
    "# YOUR CODE HERE\n",
    "\n",
    "# Add the \"CoinName\" column from the clustered_df DataFrame to the new DataFrame.\n",
    "# YOUR CODE HERE\n",
    "\n",
    "# Add the \"Class\" column from the clustered_df DataFrame to the new DataFrame. \n",
    "# YOUR CODE HERE\n",
    "\n",
    "plot_df.head(10)"
   ]
  },
  {
   "cell_type": "code",
   "execution_count": null,
   "metadata": {},
   "outputs": [],
   "source": [
    "# Create a hvplot.scatter plot using x=\"TotalCoinsMined\" and y=\"TotalCoinSupply\".\n",
    "# YOUR CODE HERE\n"
   ]
  },
  {
   "cell_type": "code",
   "execution_count": null,
   "metadata": {},
   "outputs": [],
   "source": []
  }
 ],
 "metadata": {
  "file_extension": ".py",
  "kernelspec": {
   "display_name": "PythonData",
   "language": "python",
   "name": "pythondata"
  },
  "language_info": {
   "codemirror_mode": {
    "name": "ipython",
    "version": 3
   },
   "file_extension": ".py",
   "mimetype": "text/x-python",
   "name": "python",
   "nbconvert_exporter": "python",
   "pygments_lexer": "ipython3",
   "version": "3.7.7"
  },
  "latex_envs": {
   "LaTeX_envs_menu_present": true,
   "autoclose": false,
   "autocomplete": true,
   "bibliofile": "biblio.bib",
   "cite_by": "apalike",
   "current_citInitial": 1,
   "eqLabelWithNumbers": true,
   "eqNumInitial": 1,
   "hotkeys": {
    "equation": "Ctrl-E",
    "itemize": "Ctrl-I"
   },
   "labels_anchors": false,
   "latex_user_defs": false,
   "report_style_numbering": false,
   "user_envs_cfg": false
  },
  "mimetype": "text/x-python",
  "name": "python",
  "npconvert_exporter": "python",
  "pygments_lexer": "ipython3",
  "version": 3
 },
 "nbformat": 4,
 "nbformat_minor": 2
}
